{
  "cells": [
    {
      "cell_type": "markdown",
      "metadata": {
        "id": "view-in-github",
        "colab_type": "text"
      },
      "source": [
        "<a href=\"https://colab.research.google.com/github/mohdammar128/Machine-Learning/blob/main/Linear_Regression.ipynb\" target=\"_parent\"><img src=\"https://colab.research.google.com/assets/colab-badge.svg\" alt=\"Open In Colab\"/></a>"
      ]
    },
    {
      "cell_type": "markdown",
      "metadata": {
        "id": "bx00qan3MUFH"
      },
      "source": [
        "## Problem Statement\n",
        "\n",
        "A Company maintains a database of the salary and benefits paid to city employees since the financial year 2015. This is data representing the employee reimbursement report.\n",
        "We have to build a model to build the Employee Reimbursement based on other variables"
      ]
    },
    {
      "cell_type": "markdown",
      "metadata": {
        "id": "PNhHvIDCMUFJ"
      },
      "source": [
        "**Year:** Year of reimbursement\n",
        "\n",
        "**Type_of_yr:** Financial (July through June) or Calendar (January through December)\n",
        "\n",
        "**Emp_ID:**\tEach distinct number in the column represents one employee.  \n",
        "\n",
        "**Income:**\tIncome paid to permanent or temporary City employees. <br>\n",
        "\n",
        "**Other_Income:** Various irregular payments made to City employees including premium pay, incentive pay, or other one-time payments.\n",
        "\n",
        "**Overtime:** Amounts paid to employees for working in excess of 40 hours per week.\n",
        "\n",
        "**Total_Income:** The sum of all income paid to employees.\n",
        "\n",
        "**Health_Insurance:** Paid premiums to health insurance plans covering employees.\n",
        "\n",
        "**Retirement:**\t City contributions to employee retirement plans. <br>\n",
        "\n",
        "**Other_Benefits:** Benefits paid on behalf of employees that are not included in the above categories.<br>\n",
        "\n",
        "**Total_Benefits:**\tThe sum of all benefits paid to City employees.<br>\n",
        "\n",
        "**Total_Reimbursement:** The sum of all the income and benefits paid to City employees."
      ]
    },
    {
      "cell_type": "markdown",
      "metadata": {
        "id": "6B9aQMa4MUFL"
      },
      "source": [
        "## Table of Content\n",
        "\n",
        "1. **[Import Libraries](#lib)**\n",
        "2. **[Data Preparation](#prep)**\n",
        "    - 2.1 - **[Understand the Data](#read)**\n",
        "    - 2.2 - **[Outlier Analysis and Treatment](#outlier)**\n",
        "    - 2.3 - **[Missing Value Analysis and Treatment](#null)**\n",
        "    - 2.4 - **[Scale the Data](#scale)**\n",
        "3. **[What is Regression Analysis?](#def)**\n",
        "4. **[Bivariate Regression](#Bivariate)**\n",
        "   - 4.1 - **[Ordinary Least Square Method (OLS)](#lsm)**\n",
        "   - 4.2 - **[Measures of Variation](#mv)**\n",
        "      - 4.2.1 - **[Sum of Squared Residuals (SSR)](#ssr)**\n",
        "      - 4.2.2 - **[Sum of Squared Error (SSE)](#sse)**\n",
        "      - 4.2.3 - **[Sum of Squared Total (SST)](#sst)**\n",
        "      - 4.2.4 - **[Coefficient of Determination (R-Squared)](#r2)**\n",
        "      - 4.2.5 - **[Standard Error of Estimate (SEE)](#see)**\n",
        "   - 4.3 - **[Inferences about Slope and Intercept](#inf)**\n",
        "      - 4.3.1 - **[Interpretation of Slope and Intercept](#inter)**\n",
        "      - 4.3.2 - **[The t-test for Slope and Intercept](#t_test)**\n",
        "      - 4.3.3 - **[Confidence Interval for Slope and Intercept](#ci)**\n",
        "      - 4.3.4 - **[ANOVA for SLR](#anova)**\n",
        "5. **[Multiple Linear Regression (MLR)](#MLR)**\n",
        "    - 5.1 - **[Assumptions Before MLR Model](#before)**\n",
        "        - 5.1.1 - **[Assumption on Dependent Variable](#dep_num)**\n",
        "        - 5.1.2 - **[No or Little Multicollinearity](#no_multi)**\n",
        "          - 5.1.2.1 - **[Correlation Matrix](#corr)**\n",
        "          - 5.1.2.2 - **[Variance Inflation Factor (VIF)](#vif)**\n",
        "    - 5.2 - **[Build the MLR Model](#model)**\n",
        "       - 5.2.1 - **[MLR Full Model](#full)**\n",
        "       - 5.2.2 - **[MLR Model after Removing Insignificant Variables](#signi_var)**\n",
        "       - 5.2.3 - **[MLR Model with Interaction Effect](#interaction)**\n",
        "    - 5.3 - **[Assumptions After MLR Model](#assum)**\n",
        "        - 5.3.1 - **[Linear Relationship between Dependent and Independent Variable](#linear_reln)**\n",
        "        - 5.3.2 - **[Autocorrelation](#auto)**\n",
        "        - 5.3.3 - **[Heteroskedasticity](#sked)**\n",
        "        - 5.3.4 - **[Tests for Normality](#normality)**\n",
        "6. **[Model Evaluation](#eval)**\n",
        "    - 6.1 - **[R-Squared](#R_squared)**\n",
        "    - 6.2 - **[Adjusted R-Squared](#Adj_R_test)**\n",
        "    - 6.3 - **[Overall F-Test & p-value of the Model](#overall)**\n",
        "7. **[Model Performance](#ml_perf)**\n",
        "    - 7.1 - **[Mean Squared Error (MSE)](#mse)**\n",
        "    - 7.2 - **[Root Mean Squared Error (RMSE)](#rmse)**\n",
        "    - 7.3 - **[Mean Absolute Error (MAE)](#mae)**\n",
        "    - 7.4 - **[Mean Absolute Percentage Error (MAPE)](#mape)**\n",
        "8. **[Compare Model Performances](#compare)**"
      ]
    },
    {
      "cell_type": "markdown",
      "metadata": {
        "id": "lhIx3yBbMUFO"
      },
      "source": [
        "<a id=\"lib\"></a>\n",
        "# 1. Import Libraries"
      ]
    },
    {
      "cell_type": "markdown",
      "metadata": {
        "id": "7d86Qv9WMUFP"
      },
      "source": [
        "**Let us import the required libraries.**"
      ]
    },
    {
      "cell_type": "code",
      "execution_count": null,
      "metadata": {
        "id": "itjSbB6AMUFR"
      },
      "outputs": [],
      "source": [
        "# import 'Pandas'\n",
        "import pandas as pd\n",
        "\n",
        "# import 'Numpy'\n",
        "import numpy as np\n",
        "\n",
        "# import subpackage of Matplotlib\n",
        "import matplotlib.pyplot as plt\n",
        "\n",
        "# import 'Seaborn'\n",
        "import seaborn as sns\n",
        "\n",
        "# to suppress warnings\n",
        "from warnings import filterwarnings\n",
        "filterwarnings('ignore')\n",
        "\n",
        "# display all columns of the dataframe\n",
        "pd.options.display.max_columns = None\n",
        "\n",
        "# display all rows of the dataframe\n",
        "pd.options.display.max_rows = None\n",
        "\n",
        "# to display the float values upto 6 decimal places\n",
        "pd.options.display.float_format = '{:.6f}'.format\n",
        "\n",
        "# import train-test split\n",
        "from sklearn.model_selection import train_test_split\n",
        "\n",
        "# import various functions from statsmodel to perform linear regression\n",
        "import statsmodels\n",
        "import statsmodels.api as sm\n",
        "import statsmodels.stats.api as sms\n",
        "from statsmodels.compat import lzip\n",
        "from statsmodels.stats.outliers_influence import variance_inflation_factor\n",
        "from statsmodels.graphics.gofplots import qqplot\n",
        "from statsmodels.stats.anova import anova_lm\n",
        "from statsmodels.formula.api import ols\n",
        "from statsmodels.tools.eval_measures import rmse\n",
        "\n",
        "# import various functions from scipy\n",
        "from scipy import stats\n",
        "from scipy.stats import shapiro\n",
        "\n",
        "# 'metrics' from sklearn is used for evaluating the model performance\n",
        "from sklearn.metrics import mean_absolute_error\n",
        "from sklearn.metrics import mean_squared_error"
      ]
    },
    {
      "cell_type": "markdown",
      "metadata": {
        "id": "5Pn7epGDMUFU"
      },
      "source": [
        "<a id=\"prep\"></a>\n",
        "# 2. Data Preparation"
      ]
    },
    {
      "cell_type": "markdown",
      "metadata": {
        "id": "YHeaMeqIMUFV"
      },
      "source": [
        "<a id=\"read\"></a>\n",
        "## 2.1 Understand the Data"
      ]
    },
    {
      "cell_type": "markdown",
      "metadata": {
        "id": "VF8OLhYxMUFX"
      },
      "source": [
        "#### Read the dataset and print the first five observations."
      ]
    },
    {
      "cell_type": "code",
      "execution_count": null,
      "metadata": {
        "id": "dV99JOAyMUFY",
        "outputId": "549ec0a8-26dd-47de-a68f-3ef651f10ae4",
        "scrolled": false
      },
      "outputs": [
        {
          "data": {
            "text/html": [
              "<div>\n",
              "<style scoped>\n",
              "    .dataframe tbody tr th:only-of-type {\n",
              "        vertical-align: middle;\n",
              "    }\n",
              "\n",
              "    .dataframe tbody tr th {\n",
              "        vertical-align: top;\n",
              "    }\n",
              "\n",
              "    .dataframe thead th {\n",
              "        text-align: right;\n",
              "    }\n",
              "</style>\n",
              "<table border=\"1\" class=\"dataframe\">\n",
              "  <thead>\n",
              "    <tr style=\"text-align: right;\">\n",
              "      <th></th>\n",
              "      <th>Year</th>\n",
              "      <th>Type_of_yr</th>\n",
              "      <th>Emp_ID</th>\n",
              "      <th>Income</th>\n",
              "      <th>Other_Income</th>\n",
              "      <th>Overtime</th>\n",
              "      <th>Total_Income</th>\n",
              "      <th>Health_Insurance</th>\n",
              "      <th>Retirement</th>\n",
              "      <th>Other_Benefits</th>\n",
              "      <th>Total_Benefits</th>\n",
              "      <th>Total_Reimbursement</th>\n",
              "    </tr>\n",
              "  </thead>\n",
              "  <tbody>\n",
              "    <tr>\n",
              "      <th>0</th>\n",
              "      <td>2015</td>\n",
              "      <td>Financial</td>\n",
              "      <td>42865</td>\n",
              "      <td>92288.220000</td>\n",
              "      <td>267.450000</td>\n",
              "      <td>270.450000</td>\n",
              "      <td>92826.120000</td>\n",
              "      <td>12500.560000</td>\n",
              "      <td>20703.200000</td>\n",
              "      <td>7605.750000</td>\n",
              "      <td>40809.510000</td>\n",
              "      <td>133635.630000</td>\n",
              "    </tr>\n",
              "    <tr>\n",
              "      <th>1</th>\n",
              "      <td>2015</td>\n",
              "      <td>Calendar</td>\n",
              "      <td>28253</td>\n",
              "      <td>1466.380000</td>\n",
              "      <td>0.000000</td>\n",
              "      <td>350.230000</td>\n",
              "      <td>1816.610000</td>\n",
              "      <td>442.030000</td>\n",
              "      <td>3.000000</td>\n",
              "      <td>141.590000</td>\n",
              "      <td>586.620000</td>\n",
              "      <td>2403.230000</td>\n",
              "    </tr>\n",
              "    <tr>\n",
              "      <th>2</th>\n",
              "      <td>2018</td>\n",
              "      <td>Financial</td>\n",
              "      <td>30664</td>\n",
              "      <td>76536.950000</td>\n",
              "      <td>10855.940000</td>\n",
              "      <td>13586.720000</td>\n",
              "      <td>100979.610000</td>\n",
              "      <td>12464.610000</td>\n",
              "      <td>18636.190000</td>\n",
              "      <td>8011.410000</td>\n",
              "      <td>39112.210000</td>\n",
              "      <td>140091.820000</td>\n",
              "    </tr>\n",
              "    <tr>\n",
              "      <th>3</th>\n",
              "      <td>2018</td>\n",
              "      <td>Financial</td>\n",
              "      <td>19482</td>\n",
              "      <td>45659.880000</td>\n",
              "      <td>1625.370000</td>\n",
              "      <td>3.000000</td>\n",
              "      <td>47288.250000</td>\n",
              "      <td>0.000000</td>\n",
              "      <td>10084.200000</td>\n",
              "      <td>3936.630000</td>\n",
              "      <td>14020.830000</td>\n",
              "      <td>61309.080000</td>\n",
              "    </tr>\n",
              "    <tr>\n",
              "      <th>4</th>\n",
              "      <td>2017</td>\n",
              "      <td>Financial</td>\n",
              "      <td>7183</td>\n",
              "      <td>41832.000000</td>\n",
              "      <td>0.000000</td>\n",
              "      <td>6.000000</td>\n",
              "      <td>41838.000000</td>\n",
              "      <td>5908.520000</td>\n",
              "      <td>7621.600000</td>\n",
              "      <td>3254.500000</td>\n",
              "      <td>16784.620000</td>\n",
              "      <td>58622.620000</td>\n",
              "    </tr>\n",
              "  </tbody>\n",
              "</table>\n",
              "</div>"
            ],
            "text/plain": [
              "   Year Type_of_yr  Emp_ID       Income  Other_Income     Overtime  \\\n",
              "0  2015  Financial   42865 92288.220000    267.450000   270.450000   \n",
              "1  2015   Calendar   28253  1466.380000      0.000000   350.230000   \n",
              "2  2018  Financial   30664 76536.950000  10855.940000 13586.720000   \n",
              "3  2018  Financial   19482 45659.880000   1625.370000     3.000000   \n",
              "4  2017  Financial    7183 41832.000000      0.000000     6.000000   \n",
              "\n",
              "   Total_Income  Health_Insurance   Retirement  Other_Benefits  \\\n",
              "0  92826.120000      12500.560000 20703.200000     7605.750000   \n",
              "1   1816.610000        442.030000     3.000000      141.590000   \n",
              "2 100979.610000      12464.610000 18636.190000     8011.410000   \n",
              "3  47288.250000          0.000000 10084.200000     3936.630000   \n",
              "4  41838.000000       5908.520000  7621.600000     3254.500000   \n",
              "\n",
              "   Total_Benefits  Total_Reimbursement  \n",
              "0    40809.510000        133635.630000  \n",
              "1      586.620000          2403.230000  \n",
              "2    39112.210000        140091.820000  \n",
              "3    14020.830000         61309.080000  \n",
              "4    16784.620000         58622.620000  "
            ]
          },
          "execution_count": 2,
          "metadata": {},
          "output_type": "execute_result"
        }
      ],
      "source": [
        "# load the csv file\n",
        "# store the data in 'df_reimb'\n",
        "df_reimb = pd.read_csv('Emp_reimb.csv')\n",
        "\n",
        "# display first five observations using head()\n",
        "df_reimb.head()"
      ]
    },
    {
      "cell_type": "markdown",
      "metadata": {
        "id": "yd9oCEUEMUFa"
      },
      "source": [
        "**Let us now see the number of variables and observations in the data.**"
      ]
    },
    {
      "cell_type": "code",
      "execution_count": null,
      "metadata": {
        "id": "dSJEGiUIMUFb",
        "outputId": "8a64805a-3376-489e-8f87-4acd8c0653b3"
      },
      "outputs": [
        {
          "data": {
            "text/plain": [
              "(49794, 12)"
            ]
          },
          "execution_count": 3,
          "metadata": {},
          "output_type": "execute_result"
        }
      ],
      "source": [
        "# use 'shape' to check the dimension of data\n",
        "df_reimb.shape"
      ]
    },
    {
      "cell_type": "markdown",
      "metadata": {
        "id": "xbVhxbhHMUFc"
      },
      "source": [
        "**Interpretation:** The data has 49794 observations and 12 variables."
      ]
    },
    {
      "cell_type": "markdown",
      "metadata": {
        "id": "2OBj9VY1MUFd"
      },
      "source": [
        "**Get a concise summary of the DataFrame.**"
      ]
    },
    {
      "cell_type": "code",
      "execution_count": null,
      "metadata": {
        "id": "lzpBPgcUMUFd",
        "outputId": "daefa752-c9e8-4ed4-a897-f9d9b3b1f2ef",
        "scrolled": false
      },
      "outputs": [
        {
          "name": "stdout",
          "output_type": "stream",
          "text": [
            "<class 'pandas.core.frame.DataFrame'>\n",
            "RangeIndex: 49794 entries, 0 to 49793\n",
            "Data columns (total 12 columns):\n",
            " #   Column               Non-Null Count  Dtype  \n",
            "---  ------               --------------  -----  \n",
            " 0   Year                 49794 non-null  int64  \n",
            " 1   Type_of_yr           49794 non-null  object \n",
            " 2   Emp_ID               49794 non-null  int64  \n",
            " 3   Income               49794 non-null  float64\n",
            " 4   Other_Income         49794 non-null  float64\n",
            " 5   Overtime             49794 non-null  float64\n",
            " 6   Total_Income         49794 non-null  float64\n",
            " 7   Health_Insurance     49794 non-null  float64\n",
            " 8   Retirement           49794 non-null  float64\n",
            " 9   Other_Benefits       49794 non-null  float64\n",
            " 10  Total_Benefits       49794 non-null  float64\n",
            " 11  Total_Reimbursement  49794 non-null  float64\n",
            "dtypes: float64(9), int64(2), object(1)\n",
            "memory usage: 4.6+ MB\n"
          ]
        }
      ],
      "source": [
        "# use 'info()' to understand the dataset\n",
        "df_reimb.info()"
      ]
    },
    {
      "cell_type": "markdown",
      "metadata": {
        "id": "LSg5uNaMMUFe"
      },
      "source": [
        "**Interpretation:** The variable `Type_of_yr` is categorical. All the other variables are numerical.\n",
        "\n",
        "From the above output, we see that the data type of `Year` is 'int64'.\n",
        "\n",
        "But according to the data definition, `Year` is categorical variable, which is wrongly interpreted as 'int64', so we will convert these variables data type to 'object'."
      ]
    },
    {
      "cell_type": "markdown",
      "metadata": {
        "id": "zpBNdpypMUFe"
      },
      "source": [
        "#### Change the data type as per the data definition."
      ]
    },
    {
      "cell_type": "code",
      "execution_count": null,
      "metadata": {
        "id": "etCB7U0HMUFf"
      },
      "outputs": [],
      "source": [
        "# convert numerical variables to categorical (object)\n",
        "# use astype() to change the data type\n",
        "\n",
        "# change the data type of 'Year'\n",
        "df_reimb['Year'] = df_reimb['Year'].astype(object)"
      ]
    },
    {
      "cell_type": "markdown",
      "metadata": {
        "id": "6szKrM-oMUFg"
      },
      "source": [
        "#### Recheck the data type after the conversion."
      ]
    },
    {
      "cell_type": "code",
      "execution_count": null,
      "metadata": {
        "id": "zza2nzLqMUFg",
        "outputId": "e063e9e0-edbb-475e-9502-104ea0e3ab99"
      },
      "outputs": [
        {
          "data": {
            "text/plain": [
              "Year                    object\n",
              "Type_of_yr              object\n",
              "Emp_ID                   int64\n",
              "Income                 float64\n",
              "Other_Income           float64\n",
              "Overtime               float64\n",
              "Total_Income           float64\n",
              "Health_Insurance       float64\n",
              "Retirement             float64\n",
              "Other_Benefits         float64\n",
              "Total_Benefits         float64\n",
              "Total_Reimbursement    float64\n",
              "dtype: object"
            ]
          },
          "execution_count": 4,
          "metadata": {},
          "output_type": "execute_result"
        }
      ],
      "source": [
        "# recheck the data types using 'dtypes'\n",
        "df_reimb.dtypes"
      ]
    },
    {
      "cell_type": "markdown",
      "metadata": {
        "id": "12ZH7sWsMUFh"
      },
      "source": [
        "**Interpretation:** Now, all the variables have the correct data type."
      ]
    },
    {
      "cell_type": "markdown",
      "metadata": {
        "id": "i2LRPlnnMUFh"
      },
      "source": [
        "<a id=\"drop\"></a>\n",
        "## 2.3 Remove Insignificant Variables"
      ]
    },
    {
      "cell_type": "markdown",
      "metadata": {
        "id": "l0hUNZ99MUFi"
      },
      "source": [
        "The column `Emp_ID` contains the id of the employee, which is redundant for further analysis. Thus, we drop the column."
      ]
    },
    {
      "cell_type": "code",
      "execution_count": null,
      "metadata": {
        "id": "-OFO8bUVMUFi"
      },
      "outputs": [],
      "source": [
        "# drop the column 'Emp_ID' using drop()\n",
        "# 'axis = 1' drops the specified column\n",
        "df_reimb = df_reimb.drop('Emp_ID',axis=1)"
      ]
    },
    {
      "cell_type": "markdown",
      "metadata": {
        "id": "cs_R-5qXMUFj"
      },
      "source": [
        "<a id=\"outlier\"></a>\n",
        "## 2.2 Outlier Analysis and Treatment"
      ]
    },
    {
      "cell_type": "markdown",
      "metadata": {
        "id": "3rODA4gSMUFj"
      },
      "source": [
        "**Check the outliers in all the variables and treat them using appropriate techniques.**"
      ]
    },
    {
      "cell_type": "code",
      "execution_count": null,
      "metadata": {
        "id": "klwOlTe1MUFk",
        "outputId": "fdcc5c5f-9b6e-4263-ab84-023242bff4b2"
      },
      "outputs": [
        {
          "data": {
            "image/png": "[encoded data removed]",
            "text/plain": [
              "<Figure size 1080x576 with 1 Axes>"
            ]
          },
          "metadata": {
            "needs_background": "light"
          },
          "output_type": "display_data"
        }
      ],
      "source": [
        "# set the plot size using figure()\n",
        "# pass width and height in inches to 'figsize'\n",
        "plt.figure(figsize = (15,8))\n",
        "\n",
        "# plot a boxplot to visualize the outliers in all the numeric variables\n",
        "df_reimb.boxplot()\n",
        "\n",
        "# set plot label\n",
        "# set text size using 'fontsize'\n",
        "plt.title('Distribution of all Numeric Variables', fontsize = 15)\n",
        "\n",
        "# xticks() returns the x-axis ticks\n",
        "# 'rotation = vertical' rotates the x-axis labels vertically\n",
        "plt.xticks(rotation = 'vertical', fontsize = 15)\n",
        "\n",
        "# display the plot\n",
        "plt.show()"
      ]
    },
    {
      "cell_type": "markdown",
      "metadata": {
        "id": "tKHBq-ZkMUFk"
      },
      "source": [
        "**Notice that the variables 'Income', 'Total_Income' and 'Total_Reimbursement' have a quite large range as compared to the other variables. Thus, it is difficult to see the outliers in such variables. So, we plot the boxplots of independent variables again by not considering the variables 'Income', 'Total_Income' and 'Total_Reimbursement'. The variable Health_Insurance has no outliers.**"
      ]
    },
    {
      "cell_type": "code",
      "execution_count": null,
      "metadata": {
        "id": "MwFeSnDQMUFl",
        "outputId": "acbb8a33-3a69-4420-9aa1-5e8fe7557196"
      },
      "outputs": [
        {
          "data": {
            "image/png": "[encoded data removed]",
            "text/plain": [
              "<Figure size 1080x576 with 1 Axes>"
            ]
          },
          "metadata": {
            "needs_background": "light"
          },
          "output_type": "display_data"
        }
      ],
      "source": [
        "# boxplot of independent variables\n",
        "\n",
        "# set the plot size using figure()\n",
        "# pass width and height in inches to 'figsize'\n",
        "plt.figure(figsize = (15,8))\n",
        "\n",
        "# plot boxplots of all the numeric variables except the variables 'Income', 'Total_Income' and 'Total_Reimbursement'\n",
        "# use 'loc[]' to select the variables\n",
        "df_reimb.loc[:,['Other_Income', 'Overtime', 'Health_Insurance',\n",
        "                'Retirement', 'Other_Benefits', 'Total_Benefits']].boxplot()\n",
        "\n",
        "# set plot label\n",
        "# set text size using 'fontsize'\n",
        "plt.title('Distribution of Independent Variables', fontsize = 15)\n",
        "\n",
        "# xticks() returns the x-axis ticks\n",
        "# 'rotation = vertical' rotates the x-axis labels vertically\n",
        "plt.xticks(rotation = 'vertical', fontsize = 15)\n",
        "\n",
        "# display the plot\n",
        "plt.show()"
      ]
    },
    {
      "cell_type": "markdown",
      "metadata": {
        "id": "55KvlbWUMUFl"
      },
      "source": [
        "**Interpretation:** From the above plots, we notice that all the variables except 'Helath_Insurance' have points above the upper extreme or below the lower extreme - these points are outliers in the data. However, the exact location of these points is not precisely seen.\n",
        "\n",
        "Let us use the IQR method to remove the outliers."
      ]
    },
    {
      "cell_type": "code",
      "execution_count": null,
      "metadata": {
        "id": "FRtmFSFwMUFm",
        "outputId": "2f968a32-60d9-43fb-caad-36416c01ef0c"
      },
      "outputs": [
        {
          "data": {
            "text/plain": [
              "(37601, 11)"
            ]
          },
          "execution_count": 10,
          "metadata": {},
          "output_type": "execute_result"
        }
      ],
      "source": [
        "# calculate the first quartile\n",
        "Q1 = df_reimb.quantile(0.25)\n",
        "\n",
        "# calculate the third quartile\n",
        "Q3 = df_reimb.quantile(0.75)\n",
        "\n",
        "# The Interquartile Range (IQR) is defined as the difference between the third and first quartile\n",
        "# calculate IQR for each numeric variable\n",
        "IQR = Q3 - Q1\n",
        "\n",
        "# retrieve the dataframe without the outliers\n",
        "# '~' returns the values that do not satisfy the given conditions\n",
        "# i.e. it returns values between the range [Q1-1.5*IQR, Q3+1.5*IQR]\n",
        "# '|' is used as 'OR' operator on multiple conditions\n",
        "# 'any(axis=1)' checks the entire row for atleast one\n",
        "#'True' entry (those rows represents outliers in the data)\n",
        "df_reimb = df_reimb[~((df_reimb < (Q1 - 1.5 * IQR)) | (df_reimb > (Q3 + 1.5 * IQR))).any(axis=1)]\n",
        "\n",
        "# check the shape of the data\n",
        "df_reimb.shape"
      ]
    },
    {
      "cell_type": "markdown",
      "metadata": {
        "id": "i3ASP3x4MUFm"
      },
      "source": [
        "**Interpretation:** A crude way to know whether the outliers have been removed or not is to check the dimensions of the data. From the above output, we can see that the dimensions are reduced that implies outliers are removed."
      ]
    },
    {
      "cell_type": "markdown",
      "metadata": {
        "id": "p1rLnh56MUFn"
      },
      "source": [
        "<a id=\"null\"></a>\n",
        "## 2.3 Missing Value Analysis and Treatment"
      ]
    },
    {
      "cell_type": "markdown",
      "metadata": {
        "id": "063IkowJMUFn"
      },
      "source": [
        "**Check the presence of missing values in the data and treat them.**"
      ]
    },
    {
      "cell_type": "code",
      "execution_count": null,
      "metadata": {
        "id": "yXZgKNs4MUFn",
        "outputId": "917fe77c-1285-48d7-b82b-e67cf0c7bb42"
      },
      "outputs": [
        {
          "data": {
            "text/html": [
              "<div>\n",
              "<style scoped>\n",
              "    .dataframe tbody tr th:only-of-type {\n",
              "        vertical-align: middle;\n",
              "    }\n",
              "\n",
              "    .dataframe tbody tr th {\n",
              "        vertical-align: top;\n",
              "    }\n",
              "\n",
              "    .dataframe thead th {\n",
              "        text-align: right;\n",
              "    }\n",
              "</style>\n",
              "<table border=\"1\" class=\"dataframe\">\n",
              "  <thead>\n",
              "    <tr style=\"text-align: right;\">\n",
              "      <th></th>\n",
              "      <th>Total</th>\n",
              "      <th>Percentage of Missing Values</th>\n",
              "    </tr>\n",
              "  </thead>\n",
              "  <tbody>\n",
              "    <tr>\n",
              "      <th>Year</th>\n",
              "      <td>0</td>\n",
              "      <td>0.000000</td>\n",
              "    </tr>\n",
              "    <tr>\n",
              "      <th>Type_of_yr</th>\n",
              "      <td>0</td>\n",
              "      <td>0.000000</td>\n",
              "    </tr>\n",
              "    <tr>\n",
              "      <th>Income</th>\n",
              "      <td>0</td>\n",
              "      <td>0.000000</td>\n",
              "    </tr>\n",
              "    <tr>\n",
              "      <th>Other_Income</th>\n",
              "      <td>0</td>\n",
              "      <td>0.000000</td>\n",
              "    </tr>\n",
              "    <tr>\n",
              "      <th>Overtime</th>\n",
              "      <td>0</td>\n",
              "      <td>0.000000</td>\n",
              "    </tr>\n",
              "    <tr>\n",
              "      <th>Total_Income</th>\n",
              "      <td>0</td>\n",
              "      <td>0.000000</td>\n",
              "    </tr>\n",
              "    <tr>\n",
              "      <th>Health_Insurance</th>\n",
              "      <td>0</td>\n",
              "      <td>0.000000</td>\n",
              "    </tr>\n",
              "    <tr>\n",
              "      <th>Retirement</th>\n",
              "      <td>0</td>\n",
              "      <td>0.000000</td>\n",
              "    </tr>\n",
              "    <tr>\n",
              "      <th>Other_Benefits</th>\n",
              "      <td>0</td>\n",
              "      <td>0.000000</td>\n",
              "    </tr>\n",
              "    <tr>\n",
              "      <th>Total_Benefits</th>\n",
              "      <td>0</td>\n",
              "      <td>0.000000</td>\n",
              "    </tr>\n",
              "    <tr>\n",
              "      <th>Total_Reimbursement</th>\n",
              "      <td>0</td>\n",
              "      <td>0.000000</td>\n",
              "    </tr>\n",
              "  </tbody>\n",
              "</table>\n",
              "</div>"
            ],
            "text/plain": [
              "                     Total  Percentage of Missing Values\n",
              "Year                     0                      0.000000\n",
              "Type_of_yr               0                      0.000000\n",
              "Income                   0                      0.000000\n",
              "Other_Income             0                      0.000000\n",
              "Overtime                 0                      0.000000\n",
              "Total_Income             0                      0.000000\n",
              "Health_Insurance         0                      0.000000\n",
              "Retirement               0                      0.000000\n",
              "Other_Benefits           0                      0.000000\n",
              "Total_Benefits           0                      0.000000\n",
              "Total_Reimbursement      0                      0.000000"
            ]
          },
          "execution_count": 11,
          "metadata": {},
          "output_type": "execute_result"
        }
      ],
      "source": [
        "# sort the variables on the basis of total null values in the variable\n",
        "# 'isnull().sum()' returns the number of missing values in each variable\n",
        "# 'ascending = False' sorts values in the descending order\n",
        "# the variable with highest number of missing values will appear first\n",
        "Total = df_reimb.isnull().sum().sort_values(ascending=False)\n",
        "\n",
        "# calculate percentage of missing values\n",
        "# 'ascending = False' sorts values in the descending order\n",
        "# the variable with highest percentage of missing values will appear first\n",
        "Percent = (df_reimb.isnull().sum()*100/df_reimb.isnull().count()).sort_values(ascending=False)\n",
        "\n",
        "# concat the 'Total' and 'Percent' columns using 'concat' function\n",
        "# pass a list of column names in parameter 'keys'\n",
        "# 'axis = 1' concats along the columns\n",
        "missing_data = pd.concat([Total, Percent], axis=1, keys=['Total', 'Percentage of Missing Values'])\n",
        "missing_data"
      ]
    },
    {
      "cell_type": "markdown",
      "metadata": {
        "id": "tL25v0GjMUFo"
      },
      "source": [
        "**Interpretation:** There are no missing values in the data."
      ]
    },
    {
      "cell_type": "markdown",
      "metadata": {
        "id": "GD4WmP0tMUFp"
      },
      "source": [
        "<a id=\"scale\"></a>\n",
        "## 2.4 Scale the Data"
      ]
    },
    {
      "cell_type": "code",
      "execution_count": null,
      "metadata": {
        "id": "jvcRDVg1MUFp",
        "outputId": "76f0df18-312b-4686-d5e3-bc356371bdc1"
      },
      "outputs": [
        {
          "data": {
            "text/html": [
              "<div>\n",
              "<style scoped>\n",
              "    .dataframe tbody tr th:only-of-type {\n",
              "        vertical-align: middle;\n",
              "    }\n",
              "\n",
              "    .dataframe tbody tr th {\n",
              "        vertical-align: top;\n",
              "    }\n",
              "\n",
              "    .dataframe thead th {\n",
              "        text-align: right;\n",
              "    }\n",
              "</style>\n",
              "<table border=\"1\" class=\"dataframe\">\n",
              "  <thead>\n",
              "    <tr style=\"text-align: right;\">\n",
              "      <th></th>\n",
              "      <th>Year</th>\n",
              "      <th>Type_of_yr</th>\n",
              "      <th>Income</th>\n",
              "      <th>Other_Income</th>\n",
              "      <th>Overtime</th>\n",
              "      <th>Total_Income</th>\n",
              "      <th>Health_Insurance</th>\n",
              "      <th>Retirement</th>\n",
              "      <th>Other_Benefits</th>\n",
              "      <th>Total_Benefits</th>\n",
              "      <th>Total_Reimbursement</th>\n",
              "    </tr>\n",
              "  </thead>\n",
              "  <tbody>\n",
              "    <tr>\n",
              "      <th>0</th>\n",
              "      <td>2015</td>\n",
              "      <td>Financial</td>\n",
              "      <td>92288.220000</td>\n",
              "      <td>267.450000</td>\n",
              "      <td>270.450000</td>\n",
              "      <td>92826.120000</td>\n",
              "      <td>12500.560000</td>\n",
              "      <td>20703.200000</td>\n",
              "      <td>7605.750000</td>\n",
              "      <td>40809.510000</td>\n",
              "      <td>133635.630000</td>\n",
              "    </tr>\n",
              "    <tr>\n",
              "      <th>1</th>\n",
              "      <td>2015</td>\n",
              "      <td>Calendar</td>\n",
              "      <td>1466.380000</td>\n",
              "      <td>0.000000</td>\n",
              "      <td>350.230000</td>\n",
              "      <td>1816.610000</td>\n",
              "      <td>442.030000</td>\n",
              "      <td>3.000000</td>\n",
              "      <td>141.590000</td>\n",
              "      <td>586.620000</td>\n",
              "      <td>2403.230000</td>\n",
              "    </tr>\n",
              "    <tr>\n",
              "      <th>3</th>\n",
              "      <td>2018</td>\n",
              "      <td>Financial</td>\n",
              "      <td>45659.880000</td>\n",
              "      <td>1625.370000</td>\n",
              "      <td>3.000000</td>\n",
              "      <td>47288.250000</td>\n",
              "      <td>0.000000</td>\n",
              "      <td>10084.200000</td>\n",
              "      <td>3936.630000</td>\n",
              "      <td>14020.830000</td>\n",
              "      <td>61309.080000</td>\n",
              "    </tr>\n",
              "    <tr>\n",
              "      <th>4</th>\n",
              "      <td>2017</td>\n",
              "      <td>Financial</td>\n",
              "      <td>41832.000000</td>\n",
              "      <td>0.000000</td>\n",
              "      <td>6.000000</td>\n",
              "      <td>41838.000000</td>\n",
              "      <td>5908.520000</td>\n",
              "      <td>7621.600000</td>\n",
              "      <td>3254.500000</td>\n",
              "      <td>16784.620000</td>\n",
              "      <td>58622.620000</td>\n",
              "    </tr>\n",
              "    <tr>\n",
              "      <th>5</th>\n",
              "      <td>2017</td>\n",
              "      <td>Calendar</td>\n",
              "      <td>74132.000000</td>\n",
              "      <td>1443.420000</td>\n",
              "      <td>4.000000</td>\n",
              "      <td>75579.420000</td>\n",
              "      <td>12888.340000</td>\n",
              "      <td>14855.230000</td>\n",
              "      <td>6233.850000</td>\n",
              "      <td>33977.420000</td>\n",
              "      <td>109556.840000</td>\n",
              "    </tr>\n",
              "  </tbody>\n",
              "</table>\n",
              "</div>"
            ],
            "text/plain": [
              "   Year Type_of_yr       Income  Other_Income   Overtime  Total_Income  \\\n",
              "0  2015  Financial 92288.220000    267.450000 270.450000  92826.120000   \n",
              "1  2015   Calendar  1466.380000      0.000000 350.230000   1816.610000   \n",
              "3  2018  Financial 45659.880000   1625.370000   3.000000  47288.250000   \n",
              "4  2017  Financial 41832.000000      0.000000   6.000000  41838.000000   \n",
              "5  2017   Calendar 74132.000000   1443.420000   4.000000  75579.420000   \n",
              "\n",
              "   Health_Insurance   Retirement  Other_Benefits  Total_Benefits  \\\n",
              "0      12500.560000 20703.200000     7605.750000    40809.510000   \n",
              "1        442.030000     3.000000      141.590000      586.620000   \n",
              "3          0.000000 10084.200000     3936.630000    14020.830000   \n",
              "4       5908.520000  7621.600000     3254.500000    16784.620000   \n",
              "5      12888.340000 14855.230000     6233.850000    33977.420000   \n",
              "\n",
              "   Total_Reimbursement  \n",
              "0        133635.630000  \n",
              "1          2403.230000  \n",
              "3         61309.080000  \n",
              "4         58622.620000  \n",
              "5        109556.840000  "
            ]
          },
          "execution_count": 12,
          "metadata": {},
          "output_type": "execute_result"
        }
      ],
      "source": [
        "# check the head of the data\n",
        "df_reimb.head()"
      ]
    },
    {
      "cell_type": "code",
      "execution_count": null,
      "metadata": {
        "id": "0DoTBhXxMUFq",
        "outputId": "99c1a645-4a52-4387-ce79-fc76fafce428"
      },
      "outputs": [
        {
          "data": {
            "text/html": [
              "<div>\n",
              "<style scoped>\n",
              "    .dataframe tbody tr th:only-of-type {\n",
              "        vertical-align: middle;\n",
              "    }\n",
              "\n",
              "    .dataframe tbody tr th {\n",
              "        vertical-align: top;\n",
              "    }\n",
              "\n",
              "    .dataframe thead th {\n",
              "        text-align: right;\n",
              "    }\n",
              "</style>\n",
              "<table border=\"1\" class=\"dataframe\">\n",
              "  <thead>\n",
              "    <tr style=\"text-align: right;\">\n",
              "      <th></th>\n",
              "      <th>Year</th>\n",
              "      <th>Type_of_yr</th>\n",
              "      <th>Income</th>\n",
              "      <th>Other_Income</th>\n",
              "      <th>Overtime</th>\n",
              "      <th>Total_Income</th>\n",
              "      <th>Health_Insurance</th>\n",
              "      <th>Retirement</th>\n",
              "      <th>Other_Benefits</th>\n",
              "      <th>Total_Benefits</th>\n",
              "      <th>Total_Reimbursement</th>\n",
              "    </tr>\n",
              "  </thead>\n",
              "  <tbody>\n",
              "    <tr>\n",
              "      <th>0</th>\n",
              "      <td>2015</td>\n",
              "      <td>Financial</td>\n",
              "      <td>0.979272</td>\n",
              "      <td>-0.476483</td>\n",
              "      <td>-0.234449</td>\n",
              "      <td>0.921924</td>\n",
              "      <td>0.911621</td>\n",
              "      <td>1.173963</td>\n",
              "      <td>1.141794</td>\n",
              "      <td>1.156388</td>\n",
              "      <td>0.996728</td>\n",
              "    </tr>\n",
              "    <tr>\n",
              "      <th>1</th>\n",
              "      <td>2015</td>\n",
              "      <td>Calendar</td>\n",
              "      <td>-1.259481</td>\n",
              "      <td>-0.588280</td>\n",
              "      <td>-0.175594</td>\n",
              "      <td>-1.270526</td>\n",
              "      <td>-1.504303</td>\n",
              "      <td>-1.186975</td>\n",
              "      <td>-1.269380</td>\n",
              "      <td>-1.374560</td>\n",
              "      <td>-1.312351</td>\n",
              "    </tr>\n",
              "    <tr>\n",
              "      <th>3</th>\n",
              "      <td>2018</td>\n",
              "      <td>Financial</td>\n",
              "      <td>-0.170114</td>\n",
              "      <td>0.091140</td>\n",
              "      <td>-0.431752</td>\n",
              "      <td>-0.175099</td>\n",
              "      <td>-1.592864</td>\n",
              "      <td>-0.037175</td>\n",
              "      <td>-0.043455</td>\n",
              "      <td>-0.529238</td>\n",
              "      <td>-0.275882</td>\n",
              "    </tr>\n",
              "    <tr>\n",
              "      <th>4</th>\n",
              "      <td>2017</td>\n",
              "      <td>Financial</td>\n",
              "      <td>-0.264471</td>\n",
              "      <td>-0.588280</td>\n",
              "      <td>-0.429539</td>\n",
              "      <td>-0.306397</td>\n",
              "      <td>-0.409093</td>\n",
              "      <td>-0.318044</td>\n",
              "      <td>-0.263806</td>\n",
              "      <td>-0.355332</td>\n",
              "      <td>-0.323152</td>\n",
              "    </tr>\n",
              "    <tr>\n",
              "      <th>5</th>\n",
              "      <td>2017</td>\n",
              "      <td>Calendar</td>\n",
              "      <td>0.531722</td>\n",
              "      <td>0.015083</td>\n",
              "      <td>-0.431014</td>\n",
              "      <td>0.506445</td>\n",
              "      <td>0.989313</td>\n",
              "      <td>0.506980</td>\n",
              "      <td>0.698624</td>\n",
              "      <td>0.726492</td>\n",
              "      <td>0.573053</td>\n",
              "    </tr>\n",
              "  </tbody>\n",
              "</table>\n",
              "</div>"
            ],
            "text/plain": [
              "   Year Type_of_yr    Income  Other_Income  Overtime  Total_Income  \\\n",
              "0  2015  Financial  0.979272     -0.476483 -0.234449      0.921924   \n",
              "1  2015   Calendar -1.259481     -0.588280 -0.175594     -1.270526   \n",
              "3  2018  Financial -0.170114      0.091140 -0.431752     -0.175099   \n",
              "4  2017  Financial -0.264471     -0.588280 -0.429539     -0.306397   \n",
              "5  2017   Calendar  0.531722      0.015083 -0.431014      0.506445   \n",
              "\n",
              "   Health_Insurance  Retirement  Other_Benefits  Total_Benefits  \\\n",
              "0          0.911621    1.173963        1.141794        1.156388   \n",
              "1         -1.504303   -1.186975       -1.269380       -1.374560   \n",
              "3         -1.592864   -0.037175       -0.043455       -0.529238   \n",
              "4         -0.409093   -0.318044       -0.263806       -0.355332   \n",
              "5          0.989313    0.506980        0.698624        0.726492   \n",
              "\n",
              "   Total_Reimbursement  \n",
              "0             0.996728  \n",
              "1            -1.312351  \n",
              "3            -0.275882  \n",
              "4            -0.323152  \n",
              "5             0.573053  "
            ]
          },
          "execution_count": 13,
          "metadata": {},
          "output_type": "execute_result"
        }
      ],
      "source": [
        "# scale the independent numeric and target variable\n",
        "df_reimb.iloc[:, 2:11] = df_reimb.iloc[:, 2:11].apply(lambda rec: (rec - rec.mean()) / rec.std())\n",
        "\n",
        "df_reimb.head()"
      ]
    },
    {
      "cell_type": "markdown",
      "metadata": {
        "id": "0zXNfkaHMUFq"
      },
      "source": [
        "<a id=\"def\"></a>\n",
        "# 3. What is Regression Analysis?"
      ]
    },
    {
      "cell_type": "markdown",
      "metadata": {
        "id": "c9B8h6-oMUFr"
      },
      "source": [
        "#### Dependent variable (y): It is the variable that we predict. It is also known as 'Target' or 'Response' variable. For regression, the dependent variable should be numeric.\n",
        "\n",
        "#### Independent variable (X): It is the variable used in predicting the values of a target variable. There can be one or more independent variables in a dataset. It is also known as 'predictors' or 'features'. These variables can be numerical as well as categorical."
      ]
    },
    {
      "cell_type": "markdown",
      "metadata": {
        "id": "AueI0xNwMUFr"
      },
      "source": [
        "Regression analysis is used to understand the effect of a set of independent variables on the dependent variable. The variables that affect the dependent variable the most can also be identified. Linear regression is one of the methods in regression analysis, which fits the line to predict the values of the dependent variable."
      ]
    },
    {
      "cell_type": "markdown",
      "metadata": {
        "id": "xeuYDDY5MUFr"
      },
      "source": [
        "<a id=\"Bivariate\"></a>\n",
        "# 4. Bivariate Regression"
      ]
    },
    {
      "cell_type": "markdown",
      "metadata": {
        "id": "TOttbjUuMUFs"
      },
      "source": [
        "It determines the linear relationship between the dependent (y) and a independent (X) variable. It is also known as, `Simple Linear Regression (SLR)`. The mathematical equation is given as:<br>\n",
        "<p style='text-indent:30em'> <strong> y = β<sub>0</sub> + β<sub>1</sub>.x + ε </strong> </p>\n",
        "                                                        \n",
        "where,\n",
        "\n",
        "y   =  Dependent variable <br>\n",
        "x   =  Independent variable<br>\n",
        "β<sub>0</sub>  =  Y-intercept (value of y when x = 0)<br>\n",
        "β<sub>1</sub>  =  Beta coefficient of x <br>\n",
        "ε   =  Random error component<br>"
      ]
    },
    {
      "cell_type": "markdown",
      "metadata": {
        "id": "puZKWxsnMUFs"
      },
      "source": [
        "**For bivariate regression, consider 'Total_Reimbursement' as target variable and 'Total_Benefits' as an independent variable from 'df_reimb'.**\n",
        "\n",
        "The test hypothesis for SLR is given as:\n",
        "<p style='text-indent:25em'> <strong> H<sub>o</sub>: Slope (beta coefficient of x) is equal to zero</strong> </p>\n",
        "<p style='text-indent:25em'> <strong> H<sub>1</sub>: Slope (beta coefficient of x) is not equal to zero</strong> </p>"
      ]
    },
    {
      "cell_type": "markdown",
      "metadata": {
        "id": "4dOGxs-yMUFs"
      },
      "source": [
        "<a id=\"lsm\"></a>\n",
        "## 4.1 Ordinary Least Square Method (OLS)"
      ]
    },
    {
      "cell_type": "markdown",
      "metadata": {
        "id": "psVP73x0MUFt"
      },
      "source": [
        "The ordinary least square method aims to minimize the sum of the squared difference between the actual and the predicted values. Squaring ensures that each term is positive. It penalizes the model for the negative error terms. This approach calculates the β<sub>0</sub> and β<sub>1</sub> values that minimize the sum of squared differences along the line of prediction."
      ]
    },
    {
      "cell_type": "markdown",
      "metadata": {
        "id": "Jzch-iXtMUFt"
      },
      "source": [
        "#### Split the data into training and test sets"
      ]
    },
    {
      "cell_type": "code",
      "execution_count": null,
      "metadata": {
        "id": "2jrx5MA6MUFu",
        "outputId": "f418d6dd-0eb3-4c5e-f26d-7807eae6fb1c"
      },
      "outputs": [
        {
          "name": "stdout",
          "output_type": "stream",
          "text": [
            "X_train_slr (26320,)\n",
            "y_train_slr (26320,)\n",
            "X_test_slr (11281,)\n",
            "y_test_slr (11281,)\n"
          ]
        }
      ],
      "source": [
        "# split the independent and target variable into train subset and test subset\n",
        "# set 'random_state' to generate the same dataset each time you run the code\n",
        "# 'test_size' returns the proportion of data to be included in the testing set\n",
        "X_train_slr, X_test_slr, y_train_slr, y_test_slr = train_test_split(df_reimb['Total_Benefits'],\n",
        "                                                                    df_reimb['Total_Reimbursement'],\n",
        "                                                    random_state=1, test_size = 0.3)\n",
        "\n",
        "# check the dimensions of the train & test subset using 'shape'\n",
        "# print dimension of train set\n",
        "print('X_train_slr', X_train_slr.shape)\n",
        "print('y_train_slr', y_train_slr.shape)\n",
        "\n",
        "# print dimension of test set\n",
        "print('X_test_slr', X_test_slr.shape)\n",
        "print('y_test_slr', y_test_slr.shape)"
      ]
    },
    {
      "cell_type": "markdown",
      "metadata": {
        "id": "mnTtlJSWMUFv"
      },
      "source": [
        "**Build the simple linear regression model using the OLS method.**"
      ]
    },
    {
      "cell_type": "code",
      "execution_count": null,
      "metadata": {
        "id": "FlVT9Wr19S7u",
        "outputId": "49cbfa55-55a2-4430-90bf-39ea4c64ad58"
      },
      "outputs": [
        {
          "data": {
            "text/plain": [
              "32437   -0.924063\n",
              "27382    0.897157\n",
              "26627   -1.355352\n",
              "24073    0.797800\n",
              "49495    1.041847\n",
              "Name: Total_Benefits, dtype: float64"
            ]
          },
          "execution_count": 15,
          "metadata": {},
          "output_type": "execute_result"
        }
      ],
      "source": [
        "X_train_slr.head()"
      ]
    },
    {
      "cell_type": "code",
      "execution_count": null,
      "metadata": {
        "id": "s1rO7b78MUFv",
        "outputId": "ded019cc-22e3-43ad-afca-c8d62117f534"
      },
      "outputs": [
        {
          "data": {
            "text/html": [
              "<div>\n",
              "<style scoped>\n",
              "    .dataframe tbody tr th:only-of-type {\n",
              "        vertical-align: middle;\n",
              "    }\n",
              "\n",
              "    .dataframe tbody tr th {\n",
              "        vertical-align: top;\n",
              "    }\n",
              "\n",
              "    .dataframe thead th {\n",
              "        text-align: right;\n",
              "    }\n",
              "</style>\n",
              "<table border=\"1\" class=\"dataframe\">\n",
              "  <thead>\n",
              "    <tr style=\"text-align: right;\">\n",
              "      <th></th>\n",
              "      <th>intercept</th>\n",
              "      <th>Total_Benefits</th>\n",
              "    </tr>\n",
              "  </thead>\n",
              "  <tbody>\n",
              "    <tr>\n",
              "      <th>32437</th>\n",
              "      <td>1.000000</td>\n",
              "      <td>-0.924063</td>\n",
              "    </tr>\n",
              "    <tr>\n",
              "      <th>27382</th>\n",
              "      <td>1.000000</td>\n",
              "      <td>0.897157</td>\n",
              "    </tr>\n",
              "    <tr>\n",
              "      <th>26627</th>\n",
              "      <td>1.000000</td>\n",
              "      <td>-1.355352</td>\n",
              "    </tr>\n",
              "    <tr>\n",
              "      <th>24073</th>\n",
              "      <td>1.000000</td>\n",
              "      <td>0.797800</td>\n",
              "    </tr>\n",
              "    <tr>\n",
              "      <th>49495</th>\n",
              "      <td>1.000000</td>\n",
              "      <td>1.041847</td>\n",
              "    </tr>\n",
              "  </tbody>\n",
              "</table>\n",
              "</div>"
            ],
            "text/plain": [
              "       intercept  Total_Benefits\n",
              "32437   1.000000       -0.924063\n",
              "27382   1.000000        0.897157\n",
              "26627   1.000000       -1.355352\n",
              "24073   1.000000        0.797800\n",
              "49495   1.000000        1.041847"
            ]
          },
          "execution_count": 16,
          "metadata": {},
          "output_type": "execute_result"
        }
      ],
      "source": [
        "# convert the X_train to DataFrame\n",
        "X_train_slr = pd.DataFrame(X_train_slr)\n",
        "\n",
        "# insert a column of intercept to 'X_train_slr'\n",
        "# create an array of ones with length equal to the total number of observations\n",
        "c = np.ones(X_train_slr.shape[0])\n",
        "\n",
        "# A design matrix is a matrix of observations of independent variables whose first column is of ones\n",
        "# If there are 'm' observations and 'n' variables, then the dimension of a design matrix is m * (n+1)\n",
        "\n",
        "# add the intercept\n",
        "# pass location index of intercept to the parameter 'loc'\n",
        "# pass column name to the parameter 'column'\n",
        "# pass the column value to the parameter 'value'\n",
        "X_train_slr.insert(loc = 0, column = 'intercept', value = c)\n",
        "\n",
        "# display the first five rows of design matrix\n",
        "X_train_slr.head()"
      ]
    },
    {
      "cell_type": "code",
      "execution_count": null,
      "metadata": {
        "id": "HVnDYtXDMUFv",
        "outputId": "800952ac-fe53-411a-d6e2-c3d09239016d",
        "scrolled": false
      },
      "outputs": [
        {
          "data": {
            "text/html": [
              "<table class=\"simpletable\">\n",
              "<caption>OLS Regression Results</caption>\n",
              "<tr>\n",
              "  <th>Dep. Variable:</th>    <td>Total_Reimbursement</td> <th>  R-squared:         </th> <td>   0.949</td> \n",
              "</tr>\n",
              "<tr>\n",
              "  <th>Model:</th>                    <td>OLS</td>         <th>  Adj. R-squared:    </th> <td>   0.949</td> \n",
              "</tr>\n",
              "<tr>\n",
              "  <th>Method:</th>              <td>Least Squares</td>    <th>  F-statistic:       </th> <td>4.848e+05</td>\n",
              "</tr>\n",
              "<tr>\n",
              "  <th>Date:</th>              <td>Wed, 22 Feb 2023</td>   <th>  Prob (F-statistic):</th>  <td>  0.00</td>  \n",
              "</tr>\n",
              "<tr>\n",
              "  <th>Time:</th>                  <td>20:40:51</td>       <th>  Log-Likelihood:    </th> <td>  1661.7</td> \n",
              "</tr>\n",
              "<tr>\n",
              "  <th>No. Observations:</th>       <td> 26320</td>        <th>  AIC:               </th> <td>  -3319.</td> \n",
              "</tr>\n",
              "<tr>\n",
              "  <th>Df Residuals:</th>           <td> 26318</td>        <th>  BIC:               </th> <td>  -3303.</td> \n",
              "</tr>\n",
              "<tr>\n",
              "  <th>Df Model:</th>               <td>     1</td>        <th>                     </th>     <td> </td>    \n",
              "</tr>\n",
              "<tr>\n",
              "  <th>Covariance Type:</th>       <td>nonrobust</td>      <th>                     </th>     <td> </td>    \n",
              "</tr>\n",
              "</table>\n",
              "<table class=\"simpletable\">\n",
              "<tr>\n",
              "         <td></td>           <th>coef</th>     <th>std err</th>      <th>t</th>      <th>P>|t|</th>  <th>[0.025</th>    <th>0.975]</th>  \n",
              "</tr>\n",
              "<tr>\n",
              "  <th>intercept</th>      <td> 1.466e-05</td> <td>    0.001</td> <td>    0.010</td> <td> 0.992</td> <td>   -0.003</td> <td>    0.003</td>\n",
              "</tr>\n",
              "<tr>\n",
              "  <th>Total_Benefits</th> <td>    0.9744</td> <td>    0.001</td> <td>  696.263</td> <td> 0.000</td> <td>    0.972</td> <td>    0.977</td>\n",
              "</tr>\n",
              "</table>\n",
              "<table class=\"simpletable\">\n",
              "<tr>\n",
              "  <th>Omnibus:</th>       <td>12064.055</td> <th>  Durbin-Watson:     </th>  <td>   2.006</td> \n",
              "</tr>\n",
              "<tr>\n",
              "  <th>Prob(Omnibus):</th>  <td> 0.000</td>   <th>  Jarque-Bera (JB):  </th> <td>117016.449</td>\n",
              "</tr>\n",
              "<tr>\n",
              "  <th>Skew:</th>           <td> 1.965</td>   <th>  Prob(JB):          </th>  <td>    0.00</td> \n",
              "</tr>\n",
              "<tr>\n",
              "  <th>Kurtosis:</th>       <td>12.553</td>   <th>  Cond. No.          </th>  <td>    1.00</td> \n",
              "</tr>\n",
              "</table><br/><br/>Notes:<br/>[1] Standard Errors assume that the covariance matrix of the errors is correctly specified."
            ],
            "text/plain": [
              "<class 'statsmodels.iolib.summary.Summary'>\n",
              "\"\"\"\n",
              "                             OLS Regression Results                            \n",
              "===============================================================================\n",
              "Dep. Variable:     Total_Reimbursement   R-squared:                       0.949\n",
              "Model:                             OLS   Adj. R-squared:                  0.949\n",
              "Method:                  Least Squares   F-statistic:                 4.848e+05\n",
              "Date:                 Wed, 22 Feb 2023   Prob (F-statistic):               0.00\n",
              "Time:                         20:40:51   Log-Likelihood:                 1661.7\n",
              "No. Observations:                26320   AIC:                            -3319.\n",
              "Df Residuals:                    26318   BIC:                            -3303.\n",
              "Df Model:                            1                                         \n",
              "Covariance Type:             nonrobust                                         \n",
              "==================================================================================\n",
              "                     coef    std err          t      P>|t|      [0.025      0.975]\n",
              "----------------------------------------------------------------------------------\n",
              "intercept       1.466e-05      0.001      0.010      0.992      -0.003       0.003\n",
              "Total_Benefits     0.9744      0.001    696.263      0.000       0.972       0.977\n",
              "==============================================================================\n",
              "Omnibus:                    12064.055   Durbin-Watson:                   2.006\n",
              "Prob(Omnibus):                  0.000   Jarque-Bera (JB):           117016.449\n",
              "Skew:                           1.965   Prob(JB):                         0.00\n",
              "Kurtosis:                      12.553   Cond. No.                         1.00\n",
              "==============================================================================\n",
              "\n",
              "Notes:\n",
              "[1] Standard Errors assume that the covariance matrix of the errors is correctly specified.\n",
              "\"\"\""
            ]
          },
          "execution_count": 17,
          "metadata": {},
          "output_type": "execute_result"
        }
      ],
      "source": [
        "# building a model on the train dataset with an intercept\n",
        "# fit() is used to fit the OLS model\n",
        "SLR_model = sm.OLS(y_train_slr, X_train_slr).fit()\n",
        "\n",
        "# print the summary output\n",
        "SLR_model.summary()"
      ]
    },
    {
      "cell_type": "markdown",
      "metadata": {
        "id": "ruX1XqO7MUFw"
      },
      "source": [
        "**Interpretation:** The R-squared value obtained from this model is 94.9 which means that the above model explains 94.9% of the variation in the Total_Reimbursement.\n",
        "\n",
        "The `Durbin-Watson` test is used to check the autocorrelation between the residuals.\n",
        "\n",
        "If the Durbin-Watson test statistic is near to 2: no autocorrelation<br>\n",
        "If the Durbin-Watson test statistic is between 0 and 2: positive autocorrelation <br>\n",
        "If the Durbin-Watson test statistic is between 2 and 4: negative autocorrelation\n",
        "\n",
        "The summary output shows that the value of the test statistic is close to 2 (= 2.006) which means there is no autocorrelation.\n",
        "\n",
        "The `Jarque-Bera` test is used to check the normality of the residuals. Here, the p-value of the test is less than 0.05; that implies the residuals are not normally distributed.\n",
        "\n",
        "The 'Cond. No' (= 1) represents the `Condition Number (CN)` which is used to check the multicollinearity.\n",
        "\n",
        "If CN < 100: no multicollinearity<br>\n",
        "If CN is between 100 and 1000: moderate multicollinearity<br>\n",
        "If CN > 1000: severe multicollinearity\n",
        "\n",
        "Thus, it can be seen that there is no multicollinearity in the data."
      ]
    },
    {
      "cell_type": "markdown",
      "metadata": {
        "id": "xhBL-HDcMUFx"
      },
      "source": [
        "**Calculate the predicted Total_Reimbursement for train data using the above model.**"
      ]
    },
    {
      "cell_type": "markdown",
      "metadata": {
        "id": "-2bw52poMUFx"
      },
      "source": [
        "Use the above dataframe to predict the Total_Reimbursement."
      ]
    },
    {
      "cell_type": "code",
      "execution_count": null,
      "metadata": {
        "id": "ZM0n0DJ69S7w",
        "outputId": "fcde7036-8c00-48a2-9cbb-752da7b21ede"
      },
      "outputs": [
        {
          "name": "stdout",
          "output_type": "stream",
          "text": [
            "32437   -0.488643\n",
            "27382    1.447996\n",
            "26627   -1.303922\n",
            "24073    0.707472\n",
            "49495    1.081166\n",
            "Name: Total_Reimbursement, dtype: float64\n"
          ]
        }
      ],
      "source": [
        "print(y_train_slr.head())"
      ]
    },
    {
      "cell_type": "code",
      "execution_count": null,
      "metadata": {
        "id": "8VrMILfBMUFx",
        "outputId": "e686dd23-a551-4df4-ed51-2dcbfd4ca0d1"
      },
      "outputs": [
        {
          "data": {
            "text/plain": [
              "32437   -0.900434\n",
              "27382    0.874244\n",
              "26627   -1.320701\n",
              "24073    0.777427\n",
              "49495    1.015237\n",
              "dtype: float64"
            ]
          },
          "execution_count": 19,
          "metadata": {},
          "output_type": "execute_result"
        }
      ],
      "source": [
        "# predict the Total_Reimbursement using 'predict()' on training data\n",
        "y_train_slr_pred = SLR_model.predict(X_train_slr)\n",
        "\n",
        "# display the first five predicted values\n",
        "y_train_slr_pred.head()"
      ]
    },
    {
      "cell_type": "markdown",
      "metadata": {
        "id": "PSytaGOuMUFy"
      },
      "source": [
        "Now we have actual and predicted values of the target variable for training dataset (y_train_slr and y_train_pred respectively)"
      ]
    },
    {
      "cell_type": "markdown",
      "metadata": {
        "id": "Ic9qO2hQMUFy"
      },
      "source": [
        "<a id=\"mv\"></a>\n",
        "## 4.2 Measures of Variation"
      ]
    },
    {
      "cell_type": "markdown",
      "metadata": {
        "id": "_GsTTJPAMUFy"
      },
      "source": [
        "**Residual:** It is calculated as the difference between the actual and predicted value of the dependent variable."
      ]
    },
    {
      "cell_type": "markdown",
      "metadata": {
        "id": "cKApqcntMUFz"
      },
      "source": [
        "<a id=\"ssr\"></a>\n",
        "### 4.2.1  Sum of Squared Regressors (SSR)"
      ]
    },
    {
      "cell_type": "markdown",
      "metadata": {
        "id": "1CFA23jOMUFz"
      },
      "source": [
        "It is defined as the sum of the squared difference between the predicted value and the mean of the dependent variable."
      ]
    },
    {
      "cell_type": "code",
      "execution_count": null,
      "metadata": {
        "id": "0XeExEMLMUFz",
        "outputId": "4d98bee6-dc10-4ab4-9937-6c93447db1db"
      },
      "outputs": [
        {
          "data": {
            "text/plain": [
              "25018.867402253065"
            ]
          },
          "execution_count": 20,
          "metadata": {},
          "output_type": "execute_result"
        }
      ],
      "source": [
        "# calculate the SSR on train dataset\n",
        "ssr = np.sum((y_train_slr_pred - y_train_slr.mean())**2)\n",
        "ssr"
      ]
    },
    {
      "cell_type": "markdown",
      "metadata": {
        "id": "Y0AwoP7dMUF0"
      },
      "source": [
        "<a id=\"sse\"></a>\n",
        "### 4.2.2 Sum of Squared Error (SSE)"
      ]
    },
    {
      "cell_type": "markdown",
      "metadata": {
        "id": "_WReok7VMUF0"
      },
      "source": [
        "It is defined as the sum of the squared difference between the actual value and the predicted value."
      ]
    },
    {
      "cell_type": "code",
      "execution_count": null,
      "metadata": {
        "id": "lWNSLtyBMUF0",
        "outputId": "9aa99df3-b4b2-4544-98ff-46a1b8d22141"
      },
      "outputs": [
        {
          "data": {
            "text/plain": [
              "1358.2308408220238"
            ]
          },
          "execution_count": 21,
          "metadata": {},
          "output_type": "execute_result"
        }
      ],
      "source": [
        "# calculate the SSE on train dataset\n",
        "sse = np.sum((y_train_slr - y_train_slr_pred)**2)\n",
        "sse"
      ]
    },
    {
      "cell_type": "markdown",
      "metadata": {
        "id": "0ymE7jgwMUF1"
      },
      "source": [
        "<a id=\"sst\"></a>\n",
        "### 4.2.3  Sum of Squared Total (SST)"
      ]
    },
    {
      "cell_type": "markdown",
      "metadata": {
        "id": "G-XK6WOBMUF1"
      },
      "source": [
        "It is the sum of the squared difference between the actual value and the mean of the dependent variable."
      ]
    },
    {
      "cell_type": "code",
      "execution_count": null,
      "metadata": {
        "id": "N9fVSQXDMUF1",
        "outputId": "f1b1529c-8662-4210-a5b4-407ca59abf72"
      },
      "outputs": [
        {
          "data": {
            "text/plain": [
              "26377.09824307509"
            ]
          },
          "execution_count": 22,
          "metadata": {},
          "output_type": "execute_result"
        }
      ],
      "source": [
        "# calculate the SST on train dataset\n",
        "sst = np.sum((y_train_slr - y_train_slr.mean())**2)\n",
        "sst"
      ]
    },
    {
      "cell_type": "code",
      "execution_count": null,
      "metadata": {
        "id": "Al_5-CB-MUF2",
        "outputId": "54458998-305d-4249-daef-e254610e1dc0"
      },
      "outputs": [
        {
          "data": {
            "text/plain": [
              "26377.09824307509"
            ]
          },
          "execution_count": 23,
          "metadata": {},
          "output_type": "execute_result"
        }
      ],
      "source": [
        "# add the values of SSE and SSR\n",
        "sse + ssr"
      ]
    },
    {
      "cell_type": "markdown",
      "metadata": {
        "id": "hMGNGiPmMUF2"
      },
      "source": [
        "**Interpretation:** From the abve putput, we can verify that SST (Total variation) is the sum of SSR and SSE."
      ]
    },
    {
      "cell_type": "markdown",
      "metadata": {
        "id": "bp4qoSJeMUF2"
      },
      "source": [
        "<a id=\"r2\"></a>\n",
        "### 4.2.4 Coefficient of Determination (R-Squared)"
      ]
    },
    {
      "cell_type": "markdown",
      "metadata": {
        "id": "3CutGUe_MUF3"
      },
      "source": [
        "The coefficient of determination explains the percentage of variation in the dependent variable that the independent variables explain collectively."
      ]
    },
    {
      "cell_type": "code",
      "execution_count": null,
      "metadata": {
        "id": "HFnCCIk0MUF3",
        "outputId": "640e11bb-5c22-4bdc-d265-fa4fc7dfcbea"
      },
      "outputs": [
        {
          "data": {
            "text/plain": [
              "0.9485071925537295"
            ]
          },
          "execution_count": 24,
          "metadata": {},
          "output_type": "execute_result"
        }
      ],
      "source": [
        "# calculate R-Squared on train dataset\n",
        "# use 'rsquared' method from statsmodel\n",
        "r_sq = SLR_model.rsquared\n",
        "\n",
        "# print the R-squared value\n",
        "r_sq"
      ]
    },
    {
      "cell_type": "markdown",
      "metadata": {
        "id": "P5Vt0tPCMUF3"
      },
      "source": [
        "Now, we can also calculate the R-squared value using the formula (SSR/SST)."
      ]
    },
    {
      "cell_type": "code",
      "execution_count": null,
      "metadata": {
        "id": "ciwz9ZAcMUF4",
        "outputId": "942c1b1d-36ec-4b04-d80e-4f2818cd2d7d",
        "scrolled": true
      },
      "outputs": [
        {
          "data": {
            "text/plain": [
              "0.9485071925537296"
            ]
          },
          "execution_count": 25,
          "metadata": {},
          "output_type": "execute_result"
        }
      ],
      "source": [
        "# calculate R-Squared on train dataset using the formula\n",
        "r_sq = ssr/sst\n",
        "\n",
        "# print the R-squared value\n",
        "r_sq"
      ]
    },
    {
      "cell_type": "markdown",
      "metadata": {
        "id": "oAbQ1Ni3MUF4"
      },
      "source": [
        "**Interpretation:** From the above output we can conclude that our model explains 94.85% variation in the Total_Reimbursement. We can also obtain this value from the summary of the model."
      ]
    },
    {
      "cell_type": "markdown",
      "metadata": {
        "id": "QRTCro4fMUF4"
      },
      "source": [
        "<a id=\"see\"></a>\n",
        "### 4.2.5 Standard Error of Estimate (SEE)"
      ]
    },
    {
      "cell_type": "markdown",
      "metadata": {
        "id": "HJIp9wbSMUF5"
      },
      "source": [
        "The SEE is the measure of the variability of actual values around the prediction line. Smaller the value of SEE better is the model."
      ]
    },
    {
      "cell_type": "code",
      "execution_count": null,
      "metadata": {
        "id": "zmy_N1XTMUF5",
        "outputId": "a03d4b07-1781-4919-fc31-e7484523d0ef"
      },
      "outputs": [
        {
          "data": {
            "text/plain": [
              "0.22717490363713622"
            ]
          },
          "execution_count": 26,
          "metadata": {},
          "output_type": "execute_result"
        }
      ],
      "source": [
        "# compute SEE using the below formula\n",
        "# see =  np.sqrt(sse/(len(train_data) - k))\n",
        "\n",
        "# for SLR take k = 2, as there are two coefficients (parameters) in the model\n",
        "see = np.sqrt(sse/(len(X_train_slr) - 2))\n",
        "see"
      ]
    },
    {
      "cell_type": "markdown",
      "metadata": {
        "id": "r4Agx085MUF5"
      },
      "source": [
        "Let us visualize the variability around the predicted line using regression plot."
      ]
    },
    {
      "cell_type": "code",
      "execution_count": null,
      "metadata": {
        "id": "Fbti9cvKMUF6",
        "outputId": "50806569-5d69-45a9-9d10-38eba3820a8b",
        "scrolled": false
      },
      "outputs": [
        {
          "data": {
            "image/png": "[encoded data removed]",
            "text/plain": [
              "<Figure size 1080x576 with 1 Axes>"
            ]
          },
          "metadata": {
            "needs_background": "light"
          },
          "output_type": "display_data"
        }
      ],
      "source": [
        "# set the plot size using figure()\n",
        "# pass width and height in inches to 'figsize'\n",
        "plt.figure(figsize = (15,8))\n",
        "\n",
        "# plot a regression plot\n",
        "# independent variable on x-axis and dependent variable on y-axis\n",
        "sns.regplot(x = X_train_slr['Total_Benefits'], y = y_train_slr)\n",
        "\n",
        "# add axes and plot labels\n",
        "# set text size using 'fontsize'\n",
        "plt.title('Variability Around the Predicted Line', fontsize = 15)\n",
        "plt.xlabel('Total_Benefits', fontsize = 15)\n",
        "plt.ylabel('Total_Reimbursement', fontsize = 15)\n",
        "\n",
        "# display the plot\n",
        "plt.show()"
      ]
    },
    {
      "cell_type": "markdown",
      "metadata": {
        "id": "qd_C-mgLMUF6"
      },
      "source": [
        "**Interpretation:** The blue line in the plot, indicates the regression line for the data. We can observe that most of the data points lie on (or near) the line. Also, some of the points are away from the line, which concludes the variation of the data to the fitted line."
      ]
    },
    {
      "cell_type": "markdown",
      "metadata": {
        "id": "U5lDfSI8MUF7"
      },
      "source": [
        "<a id=\"inf\"></a>\n",
        "## 4.3 Inferences about Slope and Intercept"
      ]
    },
    {
      "cell_type": "markdown",
      "metadata": {
        "id": "SRkodEeEMUF7"
      },
      "source": [
        "Let us print the summary of the regression model (built in section 4.1)."
      ]
    },
    {
      "cell_type": "code",
      "execution_count": null,
      "metadata": {
        "id": "Oe4nFi-rMUF7",
        "outputId": "1ff8f164-6d0b-4203-d6df-58c78a95f944",
        "scrolled": false
      },
      "outputs": [
        {
          "name": "stdout",
          "output_type": "stream",
          "text": [
            "                             OLS Regression Results                            \n",
            "===============================================================================\n",
            "Dep. Variable:     Total_Reimbursement   R-squared:                       0.949\n",
            "Model:                             OLS   Adj. R-squared:                  0.949\n",
            "Method:                  Least Squares   F-statistic:                 4.848e+05\n",
            "Date:                 Wed, 22 Feb 2023   Prob (F-statistic):               0.00\n",
            "Time:                         20:40:52   Log-Likelihood:                 1661.7\n",
            "No. Observations:                26320   AIC:                            -3319.\n",
            "Df Residuals:                    26318   BIC:                            -3303.\n",
            "Df Model:                            1                                         \n",
            "Covariance Type:             nonrobust                                         \n",
            "==================================================================================\n",
            "                     coef    std err          t      P>|t|      [0.025      0.975]\n",
            "----------------------------------------------------------------------------------\n",
            "intercept       1.466e-05      0.001      0.010      0.992      -0.003       0.003\n",
            "Total_Benefits     0.9744      0.001    696.263      0.000       0.972       0.977\n",
            "==============================================================================\n",
            "Omnibus:                    12064.055   Durbin-Watson:                   2.006\n",
            "Prob(Omnibus):                  0.000   Jarque-Bera (JB):           117016.449\n",
            "Skew:                           1.965   Prob(JB):                         0.00\n",
            "Kurtosis:                      12.553   Cond. No.                         1.00\n",
            "==============================================================================\n",
            "\n",
            "Notes:\n",
            "[1] Standard Errors assume that the covariance matrix of the errors is correctly specified.\n"
          ]
        }
      ],
      "source": [
        "# print the model summary\n",
        "print(SLR_model.summary())"
      ]
    },
    {
      "cell_type": "markdown",
      "metadata": {
        "id": "GgZxORb_MUF8"
      },
      "source": [
        "Now, let us make some inferences about the output given above."
      ]
    },
    {
      "cell_type": "markdown",
      "metadata": {
        "id": "hUsuUyEQMUF8"
      },
      "source": [
        "<a id=\"inter\"></a>\n",
        "### 4.3.1 Interpretation of Slope and Intercept"
      ]
    },
    {
      "cell_type": "markdown",
      "metadata": {
        "id": "grCs4SgkMUF8"
      },
      "source": [
        "The output of the regression model returns the value of slope (β<sub>1</sub>) and Intercept (β<sub>0</sub>).\n",
        "\n",
        "**Intercept (β<sub>0</sub>) = 1.466e-05**, indicates that if the Total_Benefits is zero, then the average Total_Reimbursement is 1.466e-05 (i.e. practically zero). <br>\n",
        "\n",
        "**The slope of 'Total_Benefits' (β<sub>1</sub>) = 0.9744**, indicates that by increasing the Total_Benefits percentage by 1%, the average Total_Reimbursement increases by 0.9744.\n",
        "\n",
        "\n",
        "Thus, the equation of the line given by the model is:\n",
        "<p style='text-indent:25em'> <strong> Total_Reimbursement = 1.466e-05 + 0.9744*(Total_Benefits) </strong>  </p>"
      ]
    },
    {
      "cell_type": "markdown",
      "metadata": {
        "id": "0fkWK6G2MUF9"
      },
      "source": [
        "<a id=\"t_test\"></a>\n",
        "### 4.3.2 The t-test for Slope and Intercept"
      ]
    },
    {
      "cell_type": "markdown",
      "metadata": {
        "id": "Rvmfnq7iMUF9"
      },
      "source": [
        "The coefficient of regression captures the presence of a linear relationship between the independent and dependent variables. If the coefficient value is zero, we can infer that there is no linear relationship between the two variables which is statistically important. It is calculated as:\n",
        "<p style='text-indent:28em'> <strong> t_value = coefficient / Standard_error </strong>  </p>\n",
        "\n",
        "The test hypothesis for the t-test is given as:\n",
        "<p style='text-indent:35em'> <strong> H<sub>o</sub>: β<sub>1</sub> = 0 </strong> </p>\n",
        "<p style='text-indent:35em'> <strong> H<sub>1</sub>: β<sub>1</sub> ≠ 0 </strong> </p>\n",
        "                                    \n",
        "Now, let us see how to calculate the t_test value for slope and intercept."
      ]
    },
    {
      "cell_type": "code",
      "execution_count": null,
      "metadata": {
        "id": "ln6nd7rKMUF9",
        "outputId": "e467acdb-115a-4e02-b7eb-554d4eb8c371",
        "scrolled": true
      },
      "outputs": [
        {
          "data": {
            "text/plain": [
              "0.010469086133417885"
            ]
          },
          "execution_count": 29,
          "metadata": {},
          "output_type": "execute_result"
        }
      ],
      "source": [
        "# perform t_test for intercept\n",
        "# 'params[0]' returns the value of intercept\n",
        "# 'bse[0]' returns the standard error of intercept\n",
        "t_intercept = SLR_model.params[0] / SLR_model.bse[0]\n",
        "\n",
        "# print the value of t-statistic\n",
        "t_intercept"
      ]
    },
    {
      "cell_type": "code",
      "execution_count": null,
      "metadata": {
        "id": "2pzMCNx2MUF-",
        "outputId": "23e2bc73-5899-47ca-bf2a-83cd19cb9d52"
      },
      "outputs": [
        {
          "data": {
            "text/plain": [
              "696.263245578057"
            ]
          },
          "execution_count": 30,
          "metadata": {},
          "output_type": "execute_result"
        }
      ],
      "source": [
        "# t_test for slope\n",
        "# 'params[1]' returns the value of slope\n",
        "# 'bse[1]' returns the standard error of slope\n",
        "t_slope = SLR_model.params[1] / SLR_model.bse[1]\n",
        "\n",
        "# print the value of t-statistic\n",
        "t_slope"
      ]
    },
    {
      "cell_type": "markdown",
      "metadata": {
        "id": "xdCp2ZCQMUF_"
      },
      "source": [
        "Now, let us see how to calculate the p-value associated with t_test value for slope and intercept."
      ]
    },
    {
      "cell_type": "code",
      "execution_count": null,
      "metadata": {
        "id": "ZjAjiwqTMUF_",
        "outputId": "51f4b4e5-0d50-4c6e-e77b-92bcd3a06661",
        "scrolled": true
      },
      "outputs": [
        {
          "data": {
            "text/plain": [
              "0.9916490343691713"
            ]
          },
          "execution_count": 31,
          "metadata": {},
          "output_type": "execute_result"
        }
      ],
      "source": [
        "# calculate p-value for intercept\n",
        "# use 'sf' (Survival function) from t-distribution to calculate the corresponding p-value\n",
        "\n",
        "# pass degrees of freedom and t-statistic value for intercept\n",
        "# degrees of freedom = n - 1 = 1043 - 1 = 1042\n",
        "pval = stats.t.sf(np.abs(t_intercept), 1042)*2\n",
        "pval"
      ]
    },
    {
      "cell_type": "code",
      "execution_count": null,
      "metadata": {
        "id": "d-E8ER1YMUF_",
        "outputId": "eab26488-59ab-4a9c-afda-da44879bd63b"
      },
      "outputs": [
        {
          "data": {
            "text/plain": [
              "0.0"
            ]
          },
          "execution_count": 32,
          "metadata": {},
          "output_type": "execute_result"
        }
      ],
      "source": [
        "# calculate p-value for slope\n",
        "# use 'sf' (Survival function) from t-distribution to calculate the corresponding p-value\n",
        "\n",
        "# pass degrees of freedom and t-statistic value for slope\n",
        "# degrees of freedom = n - 1 = 1043 - 1 = 1042\n",
        "pval = stats.t.sf(np.abs(t_slope), 1042)*2\n",
        "pval"
      ]
    },
    {
      "cell_type": "markdown",
      "metadata": {
        "id": "Z5g09NJqMUGA"
      },
      "source": [
        "**Interpretation:** The 'P > |t|' in the model summary indicates the p-value for the corresponding t-test. In our case, the p-value for the slope is zero i.e. p-value < 0.05 (with 5% level of significance). Thus, we can say that the slope is significant for the target variable.<br>\n",
        "But, the p-value for the intercept is greater than 0.05 (with 5% level of significance). Thus, we can say that the intercept is insignificant for the target variable."
      ]
    },
    {
      "cell_type": "markdown",
      "metadata": {
        "id": "U2TQnkPNMUGA"
      },
      "source": [
        "<a id=\"ci\"></a>\n",
        "### 4.3.3 Confidence Interval for Slope and Intercept"
      ]
    },
    {
      "cell_type": "markdown",
      "metadata": {
        "id": "oCoDkILbMUGA"
      },
      "source": [
        "The 95% confidence interval for the variable implies that the value for the variable will be between the given interval for 95% of the cases. We can calculate the confidence interval as:\n",
        "\n",
        "<p style='text-indent:28em'> <strong> CI = coefficient ± t_table_value*Standard_error </strong>  </p>"
      ]
    },
    {
      "cell_type": "code",
      "execution_count": null,
      "metadata": {
        "id": "aISiTO4qMUGB",
        "outputId": "33cab589-b268-4753-b2fd-b88a2f472204",
        "scrolled": false
      },
      "outputs": [
        {
          "name": "stdout",
          "output_type": "stream",
          "text": [
            "95% confidence interval: (-0.0027299460007735353, 0.0027592655079934853)\n"
          ]
        }
      ],
      "source": [
        "# CI for intercept\n",
        "# calculate the 95% confidence interval\n",
        "# pass the 'n-1' degrees of freedom to the parameter, 'df'\n",
        "# pass the intercept coefficient to the parameter, 'loc'\n",
        "# pass the standard error of intercept to the parameter, 'scale'\n",
        "interval = stats.t.interval(0.95, df = df_reimb.shape[0]-1, loc = SLR_model.params[0],\n",
        "                            scale = SLR_model.bse[0])\n",
        "\n",
        "# print the confidence interval for intercept\n",
        "print('95% confidence interval:', interval)"
      ]
    },
    {
      "cell_type": "code",
      "execution_count": null,
      "metadata": {
        "id": "rFNarqO4MUGB",
        "outputId": "64df3406-809e-4666-8da7-9c1c1d722623",
        "scrolled": false
      },
      "outputs": [
        {
          "name": "stdout",
          "output_type": "stream",
          "text": [
            "95% confidence interval: (0.9713264077791087, 0.9775631242971575)\n"
          ]
        }
      ],
      "source": [
        "# CI for slope\n",
        "# calculate the 95% confidence interval\n",
        "# pass the 'n-1' degrees of freedom to the parameter, 'df'\n",
        "# pass the slope coefficient to the parameter, 'loc'\n",
        "# pass the standard error of slope to the parameter, 'scale'\n",
        "interval = stats.t.interval(0.95, df = df_reimb.shape[1]-1, loc = SLR_model.params[1], scale = SLR_model.bse[1])\n",
        "\n",
        "# print the confidence interval for slope\n",
        "print('95% confidence interval:', interval)"
      ]
    },
    {
      "cell_type": "markdown",
      "metadata": {
        "id": "w64JRqi_MUGC"
      },
      "source": [
        "<a id=\"anova\"></a>\n",
        "### 4.3.4 ANOVA for SLR"
      ]
    },
    {
      "cell_type": "markdown",
      "metadata": {
        "id": "uMIOWIWcMUGC"
      },
      "source": [
        "ANOVA (Analysis of Variance) is used to test the significance of the linear regression model. The test hypothesis for ANOVA is given as:\n",
        "<p style='text-indent:25em'> <strong> H<sub>o</sub>: β<sub>1</sub> = 0 </strong> (i.e. regression model is not significant) </p>\n",
        "<p style='text-indent:25em'> <strong> H<sub>1</sub>: β<sub>1</sub> ≠ 0 </strong> (i.e. regression model is significant) </p>"
      ]
    },
    {
      "cell_type": "markdown",
      "metadata": {
        "id": "HqE4guw8MUGC"
      },
      "source": [
        "To perform ANOVA using `anova_lm` method, we build the SLR model using `ols` method in the statsmodel library."
      ]
    },
    {
      "cell_type": "code",
      "execution_count": null,
      "metadata": {
        "id": "h66-05hjMUGD"
      },
      "outputs": [],
      "source": [
        "# build a SLR model using 'ols' method\n",
        "# pass the regression model to the parameter 'formula'\n",
        "# concatenate the training dataset and pass to the parameter 'data' to build the model on training dataset\n",
        "# 'axis=1' concats the data column-wise\n",
        "# 'fit()' is used to fit the model\n",
        "slr_ols = ols(formula = 'Total_Reimbursement ~ Total_Benefits',\n",
        "              data = pd.concat([X_train_slr, y_train_slr], axis=1)).fit()\n",
        "# this model returns the same result as of model built using 'OLS'"
      ]
    },
    {
      "cell_type": "code",
      "execution_count": null,
      "metadata": {
        "id": "Aswa1bQjMUGD",
        "outputId": "4ff2f29e-9543-4fec-e975-b09c0b5bed9a"
      },
      "outputs": [
        {
          "data": {
            "text/html": [
              "<div>\n",
              "<style scoped>\n",
              "    .dataframe tbody tr th:only-of-type {\n",
              "        vertical-align: middle;\n",
              "    }\n",
              "\n",
              "    .dataframe tbody tr th {\n",
              "        vertical-align: top;\n",
              "    }\n",
              "\n",
              "    .dataframe thead th {\n",
              "        text-align: right;\n",
              "    }\n",
              "</style>\n",
              "<table border=\"1\" class=\"dataframe\">\n",
              "  <thead>\n",
              "    <tr style=\"text-align: right;\">\n",
              "      <th></th>\n",
              "      <th>df</th>\n",
              "      <th>sum_sq</th>\n",
              "      <th>mean_sq</th>\n",
              "      <th>F</th>\n",
              "      <th>PR(&gt;F)</th>\n",
              "    </tr>\n",
              "  </thead>\n",
              "  <tbody>\n",
              "    <tr>\n",
              "      <th>Total_Benefits</th>\n",
              "      <td>1.000000</td>\n",
              "      <td>25018.867402</td>\n",
              "      <td>25018.867402</td>\n",
              "      <td>484782.507143</td>\n",
              "      <td>0.000000</td>\n",
              "    </tr>\n",
              "    <tr>\n",
              "      <th>Residual</th>\n",
              "      <td>26318.000000</td>\n",
              "      <td>1358.230841</td>\n",
              "      <td>0.051608</td>\n",
              "      <td>NaN</td>\n",
              "      <td>NaN</td>\n",
              "    </tr>\n",
              "  </tbody>\n",
              "</table>\n",
              "</div>"
            ],
            "text/plain": [
              "                         df       sum_sq      mean_sq             F   PR(>F)\n",
              "Total_Benefits     1.000000 25018.867402 25018.867402 484782.507143 0.000000\n",
              "Residual       26318.000000  1358.230841     0.051608           NaN      NaN"
            ]
          },
          "execution_count": 36,
          "metadata": {},
          "output_type": "execute_result"
        }
      ],
      "source": [
        "# perform ANOVA on the above model using 'anova_lm'\n",
        "# pass the linear model to 'anova_lm'\n",
        "anova_slr = anova_lm(slr_ols)\n",
        "\n",
        "# print the ANOVA results\n",
        "anova_slr"
      ]
    },
    {
      "cell_type": "markdown",
      "metadata": {
        "id": "s-dXxffiMUGD"
      },
      "source": [
        "**Interpretation:** The above ANOVA result returns the F-statistic and corresponding p-value for the linear model. As, the p-value is less than 0.05, we accept the alternate hypothesis (i.e. the regression model is significant). We can also obtain these values from the summary of the model."
      ]
    },
    {
      "cell_type": "markdown",
      "metadata": {
        "id": "MPU5GFJmMUGE"
      },
      "source": [
        "<a id=\"MLR\"></a>\n",
        "# 5. Multiple Linear Regression (MLR)"
      ]
    },
    {
      "cell_type": "markdown",
      "metadata": {
        "id": "beO6-bW2MUGE"
      },
      "source": [
        "It is used to study the linear relationship between a dependent (target) variable and two or more independent variables. We can use this technique to study the effect of multiple variables on the target variable."
      ]
    },
    {
      "cell_type": "markdown",
      "metadata": {
        "id": "TB0N5XFdMUGE"
      },
      "source": [
        "<a id=\"before\"></a>\n",
        "## 5.1 Assumptions Before MLR Model"
      ]
    },
    {
      "cell_type": "markdown",
      "metadata": {
        "id": "GTBiFblsMUGF"
      },
      "source": [
        "There are several assumptions of linear regression. We can check two of them before building the regression model. Let us check the following assumptions in this section:<br>\n",
        "1. Assumption on Dependent Variable<br>\n",
        "2. No or little multicollinearity<br>"
      ]
    },
    {
      "cell_type": "markdown",
      "metadata": {
        "id": "SFjz7nMmMUGF"
      },
      "source": [
        "Let us create the dataframes for independent and target variable to check the assumptions of linear regression."
      ]
    },
    {
      "cell_type": "code",
      "execution_count": null,
      "metadata": {
        "id": "oNTFB_LmMUGG"
      },
      "outputs": [],
      "source": [
        "# create dataframe of features by dropping the target variable\n",
        "# 'axis = 1' drops the corresponding column(s)\n",
        "df_feature = df_reimb.drop('Total_Reimbursement', axis = 1)\n",
        "\n",
        "# create dataframe of target variable\n",
        "df_target = df_reimb['Total_Reimbursement']"
      ]
    },
    {
      "cell_type": "markdown",
      "metadata": {
        "id": "oSneJy0HMUGG"
      },
      "source": [
        "<a id=\"dep_num\"></a>\n",
        "### 5.1.1 Assumption on Dependent Variable"
      ]
    },
    {
      "cell_type": "markdown",
      "metadata": {
        "id": "WrwiWhuyMUGG"
      },
      "source": [
        "The assumption for linear regression is that the dependent (target) variable should be numeric. In our dataset, the variable 'Total_Reimbursement' is the target/dependent variable.  "
      ]
    },
    {
      "cell_type": "code",
      "execution_count": null,
      "metadata": {
        "id": "J71n_IowMUGG",
        "outputId": "e7309f6a-d2d6-4910-b0ef-8756dc29f018"
      },
      "outputs": [
        {
          "data": {
            "text/plain": [
              "dtype('float64')"
            ]
          },
          "execution_count": 38,
          "metadata": {},
          "output_type": "execute_result"
        }
      ],
      "source": [
        "# check the data type of dependent variable\n",
        "df_target.dtype"
      ]
    },
    {
      "cell_type": "markdown",
      "metadata": {
        "id": "JPKfyaSIMUGH"
      },
      "source": [
        "**Interpretation:** The output shows that the data type of target variable is 'float64'. i.e. the dependent variable is numeric."
      ]
    },
    {
      "cell_type": "markdown",
      "metadata": {
        "id": "dChnRB90MUGH"
      },
      "source": [
        "<a id=\"no_multi\"></a>\n",
        "### 5.1.2 No or Little Multicollinearity"
      ]
    },
    {
      "cell_type": "markdown",
      "metadata": {
        "id": "czPJRkR1MUGR"
      },
      "source": [
        "Whenever there are a large number of independent variables present in the dataset, there is a possibility that such independent variables will be strongly correlated. The presence of a strong correlation between the independent variables is called multicollinearity.\n",
        "\n",
        "The presence of multicollinearity can destabilize the model. Thus, the existence of multicollinearity must be detected and corrected actions should be taken.\n",
        "\n",
        "If we use dummy variables to encode a categorical variable and do not omit the parent column, then this results in a strong correlation between the dummy variables and the parent column."
      ]
    },
    {
      "cell_type": "markdown",
      "metadata": {
        "id": "COKMyxZWMUGR"
      },
      "source": [
        "<a id=\"corr\"></a>\n",
        "#### 5.1.2.1 Correlation Matrix"
      ]
    },
    {
      "cell_type": "markdown",
      "metadata": {
        "id": "kjhX_xb8MUGS"
      },
      "source": [
        "Let us plot the heatmap to visualize the correlation matrix of the independent variables. The variables with a high correlation may induce multicollinearity in the data."
      ]
    },
    {
      "cell_type": "code",
      "execution_count": null,
      "metadata": {
        "id": "rkznWAYoMUGT",
        "outputId": "1da5ef51-cc62-490c-ee27-bb6accbe63b5",
        "scrolled": false
      },
      "outputs": [
        {
          "data": {
            "image/png": "[encoded data removed]",
            "text/plain": [
              "<Figure size 1440x720 with 2 Axes>"
            ]
          },
          "metadata": {
            "needs_background": "light"
          },
          "output_type": "display_data"
        }
      ],
      "source": [
        "# set the plot size using figure()\n",
        "# pass width and height in inches to 'figsize'\n",
        "plt.figure(figsize = (20,10))\n",
        "\n",
        "# plot the heat map\n",
        "# corr(): give the correlation matrix\n",
        "# annot: prints the correlation values in the chart\n",
        "# annot_kws: used to set the font size of the annotation\n",
        "sns.heatmap(df_feature.corr(), annot = True, annot_kws = {\"size\": 11})\n",
        "\n",
        "# rotation = 'horizontal' rotates the y-axis labels horizontally\n",
        "# set text size using 'fontsize'\n",
        "plt.yticks(rotation = 'horizontal', fontsize = 15)\n",
        "plt.xticks(fontsize = 15)\n",
        "\n",
        "# display the plot\n",
        "plt.show()"
      ]
    },
    {
      "cell_type": "code",
      "execution_count": null,
      "metadata": {
        "id": "UUTcmePq9S79",
        "outputId": "bf36d0a3-94b3-43ae-fbfd-564db5542920"
      },
      "outputs": [
        {
          "data": {
            "text/html": [
              "<div>\n",
              "<style scoped>\n",
              "    .dataframe tbody tr th:only-of-type {\n",
              "        vertical-align: middle;\n",
              "    }\n",
              "\n",
              "    .dataframe tbody tr th {\n",
              "        vertical-align: top;\n",
              "    }\n",
              "\n",
              "    .dataframe thead th {\n",
              "        text-align: right;\n",
              "    }\n",
              "</style>\n",
              "<table border=\"1\" class=\"dataframe\">\n",
              "  <thead>\n",
              "    <tr style=\"text-align: right;\">\n",
              "      <th></th>\n",
              "      <th>Income</th>\n",
              "      <th>Other_Income</th>\n",
              "      <th>Overtime</th>\n",
              "      <th>Total_Income</th>\n",
              "      <th>Health_Insurance</th>\n",
              "      <th>Retirement</th>\n",
              "      <th>Other_Benefits</th>\n",
              "      <th>Total_Benefits</th>\n",
              "    </tr>\n",
              "  </thead>\n",
              "  <tbody>\n",
              "    <tr>\n",
              "      <th>Income</th>\n",
              "      <td>1.000000</td>\n",
              "      <td>0.283114</td>\n",
              "      <td>0.117961</td>\n",
              "      <td>0.997466</td>\n",
              "      <td>0.804984</td>\n",
              "      <td>0.955034</td>\n",
              "      <td>0.877242</td>\n",
              "      <td>0.950583</td>\n",
              "    </tr>\n",
              "    <tr>\n",
              "      <th>Other_Income</th>\n",
              "      <td>0.283114</td>\n",
              "      <td>1.000000</td>\n",
              "      <td>0.286888</td>\n",
              "      <td>0.343687</td>\n",
              "      <td>0.243310</td>\n",
              "      <td>0.293439</td>\n",
              "      <td>0.197801</td>\n",
              "      <td>0.276834</td>\n",
              "    </tr>\n",
              "    <tr>\n",
              "      <th>Overtime</th>\n",
              "      <td>0.117961</td>\n",
              "      <td>0.286888</td>\n",
              "      <td>1.000000</td>\n",
              "      <td>0.164472</td>\n",
              "      <td>0.232102</td>\n",
              "      <td>0.159402</td>\n",
              "      <td>0.074363</td>\n",
              "      <td>0.175322</td>\n",
              "    </tr>\n",
              "    <tr>\n",
              "      <th>Total_Income</th>\n",
              "      <td>0.997466</td>\n",
              "      <td>0.343687</td>\n",
              "      <td>0.164472</td>\n",
              "      <td>1.000000</td>\n",
              "      <td>0.808311</td>\n",
              "      <td>0.955469</td>\n",
              "      <td>0.871155</td>\n",
              "      <td>0.950682</td>\n",
              "    </tr>\n",
              "    <tr>\n",
              "      <th>Health_Insurance</th>\n",
              "      <td>0.804984</td>\n",
              "      <td>0.243310</td>\n",
              "      <td>0.232102</td>\n",
              "      <td>0.808311</td>\n",
              "      <td>1.000000</td>\n",
              "      <td>0.815871</td>\n",
              "      <td>0.763460</td>\n",
              "      <td>0.912892</td>\n",
              "    </tr>\n",
              "    <tr>\n",
              "      <th>Retirement</th>\n",
              "      <td>0.955034</td>\n",
              "      <td>0.293439</td>\n",
              "      <td>0.159402</td>\n",
              "      <td>0.955469</td>\n",
              "      <td>0.815871</td>\n",
              "      <td>1.000000</td>\n",
              "      <td>0.851029</td>\n",
              "      <td>0.973704</td>\n",
              "    </tr>\n",
              "    <tr>\n",
              "      <th>Other_Benefits</th>\n",
              "      <td>0.877242</td>\n",
              "      <td>0.197801</td>\n",
              "      <td>0.074363</td>\n",
              "      <td>0.871155</td>\n",
              "      <td>0.763460</td>\n",
              "      <td>0.851029</td>\n",
              "      <td>1.000000</td>\n",
              "      <td>0.904075</td>\n",
              "    </tr>\n",
              "    <tr>\n",
              "      <th>Total_Benefits</th>\n",
              "      <td>0.950583</td>\n",
              "      <td>0.276834</td>\n",
              "      <td>0.175322</td>\n",
              "      <td>0.950682</td>\n",
              "      <td>0.912892</td>\n",
              "      <td>0.973704</td>\n",
              "      <td>0.904075</td>\n",
              "      <td>1.000000</td>\n",
              "    </tr>\n",
              "  </tbody>\n",
              "</table>\n",
              "</div>"
            ],
            "text/plain": [
              "                   Income  Other_Income  Overtime  Total_Income  \\\n",
              "Income           1.000000      0.283114  0.117961      0.997466   \n",
              "Other_Income     0.283114      1.000000  0.286888      0.343687   \n",
              "Overtime         0.117961      0.286888  1.000000      0.164472   \n",
              "Total_Income     0.997466      0.343687  0.164472      1.000000   \n",
              "Health_Insurance 0.804984      0.243310  0.232102      0.808311   \n",
              "Retirement       0.955034      0.293439  0.159402      0.955469   \n",
              "Other_Benefits   0.877242      0.197801  0.074363      0.871155   \n",
              "Total_Benefits   0.950583      0.276834  0.175322      0.950682   \n",
              "\n",
              "                  Health_Insurance  Retirement  Other_Benefits  Total_Benefits  \n",
              "Income                    0.804984    0.955034        0.877242        0.950583  \n",
              "Other_Income              0.243310    0.293439        0.197801        0.276834  \n",
              "Overtime                  0.232102    0.159402        0.074363        0.175322  \n",
              "Total_Income              0.808311    0.955469        0.871155        0.950682  \n",
              "Health_Insurance          1.000000    0.815871        0.763460        0.912892  \n",
              "Retirement                0.815871    1.000000        0.851029        0.973704  \n",
              "Other_Benefits            0.763460    0.851029        1.000000        0.904075  \n",
              "Total_Benefits            0.912892    0.973704        0.904075        1.000000  "
            ]
          },
          "execution_count": 40,
          "metadata": {},
          "output_type": "execute_result"
        }
      ],
      "source": [
        "df_feature.corr()"
      ]
    },
    {
      "cell_type": "code",
      "execution_count": null,
      "metadata": {
        "id": "goOYJF1S9S79",
        "outputId": "fdde2b9e-3eab-4126-e42a-840f5a341085"
      },
      "outputs": [
        {
          "name": "stdout",
          "output_type": "stream",
          "text": [
            "<class 'pandas.core.frame.DataFrame'>\n",
            "Int64Index: 37601 entries, 0 to 49793\n",
            "Data columns (total 10 columns):\n",
            " #   Column            Non-Null Count  Dtype  \n",
            "---  ------            --------------  -----  \n",
            " 0   Year              37601 non-null  object \n",
            " 1   Type_of_yr        37601 non-null  object \n",
            " 2   Income            37601 non-null  float64\n",
            " 3   Other_Income      37601 non-null  float64\n",
            " 4   Overtime          37601 non-null  float64\n",
            " 5   Total_Income      37601 non-null  float64\n",
            " 6   Health_Insurance  37601 non-null  float64\n",
            " 7   Retirement        37601 non-null  float64\n",
            " 8   Other_Benefits    37601 non-null  float64\n",
            " 9   Total_Benefits    37601 non-null  float64\n",
            "dtypes: float64(8), object(2)\n",
            "memory usage: 3.2+ MB\n"
          ]
        }
      ],
      "source": [
        "df_feature.info()"
      ]
    },
    {
      "cell_type": "markdown",
      "metadata": {
        "id": "qDjSTaNjMUGU"
      },
      "source": [
        "Identify the variables with a correlation greater than 0.8 and less than -0.8."
      ]
    },
    {
      "cell_type": "code",
      "execution_count": null,
      "metadata": {
        "id": "VkykZVOKMUGV",
        "outputId": "55fb6a5b-e72c-41ce-ab19-dc8af28911c4",
        "scrolled": false
      },
      "outputs": [
        {
          "data": {
            "image/png": "[encoded data removed]",
            "text/plain": [
              "<Figure size 1584x720 with 2 Axes>"
            ]
          },
          "metadata": {
            "needs_background": "light"
          },
          "output_type": "display_data"
        }
      ],
      "source": [
        "# set the plot size using figure()\n",
        "# pass width and height in inches to 'figsize'\n",
        "plt.figure(figsize = (22,10))\n",
        "\n",
        "# plot the heat map\n",
        "# corr(): give the correlation matrix\n",
        "# annot: prints the correlation values in the chart\n",
        "# annot_kws: sets the font size of the annotation\n",
        "sns.heatmap(df_feature.corr()[np.abs(df_feature.corr()) > 0.8],\n",
        "            annot = True, annot_kws = {\"size\": 13}, cmap = 'Blues')\n",
        "\n",
        "# rotate the y-axis labels\n",
        "# set text size using 'fontsize'\n",
        "plt.yticks(rotation = 'horizontal', fontsize = 12)\n",
        "plt.xticks(fontsize = 15)\n",
        "\n",
        "# display the plot\n",
        "plt.show()"
      ]
    },
    {
      "cell_type": "markdown",
      "metadata": {
        "id": "nNMPyFQPMUGW"
      },
      "source": [
        "**Interpretation:** The above heatmap, show the variables having a strong positive/negative correlation. The variables with dark shade represent the strong positive correlation."
      ]
    },
    {
      "cell_type": "markdown",
      "metadata": {
        "id": "iZxLqTkxMUGX"
      },
      "source": [
        "<a id=\"vif\"></a>\n",
        "#### 5.1.2.2 Variance Inflation Factor (VIF)"
      ]
    },
    {
      "cell_type": "markdown",
      "metadata": {
        "id": "bMiEFPdeMUGY"
      },
      "source": [
        "The Variance Inflation Factor (VIF) is used to detect the presence of multicollinearity between the features. The value of VIF equal to 1 indicates that no features are correlated. We calculate VIF of the numerical independent variables.   \n",
        "\n",
        "Steps to calculate VIF:<br>\n",
        "1. Regress one independent variable (say V<sub>i</sub>) on all the remaining independent variables (say V<sub>j</sub>, j ≠ i)\n",
        "2. Calculate R-squared of the regression model\n",
        "3. Calculate VIF for the variable V<sub>i</sub> using the formula:\n",
        "<p style='text-indent:29em'> <strong> VIF = 1 / (1 - R-squared)</strong>  </p><br>\n",
        "4. Repeate the steps 1 to 3 to calculate VIF of each independent variable"
      ]
    },
    {
      "cell_type": "code",
      "execution_count": null,
      "metadata": {
        "id": "kXjqDVJ-MUGY",
        "outputId": "93f04eb5-ec05-43c1-d6a2-45bd42555420"
      },
      "outputs": [
        {
          "data": {
            "text/html": [
              "<div>\n",
              "<style scoped>\n",
              "    .dataframe tbody tr th:only-of-type {\n",
              "        vertical-align: middle;\n",
              "    }\n",
              "\n",
              "    .dataframe tbody tr th {\n",
              "        vertical-align: top;\n",
              "    }\n",
              "\n",
              "    .dataframe thead th {\n",
              "        text-align: right;\n",
              "    }\n",
              "</style>\n",
              "<table border=\"1\" class=\"dataframe\">\n",
              "  <thead>\n",
              "    <tr style=\"text-align: right;\">\n",
              "      <th></th>\n",
              "      <th>Income</th>\n",
              "      <th>Other_Income</th>\n",
              "      <th>Overtime</th>\n",
              "      <th>Total_Income</th>\n",
              "      <th>Health_Insurance</th>\n",
              "      <th>Retirement</th>\n",
              "      <th>Other_Benefits</th>\n",
              "      <th>Total_Benefits</th>\n",
              "    </tr>\n",
              "  </thead>\n",
              "  <tbody>\n",
              "    <tr>\n",
              "      <th>0</th>\n",
              "      <td>0.979272</td>\n",
              "      <td>-0.476483</td>\n",
              "      <td>-0.234449</td>\n",
              "      <td>0.921924</td>\n",
              "      <td>0.911621</td>\n",
              "      <td>1.173963</td>\n",
              "      <td>1.141794</td>\n",
              "      <td>1.156388</td>\n",
              "    </tr>\n",
              "    <tr>\n",
              "      <th>1</th>\n",
              "      <td>-1.259481</td>\n",
              "      <td>-0.588280</td>\n",
              "      <td>-0.175594</td>\n",
              "      <td>-1.270526</td>\n",
              "      <td>-1.504303</td>\n",
              "      <td>-1.186975</td>\n",
              "      <td>-1.269380</td>\n",
              "      <td>-1.374560</td>\n",
              "    </tr>\n",
              "    <tr>\n",
              "      <th>3</th>\n",
              "      <td>-0.170114</td>\n",
              "      <td>0.091140</td>\n",
              "      <td>-0.431752</td>\n",
              "      <td>-0.175099</td>\n",
              "      <td>-1.592864</td>\n",
              "      <td>-0.037175</td>\n",
              "      <td>-0.043455</td>\n",
              "      <td>-0.529238</td>\n",
              "    </tr>\n",
              "    <tr>\n",
              "      <th>4</th>\n",
              "      <td>-0.264471</td>\n",
              "      <td>-0.588280</td>\n",
              "      <td>-0.429539</td>\n",
              "      <td>-0.306397</td>\n",
              "      <td>-0.409093</td>\n",
              "      <td>-0.318044</td>\n",
              "      <td>-0.263806</td>\n",
              "      <td>-0.355332</td>\n",
              "    </tr>\n",
              "    <tr>\n",
              "      <th>5</th>\n",
              "      <td>0.531722</td>\n",
              "      <td>0.015083</td>\n",
              "      <td>-0.431014</td>\n",
              "      <td>0.506445</td>\n",
              "      <td>0.989313</td>\n",
              "      <td>0.506980</td>\n",
              "      <td>0.698624</td>\n",
              "      <td>0.726492</td>\n",
              "    </tr>\n",
              "  </tbody>\n",
              "</table>\n",
              "</div>"
            ],
            "text/plain": [
              "     Income  Other_Income  Overtime  Total_Income  Health_Insurance  \\\n",
              "0  0.979272     -0.476483 -0.234449      0.921924          0.911621   \n",
              "1 -1.259481     -0.588280 -0.175594     -1.270526         -1.504303   \n",
              "3 -0.170114      0.091140 -0.431752     -0.175099         -1.592864   \n",
              "4 -0.264471     -0.588280 -0.429539     -0.306397         -0.409093   \n",
              "5  0.531722      0.015083 -0.431014      0.506445          0.989313   \n",
              "\n",
              "   Retirement  Other_Benefits  Total_Benefits  \n",
              "0    1.173963        1.141794        1.156388  \n",
              "1   -1.186975       -1.269380       -1.374560  \n",
              "3   -0.037175       -0.043455       -0.529238  \n",
              "4   -0.318044       -0.263806       -0.355332  \n",
              "5    0.506980        0.698624        0.726492  "
            ]
          },
          "execution_count": 43,
          "metadata": {},
          "output_type": "execute_result"
        }
      ],
      "source": [
        "# filter the numerical features in the dataset\n",
        "df_numeric_features_vif = df_feature.select_dtypes(include=[np.number])\n",
        "\n",
        "# display the first five observations\n",
        "df_numeric_features_vif.head()"
      ]
    },
    {
      "cell_type": "markdown",
      "metadata": {
        "id": "60eUKC_HMUGa"
      },
      "source": [
        "#### Calculate the VIF for each numeric variable."
      ]
    },
    {
      "cell_type": "code",
      "execution_count": null,
      "metadata": {
        "id": "jxzEnu-gMUGb",
        "outputId": "324fea89-90f6-4510-e85b-6424d3926c96"
      },
      "outputs": [
        {
          "data": {
            "text/html": [
              "<div>\n",
              "<style scoped>\n",
              "    .dataframe tbody tr th:only-of-type {\n",
              "        vertical-align: middle;\n",
              "    }\n",
              "\n",
              "    .dataframe tbody tr th {\n",
              "        vertical-align: top;\n",
              "    }\n",
              "\n",
              "    .dataframe thead th {\n",
              "        text-align: right;\n",
              "    }\n",
              "</style>\n",
              "<table border=\"1\" class=\"dataframe\">\n",
              "  <thead>\n",
              "    <tr style=\"text-align: right;\">\n",
              "      <th></th>\n",
              "      <th>VIF_Factor</th>\n",
              "      <th>Features</th>\n",
              "    </tr>\n",
              "  </thead>\n",
              "  <tbody>\n",
              "    <tr>\n",
              "      <th>0</th>\n",
              "      <td>170617702.636403</td>\n",
              "      <td>Other_Income</td>\n",
              "    </tr>\n",
              "    <tr>\n",
              "      <th>1</th>\n",
              "      <td>158221792.477483</td>\n",
              "      <td>Other_Benefits</td>\n",
              "    </tr>\n",
              "    <tr>\n",
              "      <th>2</th>\n",
              "      <td>96980931.568950</td>\n",
              "      <td>Overtime</td>\n",
              "    </tr>\n",
              "    <tr>\n",
              "      <th>3</th>\n",
              "      <td>72754296.162391</td>\n",
              "      <td>Retirement</td>\n",
              "    </tr>\n",
              "    <tr>\n",
              "      <th>4</th>\n",
              "      <td>65221321.088127</td>\n",
              "      <td>Total_Income</td>\n",
              "    </tr>\n",
              "    <tr>\n",
              "      <th>5</th>\n",
              "      <td>49737213.938195</td>\n",
              "      <td>Health_Insurance</td>\n",
              "    </tr>\n",
              "    <tr>\n",
              "      <th>6</th>\n",
              "      <td>18476178.744263</td>\n",
              "      <td>Income</td>\n",
              "    </tr>\n",
              "    <tr>\n",
              "      <th>7</th>\n",
              "      <td>1389943.968060</td>\n",
              "      <td>Total_Benefits</td>\n",
              "    </tr>\n",
              "  </tbody>\n",
              "</table>\n",
              "</div>"
            ],
            "text/plain": [
              "        VIF_Factor          Features\n",
              "0 170617702.636403      Other_Income\n",
              "1 158221792.477483    Other_Benefits\n",
              "2  96980931.568950          Overtime\n",
              "3  72754296.162391        Retirement\n",
              "4  65221321.088127      Total_Income\n",
              "5  49737213.938195  Health_Insurance\n",
              "6  18476178.744263            Income\n",
              "7   1389943.968060    Total_Benefits"
            ]
          },
          "execution_count": 44,
          "metadata": {},
          "output_type": "execute_result"
        }
      ],
      "source": [
        "# create an empty dataframe to store the VIF for each variable\n",
        "vif = pd.DataFrame()\n",
        "\n",
        "# calculate VIF using list comprehension\n",
        "# use for loop to access each variable\n",
        "# calculate VIF for each variable and create a column 'VIF_Factor' to store the values\n",
        "vif[\"VIF_Factor\"] = [variance_inflation_factor(df_numeric_features_vif.values, i) for i in range(df_numeric_features_vif.shape[1])]\n",
        "\n",
        "# create a column of variable names\n",
        "vif[\"Features\"] = df_numeric_features_vif.columns\n",
        "\n",
        "# sort the dataframe based on the values of VIF_Factor in descending order\n",
        "# 'ascending = False' sorts the data in descending order\n",
        "# 'reset_index' resets the index of the dataframe\n",
        "# 'drop = True' drops the previous index\n",
        "vif.sort_values('VIF_Factor', ascending = False).reset_index(drop = True)"
      ]
    },
    {
      "cell_type": "markdown",
      "metadata": {
        "id": "LvVsNPeyMUGc"
      },
      "source": [
        "The output shows that the variable 'Income' has the highest VIF. Now, we use the `for loop` to find VIF and remove the variables with VIF greater than 10. We set the threshold to 10, as we wish to remove the variable for which the remaining variables explain more than 90% of the variation. One can choose the threshold  other than 10. (it depends on the business requirements)"
      ]
    },
    {
      "cell_type": "code",
      "execution_count": null,
      "metadata": {
        "id": "L60fKw1CMUGc",
        "outputId": "6e87436e-69a0-4634-9160-23f22e6cb503"
      },
      "outputs": [
        {
          "name": "stdout",
          "output_type": "stream",
          "text": [
            "   VIF_Factor        Features\n",
            "0    1.040618        Overtime\n",
            "1    3.752915      Retirement\n",
            "2    3.677896  Other_Benefits\n"
          ]
        }
      ],
      "source": [
        "# for each numeric variable, calculate VIF and save it in a dataframe 'vif'\n",
        "\n",
        "# use for loop to iterate the VIF function\n",
        "for ind in range(len(df_numeric_features_vif.columns)):\n",
        "\n",
        "    # create an empty dataframe\n",
        "    vif = pd.DataFrame()\n",
        "\n",
        "    # calculate VIF using list comprehension\n",
        "    # use for loop to access each variable\n",
        "    # calculate VIF for each variable and create a column 'VIF_Factor' to store the values\n",
        "    vif[\"VIF_Factor\"] = [variance_inflation_factor(df_numeric_features_vif.values, i) for i in range(df_numeric_features_vif.shape[1])]\n",
        "\n",
        "    # create a column of variable names\n",
        "    vif[\"Features\"] = df_numeric_features_vif.columns\n",
        "\n",
        "    # filter the variables with VIF greater than 10 and store it in a dataframe 'multi'\n",
        "    # one can choose the threshold other than 10 (it depends on the business requirements)\n",
        "    multi = vif[vif['VIF_Factor'] > 10]\n",
        "\n",
        "    # if dataframe 'multi' is not empty, then sort the dataframe by VIF values\n",
        "    # if dataframe 'multi' is empty (i.e. all VIF <= 10), then print the dataframe 'vif' and break the for loop using 'break'\n",
        "    # 'by' sorts the data using given variable(s)\n",
        "    # 'ascending = False' sorts the data in descending order\n",
        "    if(multi.empty == False):\n",
        "        df_sorted = multi.sort_values(by = 'VIF_Factor', ascending = False)\n",
        "    else:\n",
        "        print(vif)\n",
        "        break\n",
        "\n",
        "    # use if-else to drop the variable with the highest VIF\n",
        "    # if  dataframe 'df_sorted' is not empty, then drop the first entry in the column 'Features' from the numeric variables\n",
        "    # select the variable using 'iloc[]'\n",
        "    # 'axis=1' drops the corresponding column\n",
        "    #  else print the final dataframe 'vif' with all values after removal of variables with VIF less than 10\n",
        "    if (df_sorted.empty == False):\n",
        "        df_numeric_features_vif = df_numeric_features_vif.drop(df_sorted.Features.iloc[0], axis=1)\n",
        "    else:\n",
        "        print(vif)"
      ]
    },
    {
      "cell_type": "code",
      "execution_count": null,
      "metadata": {
        "id": "5S_kAxBxMUGe",
        "outputId": "32eb3559-46f3-4c9e-998f-2a95e84a08e8",
        "scrolled": true
      },
      "outputs": [
        {
          "data": {
            "text/html": [
              "<div>\n",
              "<style scoped>\n",
              "    .dataframe tbody tr th:only-of-type {\n",
              "        vertical-align: middle;\n",
              "    }\n",
              "\n",
              "    .dataframe tbody tr th {\n",
              "        vertical-align: top;\n",
              "    }\n",
              "\n",
              "    .dataframe thead th {\n",
              "        text-align: right;\n",
              "    }\n",
              "</style>\n",
              "<table border=\"1\" class=\"dataframe\">\n",
              "  <thead>\n",
              "    <tr style=\"text-align: right;\">\n",
              "      <th></th>\n",
              "      <th>Overtime</th>\n",
              "      <th>Retirement</th>\n",
              "      <th>Other_Benefits</th>\n",
              "    </tr>\n",
              "  </thead>\n",
              "  <tbody>\n",
              "    <tr>\n",
              "      <th>0</th>\n",
              "      <td>-0.234449</td>\n",
              "      <td>1.173963</td>\n",
              "      <td>1.141794</td>\n",
              "    </tr>\n",
              "    <tr>\n",
              "      <th>1</th>\n",
              "      <td>-0.175594</td>\n",
              "      <td>-1.186975</td>\n",
              "      <td>-1.269380</td>\n",
              "    </tr>\n",
              "    <tr>\n",
              "      <th>3</th>\n",
              "      <td>-0.431752</td>\n",
              "      <td>-0.037175</td>\n",
              "      <td>-0.043455</td>\n",
              "    </tr>\n",
              "    <tr>\n",
              "      <th>4</th>\n",
              "      <td>-0.429539</td>\n",
              "      <td>-0.318044</td>\n",
              "      <td>-0.263806</td>\n",
              "    </tr>\n",
              "    <tr>\n",
              "      <th>5</th>\n",
              "      <td>-0.431014</td>\n",
              "      <td>0.506980</td>\n",
              "      <td>0.698624</td>\n",
              "    </tr>\n",
              "  </tbody>\n",
              "</table>\n",
              "</div>"
            ],
            "text/plain": [
              "   Overtime  Retirement  Other_Benefits\n",
              "0 -0.234449    1.173963        1.141794\n",
              "1 -0.175594   -1.186975       -1.269380\n",
              "3 -0.431752   -0.037175       -0.043455\n",
              "4 -0.429539   -0.318044       -0.263806\n",
              "5 -0.431014    0.506980        0.698624"
            ]
          },
          "execution_count": 46,
          "metadata": {},
          "output_type": "execute_result"
        }
      ],
      "source": [
        "# display the first 5 observations\n",
        "df_numeric_features_vif.head()"
      ]
    },
    {
      "cell_type": "markdown",
      "metadata": {
        "id": "zCS5C6yEMUGf"
      },
      "source": [
        "**Interpretation** Now, we have all the variables with VIF less than 10. So, we can conclude that there is no multicollinearity in the data.<br>\n",
        "We will use the above dataframe \"df_numeric_features_vif\" to build the MLR model with significant variables."
      ]
    },
    {
      "cell_type": "markdown",
      "metadata": {
        "id": "TAkKFDMQMUGh"
      },
      "source": [
        "<a id=\"model\"></a>\n",
        "## 5.2 Build the MLR Model"
      ]
    },
    {
      "cell_type": "markdown",
      "metadata": {
        "id": "rOlTiDVsMUGi"
      },
      "source": [
        "<a id=\"full\"></a>\n",
        "### 5.2.1 MLR Full Model"
      ]
    },
    {
      "cell_type": "markdown",
      "metadata": {
        "id": "GYy0LLzIMUGj"
      },
      "source": [
        "We use the OLS technique to predict the Total_Reimbursement by considering all the independent features in the data."
      ]
    },
    {
      "cell_type": "markdown",
      "metadata": {
        "id": "lqsd3LYFMUGk"
      },
      "source": [
        "#### Filter numerical and categorical variables"
      ]
    },
    {
      "cell_type": "code",
      "execution_count": null,
      "metadata": {
        "id": "Qb-4eeg4MUGl"
      },
      "outputs": [],
      "source": [
        "# create dataframe of features by dropping the target variable\n",
        "# 'axis = 1' drops the corresponding column(s)\n",
        "df_feature = df_reimb.drop('Total_Reimbursement', axis = 1)\n",
        "\n",
        "# create dataframe of target variable\n",
        "df_target = df_reimb['Total_Reimbursement']"
      ]
    },
    {
      "cell_type": "code",
      "execution_count": null,
      "metadata": {
        "id": "wDx6bWzmMUGl",
        "outputId": "2f144c2b-2d7a-45da-9d0f-ef47ef9f34ee"
      },
      "outputs": [
        {
          "data": {
            "text/plain": [
              "Index(['Income', 'Other_Income', 'Overtime', 'Total_Income',\n",
              "       'Health_Insurance', 'Retirement', 'Other_Benefits', 'Total_Benefits'],\n",
              "      dtype='object')"
            ]
          },
          "execution_count": 48,
          "metadata": {},
          "output_type": "execute_result"
        }
      ],
      "source": [
        "# filter the numerical features in the dataset\n",
        "# 'select_dtypes' is used to select the variables with given data type\n",
        "# 'include=[np.number]' will include all the numerical variables\n",
        "df_num = df_feature.select_dtypes(include=[np.number])\n",
        "\n",
        "# display numerical features\n",
        "df_num.columns"
      ]
    },
    {
      "cell_type": "code",
      "execution_count": null,
      "metadata": {
        "id": "JxbXnWL2MUGn",
        "outputId": "0dd4d278-3ea9-4482-b28a-5c0ffc8652e3"
      },
      "outputs": [
        {
          "data": {
            "text/plain": [
              "Index(['Year', 'Type_of_yr'], dtype='object')"
            ]
          },
          "execution_count": 49,
          "metadata": {},
          "output_type": "execute_result"
        }
      ],
      "source": [
        "# filter the categorical features in the dataset\n",
        "# 'select_dtypes' is used to select the variables with given data type\n",
        "# 'include=[np.object]' will include all the categorical variables\n",
        "df_cat = df_feature.select_dtypes(include=[np.object])\n",
        "\n",
        "# display categorical features\n",
        "df_cat.columns"
      ]
    },
    {
      "cell_type": "code",
      "execution_count": null,
      "metadata": {
        "id": "O2bM50lZ9S8G",
        "outputId": "dfa3bc19-0940-45b9-c00a-fa4c7d22abf2"
      },
      "outputs": [
        {
          "data": {
            "text/html": [
              "<div>\n",
              "<style scoped>\n",
              "    .dataframe tbody tr th:only-of-type {\n",
              "        vertical-align: middle;\n",
              "    }\n",
              "\n",
              "    .dataframe tbody tr th {\n",
              "        vertical-align: top;\n",
              "    }\n",
              "\n",
              "    .dataframe thead th {\n",
              "        text-align: right;\n",
              "    }\n",
              "</style>\n",
              "<table border=\"1\" class=\"dataframe\">\n",
              "  <thead>\n",
              "    <tr style=\"text-align: right;\">\n",
              "      <th></th>\n",
              "      <th>Year</th>\n",
              "      <th>Type_of_yr</th>\n",
              "    </tr>\n",
              "  </thead>\n",
              "  <tbody>\n",
              "    <tr>\n",
              "      <th>0</th>\n",
              "      <td>2015</td>\n",
              "      <td>Financial</td>\n",
              "    </tr>\n",
              "    <tr>\n",
              "      <th>1</th>\n",
              "      <td>2015</td>\n",
              "      <td>Calendar</td>\n",
              "    </tr>\n",
              "    <tr>\n",
              "      <th>3</th>\n",
              "      <td>2018</td>\n",
              "      <td>Financial</td>\n",
              "    </tr>\n",
              "    <tr>\n",
              "      <th>4</th>\n",
              "      <td>2017</td>\n",
              "      <td>Financial</td>\n",
              "    </tr>\n",
              "    <tr>\n",
              "      <th>5</th>\n",
              "      <td>2017</td>\n",
              "      <td>Calendar</td>\n",
              "    </tr>\n",
              "  </tbody>\n",
              "</table>\n",
              "</div>"
            ],
            "text/plain": [
              "   Year Type_of_yr\n",
              "0  2015  Financial\n",
              "1  2015   Calendar\n",
              "3  2018  Financial\n",
              "4  2017  Financial\n",
              "5  2017   Calendar"
            ]
          },
          "execution_count": 50,
          "metadata": {},
          "output_type": "execute_result"
        }
      ],
      "source": [
        "df_cat.head()"
      ]
    },
    {
      "cell_type": "markdown",
      "metadata": {
        "id": "qg2GNuZ-MUGo"
      },
      "source": [
        "The OLS method fails in the presence of categorical variables. To overcome this we use (n-1) dummy encoding.\n",
        "\n",
        "**Encode the categorical variables and create (n-1) dummy variables for n categories of the variables.**"
      ]
    },
    {
      "cell_type": "code",
      "execution_count": null,
      "metadata": {
        "id": "CNqxHkoOMUGo"
      },
      "outputs": [],
      "source": [
        "# use 'get_dummies' from pandas to create dummy variables\n",
        "# use 'drop_first' to create (n-1) dummy variables\n",
        "encoded_data = pd.get_dummies(data = df_cat, drop_first=True)"
      ]
    },
    {
      "cell_type": "code",
      "execution_count": null,
      "metadata": {
        "id": "7bCIfpTGMUGp",
        "outputId": "6a5fe30c-e832-4fad-e7ca-10b32a679a02"
      },
      "outputs": [
        {
          "data": {
            "text/html": [
              "<div>\n",
              "<style scoped>\n",
              "    .dataframe tbody tr th:only-of-type {\n",
              "        vertical-align: middle;\n",
              "    }\n",
              "\n",
              "    .dataframe tbody tr th {\n",
              "        vertical-align: top;\n",
              "    }\n",
              "\n",
              "    .dataframe thead th {\n",
              "        text-align: right;\n",
              "    }\n",
              "</style>\n",
              "<table border=\"1\" class=\"dataframe\">\n",
              "  <thead>\n",
              "    <tr style=\"text-align: right;\">\n",
              "      <th></th>\n",
              "      <th>Year_2016</th>\n",
              "      <th>Year_2017</th>\n",
              "      <th>Year_2018</th>\n",
              "      <th>Type_of_yr_Financial</th>\n",
              "    </tr>\n",
              "  </thead>\n",
              "  <tbody>\n",
              "    <tr>\n",
              "      <th>0</th>\n",
              "      <td>0</td>\n",
              "      <td>0</td>\n",
              "      <td>0</td>\n",
              "      <td>1</td>\n",
              "    </tr>\n",
              "    <tr>\n",
              "      <th>1</th>\n",
              "      <td>0</td>\n",
              "      <td>0</td>\n",
              "      <td>0</td>\n",
              "      <td>0</td>\n",
              "    </tr>\n",
              "    <tr>\n",
              "      <th>3</th>\n",
              "      <td>0</td>\n",
              "      <td>0</td>\n",
              "      <td>1</td>\n",
              "      <td>1</td>\n",
              "    </tr>\n",
              "    <tr>\n",
              "      <th>4</th>\n",
              "      <td>0</td>\n",
              "      <td>1</td>\n",
              "      <td>0</td>\n",
              "      <td>1</td>\n",
              "    </tr>\n",
              "    <tr>\n",
              "      <th>5</th>\n",
              "      <td>0</td>\n",
              "      <td>1</td>\n",
              "      <td>0</td>\n",
              "      <td>0</td>\n",
              "    </tr>\n",
              "  </tbody>\n",
              "</table>\n",
              "</div>"
            ],
            "text/plain": [
              "   Year_2016  Year_2017  Year_2018  Type_of_yr_Financial\n",
              "0          0          0          0                     1\n",
              "1          0          0          0                     0\n",
              "3          0          0          1                     1\n",
              "4          0          1          0                     1\n",
              "5          0          1          0                     0"
            ]
          },
          "execution_count": 52,
          "metadata": {},
          "output_type": "execute_result"
        }
      ],
      "source": [
        "encoded_data.head()"
      ]
    },
    {
      "cell_type": "markdown",
      "metadata": {
        "id": "L6ufHyUBMUGq"
      },
      "source": [
        "#### Concatenate numerical and dummy encoded categorical variables."
      ]
    },
    {
      "cell_type": "code",
      "execution_count": null,
      "metadata": {
        "id": "s_TNyIo3MUGr",
        "outputId": "629e3fd4-f224-407f-da8f-c674b5f7d9ed"
      },
      "outputs": [
        {
          "data": {
            "text/html": [
              "<div>\n",
              "<style scoped>\n",
              "    .dataframe tbody tr th:only-of-type {\n",
              "        vertical-align: middle;\n",
              "    }\n",
              "\n",
              "    .dataframe tbody tr th {\n",
              "        vertical-align: top;\n",
              "    }\n",
              "\n",
              "    .dataframe thead th {\n",
              "        text-align: right;\n",
              "    }\n",
              "</style>\n",
              "<table border=\"1\" class=\"dataframe\">\n",
              "  <thead>\n",
              "    <tr style=\"text-align: right;\">\n",
              "      <th></th>\n",
              "      <th>Income</th>\n",
              "      <th>Other_Income</th>\n",
              "      <th>Overtime</th>\n",
              "      <th>Total_Income</th>\n",
              "      <th>Health_Insurance</th>\n",
              "      <th>Retirement</th>\n",
              "      <th>Other_Benefits</th>\n",
              "      <th>Total_Benefits</th>\n",
              "      <th>Year_2016</th>\n",
              "      <th>Year_2017</th>\n",
              "      <th>Year_2018</th>\n",
              "      <th>Type_of_yr_Financial</th>\n",
              "    </tr>\n",
              "  </thead>\n",
              "  <tbody>\n",
              "    <tr>\n",
              "      <th>0</th>\n",
              "      <td>0.979272</td>\n",
              "      <td>-0.476483</td>\n",
              "      <td>-0.234449</td>\n",
              "      <td>0.921924</td>\n",
              "      <td>0.911621</td>\n",
              "      <td>1.173963</td>\n",
              "      <td>1.141794</td>\n",
              "      <td>1.156388</td>\n",
              "      <td>0</td>\n",
              "      <td>0</td>\n",
              "      <td>0</td>\n",
              "      <td>1</td>\n",
              "    </tr>\n",
              "    <tr>\n",
              "      <th>1</th>\n",
              "      <td>-1.259481</td>\n",
              "      <td>-0.588280</td>\n",
              "      <td>-0.175594</td>\n",
              "      <td>-1.270526</td>\n",
              "      <td>-1.504303</td>\n",
              "      <td>-1.186975</td>\n",
              "      <td>-1.269380</td>\n",
              "      <td>-1.374560</td>\n",
              "      <td>0</td>\n",
              "      <td>0</td>\n",
              "      <td>0</td>\n",
              "      <td>0</td>\n",
              "    </tr>\n",
              "    <tr>\n",
              "      <th>3</th>\n",
              "      <td>-0.170114</td>\n",
              "      <td>0.091140</td>\n",
              "      <td>-0.431752</td>\n",
              "      <td>-0.175099</td>\n",
              "      <td>-1.592864</td>\n",
              "      <td>-0.037175</td>\n",
              "      <td>-0.043455</td>\n",
              "      <td>-0.529238</td>\n",
              "      <td>0</td>\n",
              "      <td>0</td>\n",
              "      <td>1</td>\n",
              "      <td>1</td>\n",
              "    </tr>\n",
              "    <tr>\n",
              "      <th>4</th>\n",
              "      <td>-0.264471</td>\n",
              "      <td>-0.588280</td>\n",
              "      <td>-0.429539</td>\n",
              "      <td>-0.306397</td>\n",
              "      <td>-0.409093</td>\n",
              "      <td>-0.318044</td>\n",
              "      <td>-0.263806</td>\n",
              "      <td>-0.355332</td>\n",
              "      <td>0</td>\n",
              "      <td>1</td>\n",
              "      <td>0</td>\n",
              "      <td>1</td>\n",
              "    </tr>\n",
              "    <tr>\n",
              "      <th>5</th>\n",
              "      <td>0.531722</td>\n",
              "      <td>0.015083</td>\n",
              "      <td>-0.431014</td>\n",
              "      <td>0.506445</td>\n",
              "      <td>0.989313</td>\n",
              "      <td>0.506980</td>\n",
              "      <td>0.698624</td>\n",
              "      <td>0.726492</td>\n",
              "      <td>0</td>\n",
              "      <td>1</td>\n",
              "      <td>0</td>\n",
              "      <td>0</td>\n",
              "    </tr>\n",
              "  </tbody>\n",
              "</table>\n",
              "</div>"
            ],
            "text/plain": [
              "     Income  Other_Income  Overtime  Total_Income  Health_Insurance  \\\n",
              "0  0.979272     -0.476483 -0.234449      0.921924          0.911621   \n",
              "1 -1.259481     -0.588280 -0.175594     -1.270526         -1.504303   \n",
              "3 -0.170114      0.091140 -0.431752     -0.175099         -1.592864   \n",
              "4 -0.264471     -0.588280 -0.429539     -0.306397         -0.409093   \n",
              "5  0.531722      0.015083 -0.431014      0.506445          0.989313   \n",
              "\n",
              "   Retirement  Other_Benefits  Total_Benefits  Year_2016  Year_2017  \\\n",
              "0    1.173963        1.141794        1.156388          0          0   \n",
              "1   -1.186975       -1.269380       -1.374560          0          0   \n",
              "3   -0.037175       -0.043455       -0.529238          0          0   \n",
              "4   -0.318044       -0.263806       -0.355332          0          1   \n",
              "5    0.506980        0.698624        0.726492          0          1   \n",
              "\n",
              "   Year_2018  Type_of_yr_Financial  \n",
              "0          0                     1  \n",
              "1          0                     0  \n",
              "3          1                     1  \n",
              "4          0                     1  \n",
              "5          0                     0  "
            ]
          },
          "execution_count": 53,
          "metadata": {},
          "output_type": "execute_result"
        }
      ],
      "source": [
        "# concat the dummy variables with numeric features to create a dataframe of all independent variables\n",
        "# 'axis=1' concats the dataframes along columns\n",
        "df_reimb_dummy = pd.concat([df_num, encoded_data], axis=1)\n",
        "\n",
        "# display first five observations\n",
        "df_reimb_dummy.head()"
      ]
    },
    {
      "cell_type": "markdown",
      "metadata": {
        "id": "SB7cBwftMUGs"
      },
      "source": [
        "**Interpretation:** We can see that the dummy variables are added to the data."
      ]
    },
    {
      "cell_type": "markdown",
      "metadata": {
        "id": "bSo_4c8mMUGs"
      },
      "source": [
        "#### Split the data into training and test sets."
      ]
    },
    {
      "cell_type": "code",
      "execution_count": null,
      "metadata": {
        "id": "Kg-7er1RMUGt",
        "outputId": "f6fd538e-1fea-4ebd-bf42-2a7b8f009a11"
      },
      "outputs": [
        {
          "name": "stdout",
          "output_type": "stream",
          "text": [
            "X_train_full (26320, 13)\n",
            "y_train_full (26320,)\n",
            "X_test_full (11281, 13)\n",
            "y_test_full (11281,)\n"
          ]
        }
      ],
      "source": [
        "# set of independent variables\n",
        "# create a copy of 'df_reimb_dummy' and store in the dataframe 'X_full'\n",
        "X_full = df_reimb_dummy.copy()\n",
        "\n",
        "# dependent variable\n",
        "# create a copy of 'df_target' and store in the dataframe 'y_full'\n",
        "y_full = df_target.copy()\n",
        "\n",
        "# to estimate the regression coefficient, a constant term of '1' needs to be added as a separate column\n",
        "# 'sm.add_constant' adds the intercept to the model\n",
        "X_full = sm.add_constant(X_full)\n",
        "\n",
        "# split data into train subset and test subset\n",
        "# set 'random_state' to generate the same dataset each time you run the code\n",
        "# 'test_size' returns the proportion of data to be included in the testing set\n",
        "X_train_full, X_test_full, y_train_full, y_test_full = train_test_split(X_full, y_full,\n",
        "                                                                        random_state=1,\n",
        "                                                                        test_size = 0.3)\n",
        "\n",
        "# checking the dimensions of the train & test subset\n",
        "# print dimension of train set\n",
        "print('X_train_full', X_train_full.shape)\n",
        "print('y_train_full', y_train_full.shape)\n",
        "\n",
        "# print dimension of test set\n",
        "print('X_test_full', X_test_full.shape)\n",
        "print('y_test_full', y_test_full.shape)"
      ]
    },
    {
      "cell_type": "markdown",
      "metadata": {
        "id": "3YLaWhw0MUGv"
      },
      "source": [
        "**Build the multiple linear regression model using the OLS method.**"
      ]
    },
    {
      "cell_type": "code",
      "execution_count": null,
      "metadata": {
        "id": "y7FDgybIMUGv",
        "outputId": "ade4d312-fa7f-4c96-da3d-eef57e71187d",
        "scrolled": false
      },
      "outputs": [
        {
          "name": "stdout",
          "output_type": "stream",
          "text": [
            "                             OLS Regression Results                            \n",
            "===============================================================================\n",
            "Dep. Variable:     Total_Reimbursement   R-squared:                       1.000\n",
            "Model:                             OLS   Adj. R-squared:                  1.000\n",
            "Method:                  Least Squares   F-statistic:                 3.688e+33\n",
            "Date:                 Wed, 22 Feb 2023   Prob (F-statistic):               0.00\n",
            "Time:                         20:40:54   Log-Likelihood:             8.7613e+05\n",
            "No. Observations:                26320   AIC:                        -1.752e+06\n",
            "Df Residuals:                    26309   BIC:                        -1.752e+06\n",
            "Df Model:                           10                                         \n",
            "Covariance Type:             nonrobust                                         \n",
            "========================================================================================\n",
            "                           coef    std err          t      P>|t|      [0.025      0.975]\n",
            "----------------------------------------------------------------------------------------\n",
            "const                -2.029e-14   1.13e-17  -1797.899      0.000   -2.03e-14   -2.03e-14\n",
            "Income                   0.3643   1.02e-17   3.57e+16      0.000       0.364       0.364\n",
            "Other_Income             0.0215   5.74e-18   3.74e+15      0.000       0.021       0.021\n",
            "Overtime                 0.0122   5.61e-18   2.17e+15      0.000       0.012       0.012\n",
            "Total_Income             0.3576   9.91e-18   3.61e+16      0.000       0.358       0.358\n",
            "Health_Insurance         0.0609   9.85e-18   6.19e+15      0.000       0.061       0.061\n",
            "Retirement               0.1071   1.55e-17   6.89e+15      0.000       0.107       0.107\n",
            "Other_Benefits           0.0378   1.13e-17   3.35e+15      0.000       0.038       0.038\n",
            "Total_Benefits           0.0856    7.1e-18   1.21e+16      0.000       0.086       0.086\n",
            "Year_2016             1.787e-16   1.79e-17      9.999      0.000    1.44e-16    2.14e-16\n",
            "Year_2017            -1.813e-16   1.42e-17    -12.748      0.000   -2.09e-16   -1.53e-16\n",
            "Year_2018            -6.809e-17   1.37e-17     -4.960      0.000    -9.5e-17   -4.12e-17\n",
            "Type_of_yr_Financial -8.283e-17   1.13e-17     -7.324      0.000   -1.05e-16   -6.07e-17\n",
            "==============================================================================\n",
            "Omnibus:                     2075.166   Durbin-Watson:                   1.973\n",
            "Prob(Omnibus):                  0.000   Jarque-Bera (JB):             2598.331\n",
            "Skew:                          -0.745   Prob(JB):                         0.00\n",
            "Kurtosis:                       3.387   Cond. No.                     2.50e+16\n",
            "==============================================================================\n",
            "\n",
            "Notes:\n",
            "[1] Standard Errors assume that the covariance matrix of the errors is correctly specified.\n",
            "[2] The smallest eigenvalue is 2.36e-28. This might indicate that there are\n",
            "strong multicollinearity problems or that the design matrix is singular.\n"
          ]
        }
      ],
      "source": [
        "# build a model on training dataset\n",
        "# fit() is used to fit the OLS model\n",
        "MLR_full_model = sm.OLS(y_train_full, X_train_full).fit()\n",
        "\n",
        "# print the summary output\n",
        "print(MLR_full_model.summary())"
      ]
    },
    {
      "cell_type": "markdown",
      "metadata": {
        "id": "HOa1mMYoMUGw"
      },
      "source": [
        "**Interpretation:** The R-squared value obtained from this model is 1.0 which means that the above model explains a 100% of the variation in the Total_Reimbursement. But, this can't be possible.<br>\n",
        "\n",
        "The `Durbin-Watson` test is used to check the autocorrelation between the residuals.\n",
        "\n",
        "If the Durbin-Watson test statistic is near to 2: no autocorrelation<br>\n",
        "If the Durbin-Watson test statistic is between 0 and 2: positive autocorrelation <br>\n",
        "If the Durbin-Watson test statistic is between 2 and 4: negative autocorrelation\n",
        "\n",
        "The summary output shows that the value of the test statistic is far from 2 (= 1.954) which means there is autocorrelation.\n",
        "\n",
        "The `Jarque-Bera` test is used to check the normality of the residuals. Here, the p-value of the test is less than 0.05; that implies the residuals are not normally distributed.\n",
        "\n",
        "Also, the 'Cond. No' (4.03e+16) represents the `Condition Number (CN)` that is used to check the multicollinearity.\n",
        "\n",
        "If CN < 100: no multicollinearity.<br>\n",
        "If CN is between 100 and 1000: moderate multicollinearity<br>\n",
        "If CN > 1000: severe multicollinearity\n",
        "\n",
        "Thus, it can be seen that there is severe multicollinearity in the data."
      ]
    },
    {
      "cell_type": "markdown",
      "metadata": {
        "id": "sPHK6vIrMUGx"
      },
      "source": [
        "#### Predict the Total_Reimbursement using X_test_full"
      ]
    },
    {
      "cell_type": "code",
      "execution_count": null,
      "metadata": {
        "id": "dl7qjCRaMUG0"
      },
      "outputs": [],
      "source": [
        "y_pred_full = MLR_full_model.predict(X_test_full)"
      ]
    },
    {
      "cell_type": "markdown",
      "metadata": {
        "id": "942QVob_MUG1"
      },
      "source": [
        "<a id=\"signi_var\"></a>\n",
        "### 5.2.2 MLR Model after Removing Insignificant Variables"
      ]
    },
    {
      "cell_type": "markdown",
      "metadata": {
        "id": "lGpmsaW7MUG2"
      },
      "source": [
        "Now, let us build the model using the categorical variable and the variables obtained from VIF."
      ]
    },
    {
      "cell_type": "markdown",
      "metadata": {
        "id": "yx6bCC-UMUG2"
      },
      "source": [
        "#### Filter numerical and categorical variables"
      ]
    },
    {
      "cell_type": "code",
      "execution_count": null,
      "metadata": {
        "id": "gZFIygVjMUG3",
        "outputId": "1c31c930-8506-4794-ff06-b946f47d0986"
      },
      "outputs": [
        {
          "data": {
            "text/plain": [
              "Index(['Overtime', 'Retirement', 'Other_Benefits'], dtype='object')"
            ]
          },
          "execution_count": 57,
          "metadata": {},
          "output_type": "execute_result"
        }
      ],
      "source": [
        "# display numeric features obtained from VIF\n",
        "df_numeric_features_vif.columns"
      ]
    },
    {
      "cell_type": "code",
      "execution_count": null,
      "metadata": {
        "id": "u60rQficMUG4",
        "outputId": "b77e1248-5d0e-48e9-a84d-7629a622a276"
      },
      "outputs": [
        {
          "data": {
            "text/plain": [
              "Index(['Year', 'Type_of_yr'], dtype='object')"
            ]
          },
          "execution_count": 58,
          "metadata": {},
          "output_type": "execute_result"
        }
      ],
      "source": [
        "# filter the categorical features in the dataset\n",
        "# 'select_dtypes' is used to select the variables with given data type\n",
        "# 'include=[np.object]' will include all the categorical variables\n",
        "df_cat = df_feature.select_dtypes(include=[np.object])\n",
        "\n",
        "# display categorical features\n",
        "df_cat.columns"
      ]
    },
    {
      "cell_type": "markdown",
      "metadata": {
        "id": "lFS4BNihMUG5"
      },
      "source": [
        "The OLS method fails in the presence of categorical variables. To overcome this we use (n-1) dummy encoding.\n",
        "\n",
        "**Encode the categorical variables and create (n-1) dummy variables for n categories.**"
      ]
    },
    {
      "cell_type": "code",
      "execution_count": null,
      "metadata": {
        "id": "JWKs8GjBMUSp"
      },
      "outputs": [],
      "source": [
        "# use 'get_dummies' from pandas to create dummy variables\n",
        "# use 'drop_first' to create (n-1) dummy variables\n",
        "encoded_data = pd.get_dummies(data = df_cat, drop_first=True)"
      ]
    },
    {
      "cell_type": "markdown",
      "metadata": {
        "id": "ma1M_HviMUSq"
      },
      "source": [
        "#### Concatenate numerical and dummy encoded categorical variables."
      ]
    },
    {
      "cell_type": "code",
      "execution_count": null,
      "metadata": {
        "id": "8QGyfpOaMUSr",
        "outputId": "3f95a633-8973-4a72-a064-296f3ee08c0d"
      },
      "outputs": [
        {
          "data": {
            "text/html": [
              "<div>\n",
              "<style scoped>\n",
              "    .dataframe tbody tr th:only-of-type {\n",
              "        vertical-align: middle;\n",
              "    }\n",
              "\n",
              "    .dataframe tbody tr th {\n",
              "        vertical-align: top;\n",
              "    }\n",
              "\n",
              "    .dataframe thead th {\n",
              "        text-align: right;\n",
              "    }\n",
              "</style>\n",
              "<table border=\"1\" class=\"dataframe\">\n",
              "  <thead>\n",
              "    <tr style=\"text-align: right;\">\n",
              "      <th></th>\n",
              "      <th>Overtime</th>\n",
              "      <th>Retirement</th>\n",
              "      <th>Other_Benefits</th>\n",
              "      <th>Year_2016</th>\n",
              "      <th>Year_2017</th>\n",
              "      <th>Year_2018</th>\n",
              "      <th>Type_of_yr_Financial</th>\n",
              "    </tr>\n",
              "  </thead>\n",
              "  <tbody>\n",
              "    <tr>\n",
              "      <th>0</th>\n",
              "      <td>-0.234449</td>\n",
              "      <td>1.173963</td>\n",
              "      <td>1.141794</td>\n",
              "      <td>0</td>\n",
              "      <td>0</td>\n",
              "      <td>0</td>\n",
              "      <td>1</td>\n",
              "    </tr>\n",
              "    <tr>\n",
              "      <th>1</th>\n",
              "      <td>-0.175594</td>\n",
              "      <td>-1.186975</td>\n",
              "      <td>-1.269380</td>\n",
              "      <td>0</td>\n",
              "      <td>0</td>\n",
              "      <td>0</td>\n",
              "      <td>0</td>\n",
              "    </tr>\n",
              "    <tr>\n",
              "      <th>3</th>\n",
              "      <td>-0.431752</td>\n",
              "      <td>-0.037175</td>\n",
              "      <td>-0.043455</td>\n",
              "      <td>0</td>\n",
              "      <td>0</td>\n",
              "      <td>1</td>\n",
              "      <td>1</td>\n",
              "    </tr>\n",
              "    <tr>\n",
              "      <th>4</th>\n",
              "      <td>-0.429539</td>\n",
              "      <td>-0.318044</td>\n",
              "      <td>-0.263806</td>\n",
              "      <td>0</td>\n",
              "      <td>1</td>\n",
              "      <td>0</td>\n",
              "      <td>1</td>\n",
              "    </tr>\n",
              "    <tr>\n",
              "      <th>5</th>\n",
              "      <td>-0.431014</td>\n",
              "      <td>0.506980</td>\n",
              "      <td>0.698624</td>\n",
              "      <td>0</td>\n",
              "      <td>1</td>\n",
              "      <td>0</td>\n",
              "      <td>0</td>\n",
              "    </tr>\n",
              "  </tbody>\n",
              "</table>\n",
              "</div>"
            ],
            "text/plain": [
              "   Overtime  Retirement  Other_Benefits  Year_2016  Year_2017  Year_2018  \\\n",
              "0 -0.234449    1.173963        1.141794          0          0          0   \n",
              "1 -0.175594   -1.186975       -1.269380          0          0          0   \n",
              "3 -0.431752   -0.037175       -0.043455          0          0          1   \n",
              "4 -0.429539   -0.318044       -0.263806          0          1          0   \n",
              "5 -0.431014    0.506980        0.698624          0          1          0   \n",
              "\n",
              "   Type_of_yr_Financial  \n",
              "0                     1  \n",
              "1                     0  \n",
              "3                     1  \n",
              "4                     1  \n",
              "5                     0  "
            ]
          },
          "execution_count": 60,
          "metadata": {},
          "output_type": "execute_result"
        }
      ],
      "source": [
        "# concat the dummy variables with numeric features to create a dataframe of all independent variables\n",
        "# 'axis=1' concats the dataframes along columns\n",
        "df_reimb_dummy = pd.concat([df_numeric_features_vif, encoded_data], axis=1)\n",
        "\n",
        "# display first five observations\n",
        "df_reimb_dummy.head()"
      ]
    },
    {
      "cell_type": "markdown",
      "metadata": {
        "id": "peIfYD8-MUSt"
      },
      "source": [
        "**Interpretation:** We can see that the dummy variables are added to the data."
      ]
    },
    {
      "cell_type": "markdown",
      "metadata": {
        "id": "yKx1_mlWMUSt"
      },
      "source": [
        "#### Split the data into training and test sets."
      ]
    },
    {
      "cell_type": "code",
      "execution_count": null,
      "metadata": {
        "id": "Hiq4zaYzMUSu",
        "outputId": "c3d46148-0123-42d5-eff3-585795ad56ee"
      },
      "outputs": [
        {
          "name": "stdout",
          "output_type": "stream",
          "text": [
            "X_train_signi_var (26320, 8)\n",
            "y_train_signi_var (26320,)\n",
            "X_test_signi_var (11281, 8)\n",
            "y_test_signi_var (11281,)\n"
          ]
        }
      ],
      "source": [
        "# set of independent variables\n",
        "# create a copy of 'df_reimb_dummy' and store in the dataframe 'X_signi_var'\n",
        "X_signi_var = df_reimb_dummy.copy()\n",
        "\n",
        "# dependent variable\n",
        "# create a copy of 'df_target' and store in the dataframe 'y_signi_var'\n",
        "y_signi_var = df_target.copy()\n",
        "\n",
        "# to estimate the regression coefficient, a constant term of '1' needs to be added as a separate column\n",
        "# 'sm.add_constant' adds the intercept to the model\n",
        "X_signi_var = sm.add_constant(X_signi_var)\n",
        "\n",
        "# split data into train subset and test subset\n",
        "# set 'random_state' to generate the same dataset each time you run the code\n",
        "# 'test_size' returns the proportion of data to be included in the testing set\n",
        "X_train_signi_var, X_test_signi_var, y_train_signi_var, y_test_signi_var = train_test_split(X_signi_var, y_signi_var,\n",
        "                                                                                            random_state=1, test_size = 0.3)\n",
        "\n",
        "# checking the dimensions of the train & test subset\n",
        "# print dimension of train set\n",
        "print('X_train_signi_var', X_train_signi_var.shape)\n",
        "print('y_train_signi_var', y_train_signi_var.shape)\n",
        "\n",
        "# print dimension of test set\n",
        "print('X_test_signi_var', X_test_signi_var.shape)\n",
        "print('y_test_signi_var', y_test_signi_var.shape)"
      ]
    },
    {
      "cell_type": "markdown",
      "metadata": {
        "id": "TDEO6HIUMUSv"
      },
      "source": [
        "**Build the multiple linear regression model using the OLS method.**"
      ]
    },
    {
      "cell_type": "code",
      "execution_count": null,
      "metadata": {
        "id": "RUB-wdxhMUSw",
        "outputId": "4eb5c3b4-647f-4ca8-ce48-8d56c2597ef7",
        "scrolled": false
      },
      "outputs": [
        {
          "name": "stdout",
          "output_type": "stream",
          "text": [
            "                             OLS Regression Results                            \n",
            "===============================================================================\n",
            "Dep. Variable:     Total_Reimbursement   R-squared:                       0.959\n",
            "Model:                             OLS   Adj. R-squared:                  0.959\n",
            "Method:                  Least Squares   F-statistic:                 8.755e+04\n",
            "Date:                 Wed, 22 Feb 2023   Prob (F-statistic):               0.00\n",
            "Time:                         20:40:54   Log-Likelihood:                 4606.7\n",
            "No. Observations:                26320   AIC:                            -9197.\n",
            "Df Residuals:                    26312   BIC:                            -9132.\n",
            "Df Model:                            7                                         \n",
            "Covariance Type:             nonrobust                                         \n",
            "========================================================================================\n",
            "                           coef    std err          t      P>|t|      [0.025      0.975]\n",
            "----------------------------------------------------------------------------------------\n",
            "const                   -0.0458      0.003    -17.011      0.000      -0.051      -0.041\n",
            "Overtime                 0.0293      0.001     22.979      0.000       0.027       0.032\n",
            "Retirement               0.7815      0.002    316.086      0.000       0.777       0.786\n",
            "Other_Benefits           0.2199      0.002     89.931      0.000       0.215       0.225\n",
            "Year_2016                0.1124      0.004     26.598      0.000       0.104       0.121\n",
            "Year_2017                0.1017      0.003     30.344      0.000       0.095       0.108\n",
            "Year_2018                0.0024      0.003      0.732      0.464      -0.004       0.009\n",
            "Type_of_yr_Financial     0.0009      0.003      0.318      0.750      -0.004       0.006\n",
            "==============================================================================\n",
            "Omnibus:                    14778.592   Durbin-Watson:                   1.964\n",
            "Prob(Omnibus):                  0.000   Jarque-Bera (JB):           937268.840\n",
            "Skew:                           1.921   Prob(JB):                         0.00\n",
            "Kurtosis:                      31.981   Cond. No.                         5.81\n",
            "==============================================================================\n",
            "\n",
            "Notes:\n",
            "[1] Standard Errors assume that the covariance matrix of the errors is correctly specified.\n"
          ]
        }
      ],
      "source": [
        "# build a model on training dataset\n",
        "# fit() is used to fit the OLS model\n",
        "MLR_model_vif = sm.OLS(y_train_signi_var, X_train_signi_var).fit()\n",
        "\n",
        "# print the summary output\n",
        "print(MLR_model_vif.summary())"
      ]
    },
    {
      "cell_type": "markdown",
      "metadata": {
        "id": "DsW-9AiCMUSw"
      },
      "source": [
        "**Interpretation:** The R-squared value obtained from this model is 0.962 which means that the above model explains a 96.2% of the variation in the Total_Reimbursement. Also, we can see that the p-value for some variabels is greater than 0.05, we remove such variables and again build the model."
      ]
    },
    {
      "cell_type": "markdown",
      "metadata": {
        "id": "1h0dpW3kMUSx"
      },
      "source": [
        "Now, calculate the p-values for each variable and create a list of all insignificant variables in the model."
      ]
    },
    {
      "cell_type": "markdown",
      "metadata": {
        "id": "ojNEEqq6MUSy"
      },
      "source": [
        "#### Calculate the p-values to know the insignificant variables"
      ]
    },
    {
      "cell_type": "code",
      "execution_count": null,
      "metadata": {
        "id": "9XLU4Tm-MUSy",
        "outputId": "69a7a38c-5c6f-4d59-9b0f-c6b99b5c16d4"
      },
      "outputs": [
        {
          "data": {
            "text/html": [
              "<div>\n",
              "<style scoped>\n",
              "    .dataframe tbody tr th:only-of-type {\n",
              "        vertical-align: middle;\n",
              "    }\n",
              "\n",
              "    .dataframe tbody tr th {\n",
              "        vertical-align: top;\n",
              "    }\n",
              "\n",
              "    .dataframe thead th {\n",
              "        text-align: right;\n",
              "    }\n",
              "</style>\n",
              "<table border=\"1\" class=\"dataframe\">\n",
              "  <thead>\n",
              "    <tr style=\"text-align: right;\">\n",
              "      <th></th>\n",
              "      <th>P-Value</th>\n",
              "    </tr>\n",
              "  </thead>\n",
              "  <tbody>\n",
              "    <tr>\n",
              "      <th>const</th>\n",
              "      <td>0.000000</td>\n",
              "    </tr>\n",
              "    <tr>\n",
              "      <th>Overtime</th>\n",
              "      <td>0.000000</td>\n",
              "    </tr>\n",
              "    <tr>\n",
              "      <th>Retirement</th>\n",
              "      <td>0.000000</td>\n",
              "    </tr>\n",
              "    <tr>\n",
              "      <th>Other_Benefits</th>\n",
              "      <td>0.000000</td>\n",
              "    </tr>\n",
              "    <tr>\n",
              "      <th>Year_2016</th>\n",
              "      <td>0.000000</td>\n",
              "    </tr>\n",
              "    <tr>\n",
              "      <th>Year_2017</th>\n",
              "      <td>0.000000</td>\n",
              "    </tr>\n",
              "    <tr>\n",
              "      <th>Year_2018</th>\n",
              "      <td>0.464384</td>\n",
              "    </tr>\n",
              "    <tr>\n",
              "      <th>Type_of_yr_Financial</th>\n",
              "      <td>0.750488</td>\n",
              "    </tr>\n",
              "  </tbody>\n",
              "</table>\n",
              "</div>"
            ],
            "text/plain": [
              "                      P-Value\n",
              "const                0.000000\n",
              "Overtime             0.000000\n",
              "Retirement           0.000000\n",
              "Other_Benefits       0.000000\n",
              "Year_2016            0.000000\n",
              "Year_2017            0.000000\n",
              "Year_2018            0.464384\n",
              "Type_of_yr_Financial 0.750488"
            ]
          },
          "execution_count": 63,
          "metadata": {},
          "output_type": "execute_result"
        }
      ],
      "source": [
        "# calculate p-values for all the independent variables in the MLR_model\n",
        "# create a dataframe containing p-values\n",
        "# pass the column name to the parameter 'columns'\n",
        "MLR_pvalues = pd.DataFrame(MLR_model_vif.pvalues, columns = [\"P-Value\"])\n",
        "\n",
        "# print the dataframe\n",
        "MLR_pvalues"
      ]
    },
    {
      "cell_type": "markdown",
      "metadata": {
        "id": "swMwRHjeMUSz"
      },
      "source": [
        "**Interpretation:** The above table shows the p-value of each variable. Use this dataframe to identify the significant variables."
      ]
    },
    {
      "cell_type": "markdown",
      "metadata": {
        "id": "i9sdjxwYMUS0"
      },
      "source": [
        "#### Create a list of insignificant variables."
      ]
    },
    {
      "cell_type": "code",
      "execution_count": null,
      "metadata": {
        "id": "c5ioUsToMUS0",
        "outputId": "62510f92-0166-48f7-dab6-c2b1891c8ebe"
      },
      "outputs": [
        {
          "data": {
            "text/plain": [
              "['Year_2018', 'Type_of_yr_Financial']"
            ]
          },
          "execution_count": 64,
          "metadata": {},
          "output_type": "execute_result"
        }
      ],
      "source": [
        "# subset the dataframe 'MLR_pvalues' such that the variables will have p-value greater than 0.05\n",
        "# store the subset of a dataframe to a new dataframe 'insignificant_var'\n",
        "insignificant_var = MLR_pvalues[1:][MLR_pvalues[1:]['P-Value'] > 0.05]\n",
        "\n",
        "# get the variable names with p-value greater than 0.05\n",
        "insigni_var = insignificant_var.index\n",
        "\n",
        "# convert the variables to the type 'list' using 'to_list()'\n",
        "insigni_var = insigni_var.to_list()\n",
        "\n",
        "# print the list of insignificant variables\n",
        "insigni_var"
      ]
    },
    {
      "cell_type": "markdown",
      "metadata": {
        "id": "e5mj9VFoMUS1"
      },
      "source": [
        "Now, build a model after removing the insignificant variables from the data.\n",
        "\n",
        "Drop the variable `Type_of_yr`, as one category 'Financial' is insignificant. We do not dro the variable 'Year' as only one category out of 4 categories is insignificant."
      ]
    },
    {
      "cell_type": "code",
      "execution_count": null,
      "metadata": {
        "id": "pRjZgmREMUS2",
        "outputId": "0100657d-7848-41d9-fbc8-791ae544395c",
        "scrolled": false
      },
      "outputs": [
        {
          "name": "stdout",
          "output_type": "stream",
          "text": [
            "                             OLS Regression Results                            \n",
            "===============================================================================\n",
            "Dep. Variable:     Total_Reimbursement   R-squared:                       0.959\n",
            "Model:                             OLS   Adj. R-squared:                  0.959\n",
            "Method:                  Least Squares   F-statistic:                 1.021e+05\n",
            "Date:                 Wed, 22 Feb 2023   Prob (F-statistic):               0.00\n",
            "Time:                         20:40:54   Log-Likelihood:                 4606.6\n",
            "No. Observations:                26320   AIC:                            -9199.\n",
            "Df Residuals:                    26313   BIC:                            -9142.\n",
            "Df Model:                            6                                         \n",
            "Covariance Type:             nonrobust                                         \n",
            "==================================================================================\n",
            "                     coef    std err          t      P>|t|      [0.025      0.975]\n",
            "----------------------------------------------------------------------------------\n",
            "const             -0.0454      0.002    -19.559      0.000      -0.050      -0.041\n",
            "Overtime           0.0293      0.001     22.978      0.000       0.027       0.032\n",
            "Retirement         0.7814      0.002    316.101      0.000       0.777       0.786\n",
            "Other_Benefits     0.2199      0.002     89.935      0.000       0.215       0.225\n",
            "Year_2016          0.1128      0.004     28.166      0.000       0.105       0.121\n",
            "Year_2017          0.1017      0.003     30.344      0.000       0.095       0.108\n",
            "Year_2018          0.0024      0.003      0.729      0.466      -0.004       0.009\n",
            "==============================================================================\n",
            "Omnibus:                    14781.377   Durbin-Watson:                   1.964\n",
            "Prob(Omnibus):                  0.000   Jarque-Bera (JB):           937317.760\n",
            "Skew:                           1.922   Prob(JB):                         0.00\n",
            "Kurtosis:                      31.981   Cond. No.                         5.79\n",
            "==============================================================================\n",
            "\n",
            "Notes:\n",
            "[1] Standard Errors assume that the covariance matrix of the errors is correctly specified.\n"
          ]
        }
      ],
      "source": [
        "# drop the insignificant variables from the dataframe 'X_train_signi_var'\n",
        "# we drop the variable 'Type_of_yr_Financial', as it is insignificant\n",
        "# 'axis = 1' drops the corresponding column(s)\n",
        "X_train_signi_var = X_train_signi_var.drop(['Type_of_yr_Financial'], axis=1)\n",
        "\n",
        "# drop the insignificant variables from the dataframe 'X_test_signi_var'\n",
        "# 'axis = 1' drops the corresponding column(s)\n",
        "X_test_signi_var = X_test_signi_var.drop(['Type_of_yr_Financial'], axis=1)\n",
        "\n",
        "# building a model on training dataset\n",
        "# fit() is used to fit the OLS model\n",
        "MLR_model_with_significant_var = sm.OLS(y_train_signi_var, X_train_signi_var).fit()\n",
        "\n",
        "# print the summary output\n",
        "print(MLR_model_with_significant_var.summary())"
      ]
    },
    {
      "cell_type": "markdown",
      "metadata": {
        "id": "8liVRvQ6MUS3"
      },
      "source": [
        "**Interpretation:** The R-squared value obtained from this model is 0.962 which means that the above model explains 96.2% of the variation in the Total_Reimbursement.<br>\n",
        "\n",
        "The `Durbin-Watson` test is used to check the autocorrelation between the residuals.\n",
        "\n",
        "If the Durbin-Watson test statistic is near to 2: no autocorrelation<br>\n",
        "If the Durbin-Watson test statistic is between 0 and 2: positive autocorrelation <br>\n",
        "If the Durbin-Watson test statistic is between 2 and 4: negative autocorrelation\n",
        "\n",
        "The summary output shows that the value of the test statistic is close to 2 (= 1.965) which means there is no autocorrelation.\n",
        "\n",
        "The `Jarque-Bera` test is used to check the normality of the residuals. Here, the p-value of the test is less than 0.05; that implies the residuals are not normally distributed.\n",
        "\n",
        "Also, the 'Cond. No' (= 6.03) represents the `Condition Number (CN)` that is used to check the multicollinearity.\n",
        "\n",
        "If CN < 100: no multicollinearity.<br>\n",
        "If CN is between 100 and 1000: moderate multicollinearity<br>\n",
        "If CN > 1000: severe multicollinearity\n",
        "\n",
        "Thus, it can be seen that there is no multicollinearity in the data."
      ]
    },
    {
      "cell_type": "markdown",
      "metadata": {
        "id": "zDNbnUWfMUS3"
      },
      "source": [
        "#### Predict the Total_Reimbursement using X_test_signi_var"
      ]
    },
    {
      "cell_type": "code",
      "execution_count": null,
      "metadata": {
        "id": "0w8GWAq9MUS4"
      },
      "outputs": [],
      "source": [
        "y_pred_signi_var = MLR_model_with_significant_var.predict(X_test_signi_var)"
      ]
    },
    {
      "cell_type": "markdown",
      "metadata": {
        "id": "fxx76liAMUS5"
      },
      "source": [
        "<a id=\"interaction\"></a>\n",
        "### 5.2.3 MLR Model with Interaction Effect"
      ]
    },
    {
      "cell_type": "markdown",
      "metadata": {
        "id": "IODXjYuTMUS5"
      },
      "source": [
        "It occurs when the effect of one variable depends on the other variable. The combined effect of the variables may or may not improve the performance of the model.\n",
        "\n",
        "We consider the combined effect of Other_Income and Other_Benefits."
      ]
    },
    {
      "cell_type": "code",
      "execution_count": null,
      "metadata": {
        "id": "DNLhzX0PMUS6",
        "outputId": "2d93ab39-7e1d-49d7-88eb-7647cfef1492"
      },
      "outputs": [
        {
          "ename": "KeyError",
          "evalue": "'Other_Income'",
          "output_type": "error",
          "traceback": [
            "\u001b[1;31m---------------------------------------------------------------------------\u001b[0m",
            "\u001b[1;31mKeyError\u001b[0m                                  Traceback (most recent call last)",
            "\u001b[1;32m~\\anaconda3\\lib\\site-packages\\pandas\\core\\indexes\\base.py\u001b[0m in \u001b[0;36mget_loc\u001b[1;34m(self, key, method, tolerance)\u001b[0m\n\u001b[0;32m   3360\u001b[0m             \u001b[1;32mtry\u001b[0m\u001b[1;33m:\u001b[0m\u001b[1;33m\u001b[0m\u001b[1;33m\u001b[0m\u001b[0m\n\u001b[1;32m-> 3361\u001b[1;33m                 \u001b[1;32mreturn\u001b[0m \u001b[0mself\u001b[0m\u001b[1;33m.\u001b[0m\u001b[0m_engine\u001b[0m\u001b[1;33m.\u001b[0m\u001b[0mget_loc\u001b[0m\u001b[1;33m(\u001b[0m\u001b[0mcasted_key\u001b[0m\u001b[1;33m)\u001b[0m\u001b[1;33m\u001b[0m\u001b[1;33m\u001b[0m\u001b[0m\n\u001b[0m\u001b[0;32m   3362\u001b[0m             \u001b[1;32mexcept\u001b[0m \u001b[0mKeyError\u001b[0m \u001b[1;32mas\u001b[0m \u001b[0merr\u001b[0m\u001b[1;33m:\u001b[0m\u001b[1;33m\u001b[0m\u001b[1;33m\u001b[0m\u001b[0m\n",
            "\u001b[1;32m~\\anaconda3\\lib\\site-packages\\pandas\\_libs\\index.pyx\u001b[0m in \u001b[0;36mpandas._libs.index.IndexEngine.get_loc\u001b[1;34m()\u001b[0m\n",
            "\u001b[1;32m~\\anaconda3\\lib\\site-packages\\pandas\\_libs\\index.pyx\u001b[0m in \u001b[0;36mpandas._libs.index.IndexEngine.get_loc\u001b[1;34m()\u001b[0m\n",
            "\u001b[1;32mpandas\\_libs\\hashtable_class_helper.pxi\u001b[0m in \u001b[0;36mpandas._libs.hashtable.PyObjectHashTable.get_item\u001b[1;34m()\u001b[0m\n",
            "\u001b[1;32mpandas\\_libs\\hashtable_class_helper.pxi\u001b[0m in \u001b[0;36mpandas._libs.hashtable.PyObjectHashTable.get_item\u001b[1;34m()\u001b[0m\n",
            "\u001b[1;31mKeyError\u001b[0m: 'Other_Income'",
            "\nThe above exception was the direct cause of the following exception:\n",
            "\u001b[1;31mKeyError\u001b[0m                                  Traceback (most recent call last)",
            "\u001b[1;32mC:\\Users\\ARAVIN~1\\AppData\\Local\\Temp/ipykernel_14600/1305127750.py\u001b[0m in \u001b[0;36m<module>\u001b[1;34m\u001b[0m\n\u001b[0;32m      4\u001b[0m \u001b[1;33m\u001b[0m\u001b[0m\n\u001b[0;32m      5\u001b[0m \u001b[1;31m# add the interaction variable in the original data\u001b[0m\u001b[1;33m\u001b[0m\u001b[1;33m\u001b[0m\u001b[0m\n\u001b[1;32m----> 6\u001b[1;33m \u001b[0mdf_interaction\u001b[0m\u001b[1;33m[\u001b[0m\u001b[1;34m'Other_Income*Other_Benefits'\u001b[0m\u001b[1;33m]\u001b[0m \u001b[1;33m=\u001b[0m \u001b[0mdf_interaction\u001b[0m\u001b[1;33m[\u001b[0m\u001b[1;34m'Other_Income'\u001b[0m\u001b[1;33m]\u001b[0m\u001b[1;33m*\u001b[0m\u001b[0mdf_interaction\u001b[0m\u001b[1;33m[\u001b[0m\u001b[1;34m'Other_Benefits'\u001b[0m\u001b[1;33m]\u001b[0m\u001b[1;33m\u001b[0m\u001b[1;33m\u001b[0m\u001b[0m\n\u001b[0m\u001b[0;32m      7\u001b[0m \u001b[1;33m\u001b[0m\u001b[0m\n\u001b[0;32m      8\u001b[0m \u001b[1;31m# print the data with interaction\u001b[0m\u001b[1;33m\u001b[0m\u001b[1;33m\u001b[0m\u001b[0m\n",
            "\u001b[1;32m~\\anaconda3\\lib\\site-packages\\pandas\\core\\frame.py\u001b[0m in \u001b[0;36m__getitem__\u001b[1;34m(self, key)\u001b[0m\n\u001b[0;32m   3456\u001b[0m             \u001b[1;32mif\u001b[0m \u001b[0mself\u001b[0m\u001b[1;33m.\u001b[0m\u001b[0mcolumns\u001b[0m\u001b[1;33m.\u001b[0m\u001b[0mnlevels\u001b[0m \u001b[1;33m>\u001b[0m \u001b[1;36m1\u001b[0m\u001b[1;33m:\u001b[0m\u001b[1;33m\u001b[0m\u001b[1;33m\u001b[0m\u001b[0m\n\u001b[0;32m   3457\u001b[0m                 \u001b[1;32mreturn\u001b[0m \u001b[0mself\u001b[0m\u001b[1;33m.\u001b[0m\u001b[0m_getitem_multilevel\u001b[0m\u001b[1;33m(\u001b[0m\u001b[0mkey\u001b[0m\u001b[1;33m)\u001b[0m\u001b[1;33m\u001b[0m\u001b[1;33m\u001b[0m\u001b[0m\n\u001b[1;32m-> 3458\u001b[1;33m             \u001b[0mindexer\u001b[0m \u001b[1;33m=\u001b[0m \u001b[0mself\u001b[0m\u001b[1;33m.\u001b[0m\u001b[0mcolumns\u001b[0m\u001b[1;33m.\u001b[0m\u001b[0mget_loc\u001b[0m\u001b[1;33m(\u001b[0m\u001b[0mkey\u001b[0m\u001b[1;33m)\u001b[0m\u001b[1;33m\u001b[0m\u001b[1;33m\u001b[0m\u001b[0m\n\u001b[0m\u001b[0;32m   3459\u001b[0m             \u001b[1;32mif\u001b[0m \u001b[0mis_integer\u001b[0m\u001b[1;33m(\u001b[0m\u001b[0mindexer\u001b[0m\u001b[1;33m)\u001b[0m\u001b[1;33m:\u001b[0m\u001b[1;33m\u001b[0m\u001b[1;33m\u001b[0m\u001b[0m\n\u001b[0;32m   3460\u001b[0m                 \u001b[0mindexer\u001b[0m \u001b[1;33m=\u001b[0m \u001b[1;33m[\u001b[0m\u001b[0mindexer\u001b[0m\u001b[1;33m]\u001b[0m\u001b[1;33m\u001b[0m\u001b[1;33m\u001b[0m\u001b[0m\n",
            "\u001b[1;32m~\\anaconda3\\lib\\site-packages\\pandas\\core\\indexes\\base.py\u001b[0m in \u001b[0;36mget_loc\u001b[1;34m(self, key, method, tolerance)\u001b[0m\n\u001b[0;32m   3361\u001b[0m                 \u001b[1;32mreturn\u001b[0m \u001b[0mself\u001b[0m\u001b[1;33m.\u001b[0m\u001b[0m_engine\u001b[0m\u001b[1;33m.\u001b[0m\u001b[0mget_loc\u001b[0m\u001b[1;33m(\u001b[0m\u001b[0mcasted_key\u001b[0m\u001b[1;33m)\u001b[0m\u001b[1;33m\u001b[0m\u001b[1;33m\u001b[0m\u001b[0m\n\u001b[0;32m   3362\u001b[0m             \u001b[1;32mexcept\u001b[0m \u001b[0mKeyError\u001b[0m \u001b[1;32mas\u001b[0m \u001b[0merr\u001b[0m\u001b[1;33m:\u001b[0m\u001b[1;33m\u001b[0m\u001b[1;33m\u001b[0m\u001b[0m\n\u001b[1;32m-> 3363\u001b[1;33m                 \u001b[1;32mraise\u001b[0m \u001b[0mKeyError\u001b[0m\u001b[1;33m(\u001b[0m\u001b[0mkey\u001b[0m\u001b[1;33m)\u001b[0m \u001b[1;32mfrom\u001b[0m \u001b[0merr\u001b[0m\u001b[1;33m\u001b[0m\u001b[1;33m\u001b[0m\u001b[0m\n\u001b[0m\u001b[0;32m   3364\u001b[0m \u001b[1;33m\u001b[0m\u001b[0m\n\u001b[0;32m   3365\u001b[0m         \u001b[1;32mif\u001b[0m \u001b[0mis_scalar\u001b[0m\u001b[1;33m(\u001b[0m\u001b[0mkey\u001b[0m\u001b[1;33m)\u001b[0m \u001b[1;32mand\u001b[0m \u001b[0misna\u001b[0m\u001b[1;33m(\u001b[0m\u001b[0mkey\u001b[0m\u001b[1;33m)\u001b[0m \u001b[1;32mand\u001b[0m \u001b[1;32mnot\u001b[0m \u001b[0mself\u001b[0m\u001b[1;33m.\u001b[0m\u001b[0mhasnans\u001b[0m\u001b[1;33m:\u001b[0m\u001b[1;33m\u001b[0m\u001b[1;33m\u001b[0m\u001b[0m\n",
            "\u001b[1;31mKeyError\u001b[0m: 'Other_Income'"
          ]
        }
      ],
      "source": [
        "df_interaction = df_reimb_dummy.copy()\n",
        "df_interaction = df_interaction.drop(['Type_of_yr_Financial'], axis = 1)\n",
        "\n",
        "\n",
        "# add the interaction variable in the original data\n",
        "df_interaction['Other_Income*Other_Benefits'] = df_interaction['Other_Income']*df_interaction['Other_Benefits']\n",
        "\n",
        "# print the data with interaction\n",
        "df_interaction.head()"
      ]
    },
    {
      "cell_type": "markdown",
      "metadata": {
        "id": "GD18rrceMUS6"
      },
      "source": [
        "We build a multiple linear regression model considering all the significant variables and the interaction variable."
      ]
    },
    {
      "cell_type": "markdown",
      "metadata": {
        "id": "1uOxr6q4MUS7"
      },
      "source": [
        "**Split the data into training and test sets.**"
      ]
    },
    {
      "cell_type": "code",
      "execution_count": null,
      "metadata": {
        "id": "uyu3c8uaMUS7"
      },
      "outputs": [],
      "source": [
        "# set of independent variables\n",
        "# create a copy of 'df_num' and store in the dataframe 'X_inter'\n",
        "X_inter = df_interaction.copy()\n",
        "\n",
        "# dependent variable\n",
        "# create a copy of 'df_target' and store in the dataframe 'y_inter'\n",
        "y_inter = df_target.copy()\n",
        "\n",
        "# to estimate the regression coefficient, a constant term of '1' needs to be added as a separate column\n",
        "# 'sm.add_constant' adds the intercept to the model\n",
        "X_inter = sm.add_constant(X_inter)\n",
        "\n",
        "# split data into train subset and test subset\n",
        "# set 'random_state' to generate the same dataset each time you run the code\n",
        "# 'test_size' returns the proportion of data to be included in the testing set\n",
        "X_train_inter, X_test_inter, y_train_inter, y_test_inter = train_test_split(X_inter, y_inter, random_state=1, test_size = 0.3)\n",
        "\n",
        "# checking the dimensions of the train & test subset\n",
        "# print dimension of train set\n",
        "print('X_train_inter', X_train_inter.shape)\n",
        "print('y_train_inter', y_train_inter.shape)\n",
        "\n",
        "# print dimension of test set\n",
        "print('X_test_inter', X_test_inter.shape)\n",
        "print('y_test_inter', y_test_inter.shape)"
      ]
    },
    {
      "cell_type": "markdown",
      "metadata": {
        "id": "i17lUHdaMUS8"
      },
      "source": [
        "**Build the model using OLS method.**"
      ]
    },
    {
      "cell_type": "code",
      "execution_count": null,
      "metadata": {
        "id": "iCoXxVxUMUS9"
      },
      "outputs": [],
      "source": [
        "# build a model on training dataset\n",
        "# 'sm.add_constant' adds the intercept to the model\n",
        "# fit() is used to fit the OLS model\n",
        "MLR_model_with_interaction = sm.OLS(y_train_inter, X_train_inter).fit()\n",
        "\n",
        "# print the summary output\n",
        "print(MLR_model_with_interaction.summary())"
      ]
    },
    {
      "cell_type": "markdown",
      "metadata": {
        "id": "5ne7JnS7MUS9"
      },
      "source": [
        "**Interpretation:** The model with the interaction variable explains a 96.3% variation in the target variable. Thus, adding the interaction effect to the model with significant variabels increased the R-squared from 0.962 to 0.963.\n",
        "\n",
        "The `Durbin-Watson` test is used to check the autocorrelation between the residuals.\n",
        "\n",
        "If the Durbin-Watson test statistic is near to 2: no autocorrelation<br>\n",
        "If the Durbin-Watson test statistic is between 0 and 2: positive autocorrelation <br>\n",
        "If the Durbin-Watson test statistic is between 2 and 4: negative autocorrelation\n",
        "\n",
        "The summary output shows that the value of the test statistic is near to 2 (=1.972) which means there is no autocorrelation.\n",
        "\n",
        "The `Jarque-Bera` test is used to check the normality of the residuals. Here, the p-value of the test is less than 0.05; that implies the residuals are not normally distributed.\n",
        "\n",
        "The 'Cond. No' (6.06) represents the `Condition Number (CN)` which is used to check the multicollinearity.\n",
        "\n",
        "If CN < 100: no multicollinearity<br>\n",
        "If CN is between 100 and 1000: moderate multicollinearity<br>\n",
        "If CN > 1000: severe multicollinearity\n",
        "\n",
        "Thus, it can be seen that there is severe multicollinearity in the data."
      ]
    },
    {
      "cell_type": "markdown",
      "metadata": {
        "id": "8fuf3y6gMUS-"
      },
      "source": [
        "#### Predict the Total_Reimbursement using X_test_inter"
      ]
    },
    {
      "cell_type": "code",
      "execution_count": null,
      "metadata": {
        "id": "vLrh0PuhMUS-"
      },
      "outputs": [],
      "source": [
        "y_pred_inter = MLR_model_with_interaction.predict(X_test_inter)"
      ]
    },
    {
      "cell_type": "markdown",
      "metadata": {
        "id": "AHnfjz4cMUS_"
      },
      "source": [
        "<a id=\"assum\"></a>\n",
        "## 5.3 Assumptions After MLR Model"
      ]
    },
    {
      "cell_type": "markdown",
      "metadata": {
        "id": "ysjq8kMwMUS_"
      },
      "source": [
        "Now, use the model with significant variabels to check some of the assumptions based on the residuals of linear regression:\n",
        "1. Linear Relationship Between Dependent and Independent Variable\n",
        "2. Autocorrelation\n",
        "3. Heteroscedasticity\n",
        "4. Tests of Normality"
      ]
    },
    {
      "cell_type": "markdown",
      "metadata": {
        "id": "l1vPAZQXMUTA"
      },
      "source": [
        "<a id=\"linear_reln\"></a>\n",
        "### 5.3.1 Linear Relationship between Dependent and Independent Variable"
      ]
    },
    {
      "cell_type": "markdown",
      "metadata": {
        "id": "zPvpI5bqMUTA"
      },
      "source": [
        "An assumption of linear regression is that it should be linear in the parameter. To check the linearity we plot a graph of residuals and each independent variable. If the plot shows no specific pattern then we can conclude the presence of linearity."
      ]
    },
    {
      "cell_type": "code",
      "execution_count": null,
      "metadata": {
        "id": "IdCdDeEWMUTB",
        "scrolled": false
      },
      "outputs": [],
      "source": [
        "# create subplots of scatter plots\n",
        "# pass the number of rows in a subplot to 'nrows'\n",
        "# pass the number of columns in a subplot to 'ncolumns'\n",
        "# set plot size using 'figsize'\n",
        "fig, ax = plt.subplots(nrows = 2, ncols= 2, figsize=(20, 15))\n",
        "\n",
        "# use for loop to create scatter plot for residuals and each independent variable (do not consider the intercept)\n",
        "# 'ax' assigns axes object to draw the plot onto\n",
        "for variable, subplot in zip(X_train_signi_var.columns[1:5], ax.flatten()):\n",
        "    sns.scatterplot(X_train_signi_var[variable], MLR_model_with_significant_var.resid , ax=subplot)\n",
        "\n",
        "# display the plot\n",
        "plt.show()"
      ]
    },
    {
      "cell_type": "markdown",
      "metadata": {
        "id": "SkSFl7acMUTB"
      },
      "source": [
        "**Interpretation:** The above plots show no specific pattern, implies that there is a linearity present in the data."
      ]
    },
    {
      "cell_type": "markdown",
      "metadata": {
        "id": "E1mOevOBMUTC"
      },
      "source": [
        "<a id=\"auto\"></a>\n",
        "### 5.3.2 Autocorrelation"
      ]
    },
    {
      "cell_type": "markdown",
      "metadata": {
        "id": "sm9jgDSZMUTD"
      },
      "source": [
        "We can check the correlation between the residuals using the `Durbin-Watson` test. The value of the test statistic ranges from 0 to 4. The test statistic value near to 2, represents no autocorrelation. The value of the test statistic between 0 and 2 implies positive autocorrelation and the value between 2 and 4 implies negative autocorrelation.\n",
        "\n",
        "Print the summary of the model with significant variables to check the autocorrelation."
      ]
    },
    {
      "cell_type": "code",
      "execution_count": null,
      "metadata": {
        "id": "d1LUhy9IMUTD"
      },
      "outputs": [],
      "source": [
        "# print the model summary\n",
        "print(MLR_model_with_significant_var.summary())"
      ]
    },
    {
      "cell_type": "markdown",
      "metadata": {
        "id": "07Agmzf5MUTE"
      },
      "source": [
        "**Interpretation:** From the above summary, we can observe that the value obtained from the `Durbin-Watson` test statistic is close to 2 (= 1.965). Thus, we conclude that there is no autocorrelation."
      ]
    },
    {
      "cell_type": "markdown",
      "metadata": {
        "id": "G97x4LOsMUTE"
      },
      "source": [
        "<a id=\"sked\"></a>\n",
        "### 5.3.3 Heteroskedasticity"
      ]
    },
    {
      "cell_type": "markdown",
      "metadata": {
        "id": "Ht1cejUJMUTF"
      },
      "source": [
        "If the residuals have constant variance across different values of the predicted values, then it is known as `Homoskedasticity`. The absence of homoskedasticity is known as, heteroskedasticity. One of the assumptions of linear regression is that heteroskedasticity should not be present. Let us study two different tests to check the presence of  heteroskedasticity."
      ]
    },
    {
      "cell_type": "markdown",
      "metadata": {
        "id": "Pc9KQp9yMUTF"
      },
      "source": [
        "Breusch-Pagan is one of the tests for detecting heteroskedasticity in the residuals.<br>\n",
        "The test hypothesis for the Breusch-Pagan test is given as:\n",
        "<p style='text-indent:25em'> <strong> H<sub>o</sub>:  There is homoscedasticity present in the data </strong> </p>\n",
        "<p style='text-indent:25em'> <strong> H<sub>1</sub>:  There is a heteroscedasticity present in the data </strong> </p>"
      ]
    },
    {
      "cell_type": "code",
      "execution_count": null,
      "metadata": {
        "id": "JYC5IPnoMUTG"
      },
      "outputs": [],
      "source": [
        "# create vector of result parmeters\n",
        "name = ['f-value','p-value']\n",
        "\n",
        "# perform Breusch-Pagan test using residuals and independent variables\n",
        "# compute residuals using 'resid'\n",
        "# 'exog' returns the independent variables in the model alng with the intercept\n",
        "test = sms.het_breuschpagan(MLR_model_with_significant_var.resid, MLR_model_with_significant_var.model.exog)\n",
        "\n",
        "# print the output\n",
        "# use 'lzip' to zip the column names and test results\n",
        "# use 'test[2:]' to retrieve the F-statistic and its corresponding p-value\n",
        "lzip(name, test[2:])"
      ]
    },
    {
      "cell_type": "markdown",
      "metadata": {
        "id": "782XP6u4MUTH"
      },
      "source": [
        "**Interpretation:** We observe that the p-value is less than 0.05; thus, we conclude that there is heteroskedasticity present in the data."
      ]
    },
    {
      "cell_type": "markdown",
      "metadata": {
        "id": "Yo24BwvcMUTH"
      },
      "source": [
        "<a id=\"normality\"></a>\n",
        "### 5.3.4 Tests for Normality"
      ]
    },
    {
      "cell_type": "markdown",
      "metadata": {
        "id": "iMsThs5lMUTI"
      },
      "source": [
        "As per the assumptions of linear regression, residuals should be normally distributed. If the target variable is normally distributed then the residuals are also normally distributed, thus we check the normality only for the target variable."
      ]
    },
    {
      "cell_type": "markdown",
      "metadata": {
        "id": "JYjdLLZKMUTI"
      },
      "source": [
        "<a id=\"qq\"></a>\n",
        "#### 1. Q-Q Plot"
      ]
    },
    {
      "cell_type": "markdown",
      "metadata": {
        "id": "pJH2xI7OMUTJ"
      },
      "source": [
        "Q-Q plot is s visualization technique to check the normality of the residuals. It plots the quantiles of observed data versus the quantiles of the standard normal distribution."
      ]
    },
    {
      "cell_type": "code",
      "execution_count": null,
      "metadata": {
        "id": "cRFxKmc_MUTJ",
        "scrolled": false
      },
      "outputs": [],
      "source": [
        "# set the plot size using 'rcParams'\n",
        "# once the plot size is set using 'rcParams', it sets the size of all the forthcoming plots in the file\n",
        "# pass width and height in inches to 'figure.figsize'\n",
        "plt.rcParams['figure.figsize'] = [15,8]\n",
        "\n",
        "# plot the Q-Q plot\n",
        "# 'r' represents the regression line\n",
        "qqplot(MLR_model_with_significant_var.resid, line = 'r')\n",
        "\n",
        "# set plot and axes labels\n",
        "# set text size using 'fontsize'\n",
        "plt.title('Q-Q Plot', fontsize = 15)\n",
        "plt.xlabel('Theoretical Quantiles', fontsize = 15)\n",
        "plt.ylabel('Sample Quantiles', fontsize = 15)\n",
        "\n",
        "# display the plot\n",
        "plt.show()"
      ]
    },
    {
      "cell_type": "markdown",
      "metadata": {
        "id": "pfIlV3OkMUTK"
      },
      "source": [
        "**Interpretation:** The diagonal line (red line) is the regression line and the blue points are the cumulative distribution of the residuals. As some of the points are away from the diagonal line, we conclude that the residuals do not follow a `normal distribution`."
      ]
    },
    {
      "cell_type": "markdown",
      "metadata": {
        "id": "W6YvjsGtMUTL"
      },
      "source": [
        "<a id=\"SWT\"></a>\n",
        "#### 2. Shapiro Wilk Test"
      ]
    },
    {
      "cell_type": "markdown",
      "metadata": {
        "id": "4qRgx9P_MUTM"
      },
      "source": [
        "The Shapiro Wilk test is used to check the normality of the residuals. The test hypothesis is given as:<br>\n",
        "\n",
        "<p style='text-indent:25em'> <strong> H<sub>o</sub>:  Residuals are normally distributed </strong> </p>\n",
        "<p style='text-indent:25em'> <strong> H<sub>1</sub>:  Residuals are not normally distributed </strong> </p>"
      ]
    },
    {
      "cell_type": "code",
      "execution_count": null,
      "metadata": {
        "id": "DllbG-bkMUTM"
      },
      "outputs": [],
      "source": [
        "# perform Shapiro Wilk test using 'shapiro()' from scipy library\n",
        "# shapiro() returns a tuple having the values of test statistics and the corresponding p-value\n",
        "# 'resid' returns the residuals in the model\n",
        "# pass the residuals to 'shapiro()'\n",
        "stat, p_value = shapiro(MLR_model_with_significant_var.resid)\n",
        "\n",
        "# print the test statistic and corresponding p-value\n",
        "print('Test statistic:', stat)\n",
        "print('P-Value:', p_value)"
      ]
    },
    {
      "cell_type": "markdown",
      "metadata": {
        "id": "mUh1Jq1xMUTN"
      },
      "source": [
        "**Interpretation:** From the above test we can see that the p-value is 0.0 (less than 0.05), thus we can say that the residuals are not normally distributed."
      ]
    },
    {
      "cell_type": "markdown",
      "metadata": {
        "id": "ubJJLlRqMUTO"
      },
      "source": [
        "<a id=\"eval\"></a>\n",
        "# 6. Model Evaluation"
      ]
    },
    {
      "cell_type": "markdown",
      "metadata": {
        "id": "-Xo_SFepMUTO"
      },
      "source": [
        "In this section, we evaluate the model containing significant variables.\n",
        "\n",
        "Let us print the summary of the multiple regression model."
      ]
    },
    {
      "cell_type": "code",
      "execution_count": null,
      "metadata": {
        "id": "GXPaub98MUTP"
      },
      "outputs": [],
      "source": [
        "# print the model summary\n",
        "print(MLR_model_with_significant_var.summary())"
      ]
    },
    {
      "cell_type": "markdown",
      "metadata": {
        "id": "WWxu6VrYMUTP"
      },
      "source": [
        "<a id=\"R_squared\"></a>\n",
        "## 6.1 R-Squared"
      ]
    },
    {
      "cell_type": "markdown",
      "metadata": {
        "id": "pRaXPP4-MUTQ"
      },
      "source": [
        "The coefficient of determination explains the percentage of variation in the dependent variable that the independent variables explain collectively."
      ]
    },
    {
      "cell_type": "code",
      "execution_count": null,
      "metadata": {
        "id": "arBvyqLEMUTd"
      },
      "outputs": [],
      "source": [
        "# calculate R-Squared on train dataset\n",
        "# use 'rsquared' from statsmodel\n",
        "r_sq_mlr = MLR_model_with_significant_var.rsquared\n",
        "\n",
        "# print the value\n",
        "r_sq_mlr"
      ]
    },
    {
      "cell_type": "markdown",
      "metadata": {
        "id": "36BldY84MUTe"
      },
      "source": [
        "**Interpretation:** The value of R-squared is 0.963. Thus, we conclude that the 96.3% variation in the Total_Reimbursement is explained by the model. We can also obtain this value from the summary of the model."
      ]
    },
    {
      "cell_type": "markdown",
      "metadata": {
        "id": "QjBR8SkyMUTe"
      },
      "source": [
        "<a id=\"Adj_R_test\"></a>\n",
        "## 6.2 Adjusted R-Squared"
      ]
    },
    {
      "cell_type": "markdown",
      "metadata": {
        "id": "8OHJYEsVMUTf"
      },
      "source": [
        "It explains the percentage of variation by the independent variables that affect the target variable. The value of adjusted R-squared is always less than R-squared."
      ]
    },
    {
      "cell_type": "code",
      "execution_count": null,
      "metadata": {
        "id": "NPCzdtLoMUTf"
      },
      "outputs": [],
      "source": [
        "# calculate adjusted R-Squared on train dataset\n",
        "# use 'rsquared_adj' from statsmodel\n",
        "adj_r_sq = MLR_model_with_significant_var.rsquared_adj\n",
        "\n",
        "# print the value\n",
        "adj_r_sq"
      ]
    },
    {
      "cell_type": "markdown",
      "metadata": {
        "id": "tYtAyzKkMUTg"
      },
      "source": [
        "Now, we can also calculate the adjusted R-Squared value using the formula **1 - (((1 - R-Squared) * (n - 1)) / (n - k - 1))**.\n",
        "\n",
        "Where,<br>k: Number of beta coefficients <br>\n",
        "n: Total number of observations"
      ]
    },
    {
      "cell_type": "code",
      "execution_count": null,
      "metadata": {
        "id": "VIS3_E6BMUTh"
      },
      "outputs": [],
      "source": [
        "# calculate adjusted R-Squared on train dataset using the formula\n",
        "# 'n' denotes total number of observations\n",
        "n = len(X_train_signi_var)\n",
        "\n",
        "# 'k' denotes number of predictors (including the intercept)\n",
        "k = len(X_train_signi_var.columns)\n",
        "\n",
        "# calculate adjusted R-squared\n",
        "# 'r_sq_mlr' represents the R-Squared value\n",
        "adj_r_sq = 1 - (((1 - r_sq_mlr) * (n - 1)) / (n - k - 1))\n",
        "\n",
        "# print the value\n",
        "adj_r_sq"
      ]
    },
    {
      "cell_type": "markdown",
      "metadata": {
        "id": "7Y-6b3AOMUTh"
      },
      "source": [
        "**Interpretation:** We can see that the value of adjusted R-squared calculated using the formula and the one obtained from the model are nearly same. We can also obtain this value from the summary of the model."
      ]
    },
    {
      "cell_type": "markdown",
      "metadata": {
        "id": "rPSmMRXEMUTi"
      },
      "source": [
        "<a id=\"overall\"></a>\n",
        "## 6.3 Overall F-Test & p-value of the Model"
      ]
    },
    {
      "cell_type": "markdown",
      "metadata": {
        "id": "5-uQ3EJUMUTi"
      },
      "source": [
        "F-test is used to checking whether the overall regression model is statistically significant or not. The F-statistic is given as:\n",
        "\n",
        "<p style = 'text-indent:25em'> <strong> f_value = (R-squared / (k-1)) / ((1- R-squared) / n - k) </strong>  </p>\n",
        "\n",
        "Where,\n",
        "\n",
        "k: Number of beta coefficients <br>\n",
        "n: Total number of observations\n",
        "\n",
        "The test hypothesis for F-test is given as:\n",
        "<p style='text-indent:25em'> <strong> H<sub>o</sub>: All β's are equal to zero </strong> (i.e. regression model is not significant) </p>\n",
        "<p style='text-indent:25em'> <strong> H<sub>1</sub>: At least one β is not equal to zero </strong> (i.e. regression model is significant) </p>\n"
      ]
    },
    {
      "cell_type": "code",
      "execution_count": null,
      "metadata": {
        "id": "eMrsOL4hMUTj"
      },
      "outputs": [],
      "source": [
        "# compute f_value using the below formula\n",
        "# f_value = (r_sq / k-1)/((1- r_sq)/n-k)\n",
        "\n",
        "# k = number of beta coefficients\n",
        "k = len(X_train_signi_var.columns)\n",
        "\n",
        "# n = number of observations\n",
        "n = len(X_train_signi_var)\n",
        "\n",
        "# calculate value of F-statistic\n",
        "# 'r_sq_mlr' represents the R-Squared value\n",
        "f_value = (r_sq_mlr / (k - 1))/((1-r_sq_mlr)/(n - k))\n",
        "\n",
        "# print the value\n",
        "f_value"
      ]
    },
    {
      "cell_type": "markdown",
      "metadata": {
        "id": "jVtgDuWVMUTj"
      },
      "source": [
        "We can also obtain this value from the summary of the model.\n",
        "\n",
        "Now, calculate the corresponding p-value for F-statistic."
      ]
    },
    {
      "cell_type": "code",
      "execution_count": null,
      "metadata": {
        "id": "FvqVM11YMUTk",
        "scrolled": false
      },
      "outputs": [],
      "source": [
        "# calculate p-value for F-statistic\n",
        "# use 'sf' (Survival function) from f-distribution to calculate the corresponding p-value\n",
        "\n",
        "# degrees of freedom\n",
        "# dfn = k-1 = 6-1 = 5\n",
        "# dfd = n-k = 1043-5 = 1038\n",
        "p_val = stats.f.sf(f_value, dfn = 5, dfd = 1038)\n",
        "\n",
        "# print the value\n",
        "p_val"
      ]
    },
    {
      "cell_type": "markdown",
      "metadata": {
        "id": "CdN4m-3zMUTk"
      },
      "source": [
        "**Interpretation:** As, the p-value is less than 0.05, we accept the alternate hypothesis; i.e. the model is significant."
      ]
    },
    {
      "cell_type": "markdown",
      "metadata": {
        "id": "RAqxqwiMMUTl"
      },
      "source": [
        "<a id=\"ml_perf\"></a>\n",
        "# 7. Model Performance"
      ]
    },
    {
      "cell_type": "markdown",
      "metadata": {
        "id": "6JF4q8tWMUTl"
      },
      "source": [
        "#### Let us do some predictions using the train and test dataset."
      ]
    },
    {
      "cell_type": "code",
      "execution_count": null,
      "metadata": {
        "id": "8VMeUAqEMUTl"
      },
      "outputs": [],
      "source": [
        "# For training set:\n",
        "# train_pred: prediction made by the model on the training dataset 'X_train_signi_var'\n",
        "# y_train_signi_var: actual values of the target variable for the train dataset\n",
        "\n",
        "# For testing set:\n",
        "# test_pred: prediction made by the model on the test dataset 'X_test_signi_var'\n",
        "# y_test_signi_var: actual values of the target variable for the test dataset\n",
        "\n",
        "# predict the output of the target variable from the train data\n",
        "# train_pred can also be obtained from \"MLR_model_with_significant_var.fittedvalues\"\n",
        "train_pred = MLR_model_with_significant_var.predict(X_train_signi_var)\n",
        "\n",
        "# predict the output of the target variable from the test data\n",
        "test_pred = MLR_model_with_significant_var.predict(X_test_signi_var)"
      ]
    },
    {
      "cell_type": "markdown",
      "metadata": {
        "id": "uUIFqKvqMUTm"
      },
      "source": [
        "<a id=\"mse\"></a>\n",
        "## 7.1 Mean Squared Error (MSE)"
      ]
    },
    {
      "cell_type": "markdown",
      "metadata": {
        "id": "SXgI5uU1MUTm"
      },
      "source": [
        "It is defined as the average squared difference between the actual and predicted values."
      ]
    },
    {
      "cell_type": "code",
      "execution_count": null,
      "metadata": {
        "id": "zZrM-CReMUTn"
      },
      "outputs": [],
      "source": [
        "# calculate the MSE using the \"mean_squared_error\" function\n",
        "\n",
        "# calculate the MSE for the train data\n",
        "# round the value upto 4 digits using 'round()'\n",
        "mse_train = round(mean_squared_error(y_train_signi_var, train_pred),4)\n",
        "\n",
        "# print the MSE for the training set\n",
        "print(\"Mean Squared Error (MSE) on training set: \", mse_train)\n",
        "\n",
        "# calculate the MSE for the test data\n",
        "# round the value upto 4 digits using 'round()'\n",
        "mse_test = round(mean_squared_error(y_test_signi_var, test_pred),4)\n",
        "\n",
        "# print the MSE for the test set\n",
        "print(\"Mean Squared Error (MSE) on test set: \", mse_test)"
      ]
    },
    {
      "cell_type": "markdown",
      "metadata": {
        "id": "bdLLmL7uMUTn"
      },
      "source": [
        "<a id=\"rmse\"></a>\n",
        "## 7.2 Root Mean Squared Error (RMSE)"
      ]
    },
    {
      "cell_type": "markdown",
      "metadata": {
        "id": "7YmFhFq_MUTo"
      },
      "source": [
        "It is defined as the square root of MSE. Lower the value of RMSE, better is the fit of the regression line."
      ]
    },
    {
      "cell_type": "code",
      "execution_count": null,
      "metadata": {
        "id": "VB3YZg2gMUTo"
      },
      "outputs": [],
      "source": [
        "# calculate the MSE using the \"mean_squared_error\" function\n",
        "\n",
        "# MSE for the train data\n",
        "mse_train = mean_squared_error(y_train_signi_var, train_pred)\n",
        "\n",
        "# take the square root of the MSE to calculate the RMSE\n",
        "# round the value upto 4 digits using 'round()'\n",
        "rmse_train = round(np.sqrt(mse_train), 4)\n",
        "\n",
        "# print the RMSE for the train set\n",
        "print(\"Root Mean Squared Error (RMSE) on training set: \", rmse_train)\n",
        "\n",
        "# MSE for the test data\n",
        "mse_test = mean_squared_error(y_test_signi_var, test_pred)\n",
        "\n",
        "# take the square root of the MSE to calculate the RMSE\n",
        "# round the value upto 4 digits using 'round()'\n",
        "rmse_test = round(np.sqrt(mse_test), 4)\n",
        "\n",
        "# print the RMSE for the test set\n",
        "print(\"Root Mean Squared Error (RMSE) on test set: \", rmse_test)"
      ]
    },
    {
      "cell_type": "markdown",
      "metadata": {
        "id": "iwkcAUFYMUTp"
      },
      "source": [
        "<a id=\"mae\"></a>\n",
        "## 7.3 Mean Absolute Error (MAE)"
      ]
    },
    {
      "cell_type": "markdown",
      "metadata": {
        "id": "8CzUJvdVMUTp"
      },
      "source": [
        "It is defined as the average of the absolute difference between the actual and predicted values."
      ]
    },
    {
      "cell_type": "code",
      "execution_count": null,
      "metadata": {
        "id": "nu2Wpq_FMUTq"
      },
      "outputs": [],
      "source": [
        "# calculate the MAE using the \"mean_absolute_error\" function\n",
        "\n",
        "# calculate the MAE for the train data\n",
        "# round the value upto 4 digits using 'round()'\n",
        "mae_train = round(mean_absolute_error(y_train_signi_var, train_pred),4)\n",
        "\n",
        "# print the MAE for the training set\n",
        "print(\"Mean Absolute Error (MAE) on training set: \", mae_train)\n",
        "\n",
        "# calculate the MAE for the test data\n",
        "# round the value upto 4 digits using 'round()'\n",
        "mae_test = round(mean_absolute_error(y_test_signi_var, test_pred),4)\n",
        "\n",
        "# print the MAE for the test set\n",
        "print(\"Mean Absolute Error (MAE) on test set: \", mae_test)"
      ]
    },
    {
      "cell_type": "markdown",
      "metadata": {
        "id": "gCBAjUDLMUTq"
      },
      "source": [
        "<a id=\"mape\"></a>\n",
        "## 7.4 Mean Absolute Percentage Error (MAPE)"
      ]
    },
    {
      "cell_type": "markdown",
      "metadata": {
        "id": "rrMSGmdnMUTr"
      },
      "source": [
        "It is used to measure the accuracy of the model as a percentage. We define a function to calculate MAPE for training and test dataset."
      ]
    },
    {
      "cell_type": "code",
      "execution_count": null,
      "metadata": {
        "id": "WAlBJNtnMUTr"
      },
      "outputs": [],
      "source": [
        "# define a function to calculate MAPE\n",
        "# pass the actual and predicted values as input to the function\n",
        "# return the calculated MAPE\n",
        "def mape(actual, predicted):\n",
        "    return (np.mean(np.abs((actual - predicted) / actual)) * 100)"
      ]
    },
    {
      "cell_type": "code",
      "execution_count": null,
      "metadata": {
        "id": "LLTYq-BFMUTs",
        "scrolled": true
      },
      "outputs": [],
      "source": [
        "# calculate the mape using the \"mape()\" function created above\n",
        "\n",
        "# calculate the MAPE for the train data\n",
        "# round the value upto 4 digits using 'round()'\n",
        "mape_train = round(mape(y_train_signi_var, train_pred),4)\n",
        "\n",
        "# print the MAPE for the training set\n",
        "print(\"Mean Absolute Percentage Error (MAPE) on training set: \", mape_train)\n",
        "\n",
        "# calculate the MAPE for the test data\n",
        "# round the value upto 4 digits using 'round()'\n",
        "mape_test = round(mape(y_test_signi_var, test_pred),4)\n",
        "\n",
        "# print the MAPE for the test set\n",
        "print(\"Mean Absolute Percentage Error (MAPE) on test set: \", mape_test)"
      ]
    },
    {
      "cell_type": "markdown",
      "metadata": {
        "id": "Od7lc3HiMUTs"
      },
      "source": [
        "<a id=\"compare\"></a>\n",
        "# 8. Compare Model Performances"
      ]
    },
    {
      "cell_type": "markdown",
      "metadata": {
        "id": "d81s1H1LMUTt"
      },
      "source": [
        "Let us compare the model performance metrics (MSE, RMSE, MAE, MAPE) for `MLR_full_model`, `MLR_model_with_significant_var` and `MLR_interaction_model` to find the best model."
      ]
    },
    {
      "cell_type": "code",
      "execution_count": null,
      "metadata": {
        "id": "YBjI4JRWMUTt"
      },
      "outputs": [],
      "source": [
        "# create the table for all the model performance metrics\n",
        "# metrics considered for model comparision are MSE, RMSE, MAE and MAPE\n",
        "# create a list of column names\n",
        "cols = ['Model_Name', 'R-squared', 'Adj. R-squared', 'MSE', 'RMSE', 'MAE', 'MAPE']\n",
        "\n",
        "# creating a empty dataframe of the colums\n",
        "result_table = pd.DataFrame(columns = cols)"
      ]
    },
    {
      "cell_type": "markdown",
      "metadata": {
        "id": "K4VHCtrKMUTt"
      },
      "source": [
        "Now, calculate performance measure for `MLR_full_model`"
      ]
    },
    {
      "cell_type": "code",
      "execution_count": null,
      "metadata": {
        "id": "7FXAYbY1MUTu"
      },
      "outputs": [],
      "source": [
        "# calculate R-squared, Adjusted R-squared, MSE, RMSE, MAE and MAPE for full model\n",
        "# use 'rsquared' to calculate R-squared value\n",
        "# use 'rsquared_adj' to calculate Adjusted R-squared value\n",
        "# use 'mean_squared_error' to calculate MSE\n",
        "# use 'rmse' to calculate RMSE\n",
        "# use 'mean_absolute_error' to calculate MAE\n",
        "# use the defined function 'mape' to calculate MAPE\n",
        "MLR_full_model_metrics = pd.Series({'Model_Name': \"MLR Full Model\",\n",
        "                     'R-squared': MLR_full_model.rsquared,\n",
        "                     'Adj. R-squared': MLR_full_model.rsquared_adj,\n",
        "                     'MSE': mean_squared_error(y_test_full, y_pred_full),\n",
        "                     'RMSE': rmse(y_test_full, y_pred_full),\n",
        "                     'MAE': mean_absolute_error(y_test_full, y_pred_full),\n",
        "                     'MAPE': mape(y_test_full, y_pred_full)\n",
        "                   })\n",
        "\n",
        "# append the values to the result table\n",
        "result_table = result_table.append(MLR_full_model_metrics, ignore_index = True)\n",
        "\n",
        "# print the result table\n",
        "result_table"
      ]
    },
    {
      "cell_type": "markdown",
      "metadata": {
        "id": "Ptm-sIahMUTu"
      },
      "source": [
        "Now, calculate performance measure for `MLR_model_with_significant_var`"
      ]
    },
    {
      "cell_type": "code",
      "execution_count": null,
      "metadata": {
        "id": "Q4M0Dy0IMUTv"
      },
      "outputs": [],
      "source": [
        "# calculate R-squared, Adjusted R-squared, MSE, RMSE, MAE and MAPE for model with significant variables\n",
        "# use 'rsquared' to calculate R-squared value\n",
        "# use 'rsquared_adj' to calculate Adjusted R-squared value\n",
        "# use 'mean_squared_error' to calculate MSE\n",
        "# use 'rmse' to calculate RMSE\n",
        "# use 'mean_absolute_error' to calculate MAE\n",
        "# use the defined function 'mape' to calculate MAPE\n",
        "MLR_model_signi_var_metrics = pd.Series({'Model_Name': \"MLR Model with Significant Variables\",\n",
        "                     'R-squared': MLR_model_with_significant_var.rsquared,\n",
        "                     'Adj. R-squared': MLR_model_with_significant_var.rsquared_adj,\n",
        "                     'MSE': mean_squared_error(y_test_signi_var, y_pred_signi_var),\n",
        "                     'RMSE': rmse(y_test_signi_var, y_pred_signi_var),\n",
        "                     'MAE': mean_absolute_error(y_test_signi_var, y_pred_signi_var),\n",
        "                     'MAPE': mape(y_test_signi_var, y_pred_signi_var)\n",
        "                   })\n",
        "\n",
        "# append the values to the result table\n",
        "result_table = result_table.append(MLR_model_signi_var_metrics, ignore_index = True)\n",
        "\n",
        "# print the result table\n",
        "result_table"
      ]
    },
    {
      "cell_type": "markdown",
      "metadata": {
        "id": "UjNE4Q5UMUTw"
      },
      "source": [
        "Now, calculate the performance measures for `MLR_model_with_interaction`"
      ]
    },
    {
      "cell_type": "code",
      "execution_count": null,
      "metadata": {
        "id": "bVoB9HBFMUTw"
      },
      "outputs": [],
      "source": [
        "# calculate R-squared, Adjusted R-squared, MSE, RMSE, MAE and MAPE for model with interaction\n",
        "# use 'rsquared' to calculate R-squared value\n",
        "# use 'rsquared_adj' to calculate Adjusted R-squared value\n",
        "# use 'mean_squared_error' to calculate MSE\n",
        "# use 'rmse' to calculate RMSE\n",
        "# use 'mean_absolute_error' to calculate MAE\n",
        "# use the defined function 'mape' to calculate MAPE\n",
        "MLR_model_interaction_metrics = pd.Series({'Model_Name': \"MLR Model with Interaction\",\n",
        "                     'R-squared': MLR_model_with_interaction.rsquared,\n",
        "                     'Adj. R-squared': MLR_model_with_interaction.rsquared_adj,\n",
        "                     'MSE': mean_squared_error(y_test_inter, y_pred_inter),\n",
        "                     'RMSE': rmse(y_test_inter, y_pred_inter),\n",
        "                     'MAE': mean_absolute_error(y_test_inter, y_pred_inter),\n",
        "                     'MAPE': mape(y_test_inter, y_pred_inter)\n",
        "                   })\n",
        "\n",
        "# append the values to the result table\n",
        "result_table = result_table.append(MLR_model_interaction_metrics, ignore_index = True)\n",
        "\n",
        "# print the result table\n",
        "result_table"
      ]
    },
    {
      "cell_type": "raw",
      "metadata": {
        "id": "k9UCKuVBMUTx"
      },
      "source": [
        "**Interpretation:** The R-Squared and the Adj. R-Squared for the full model (=1) indicates that the model perfectly fits the data which is not practical and also the model is likely to overfit. Thus, MLR Full Model cannot be considered as the best model.<br>\n",
        "\n",
        "Overfitting occurs when a model learns the detail and noise in the training data to the extent that it adversely impacts the model's performance on the new data. We will learn about overfitting in the upcoming portion.<br>\n",
        "\n",
        "On the other hand, R-Squared and the Adj. R-Squared for the MLR Model with Interaction is more than the MLR Model with Significant Variables. Also, the RMSE value for the MLR Model with Interaction is less as compared to that of MLR Model with Significant Variables.<br>\n",
        "Thus, we can say that the MLR Model with Interaction is the best model.\n",
        "\n"
      ]
    }
  ],
  "metadata": {
    "colab": {
      "collapsed_sections": [
        "zpBNdpypMUFe",
        "6szKrM-oMUFg",
        "i2LRPlnnMUFh",
        "cs_R-5qXMUFj",
        "p1rLnh56MUFn",
        "GD4WmP0tMUFp",
        "c9B8h6-oMUFr",
        "4dOGxs-yMUFs",
        "Jzch-iXtMUFt",
        "Ic9qO2hQMUFy",
        "cKApqcntMUFz",
        "Y0AwoP7dMUF0",
        "0ymE7jgwMUF1",
        "bp4qoSJeMUF2",
        "QRTCro4fMUF4",
        "U5lDfSI8MUF7",
        "hUsuUyEQMUF8",
        "0fkWK6G2MUF9",
        "U2TQnkPNMUGA",
        "w64JRqi_MUGC",
        "TB0N5XFdMUGE",
        "oSneJy0HMUGG",
        "dChnRB90MUGH",
        "COKMyxZWMUGR",
        "iZxLqTkxMUGX",
        "60eUKC_HMUGa",
        "TAkKFDMQMUGh",
        "rOlTiDVsMUGi",
        "lqsd3LYFMUGk",
        "L6ufHyUBMUGq",
        "bSo_4c8mMUGs",
        "sPHK6vIrMUGx",
        "942QVob_MUG1",
        "yx6bCC-UMUG2",
        "ma1M_HviMUSq",
        "yKx1_mlWMUSt",
        "ojNEEqq6MUSy",
        "i9sdjxwYMUS0",
        "zDNbnUWfMUS3",
        "fxx76liAMUS5",
        "8fuf3y6gMUS-",
        "AHnfjz4cMUS_",
        "l1vPAZQXMUTA",
        "E1mOevOBMUTC",
        "G97x4LOsMUTE",
        "Yo24BwvcMUTH",
        "JYjdLLZKMUTI",
        "W6YvjsGtMUTL",
        "WWxu6VrYMUTP",
        "QjBR8SkyMUTe",
        "rPSmMRXEMUTi",
        "6JF4q8tWMUTl",
        "uUIFqKvqMUTm",
        "bdLLmL7uMUTn",
        "iwkcAUFYMUTp",
        "gCBAjUDLMUTq"
      ],
      "provenance": [],
      "include_colab_link": true
    },
    "kernelspec": {
      "display_name": "Python 3 (ipykernel)",
      "language": "python",
      "name": "python3"
    },
    "language_info": {
      "codemirror_mode": {
        "name": "ipython",
        "version": 3
      },
      "file_extension": ".py",
      "mimetype": "text/x-python",
      "name": "python",
      "nbconvert_exporter": "python",
      "pygments_lexer": "ipython3",
      "version": "3.9.7"
    }
  },
  "nbformat": 4,
  "nbformat_minor": 0
}